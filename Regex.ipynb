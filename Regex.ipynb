{
 "cells": [
  {
   "cell_type": "code",
   "execution_count": null,
   "metadata": {},
   "outputs": [],
   "source": [
    "#Regular expression:\n",
    "\n",
    "#part1: all language\n",
    "#part2: how to apply in python\n",
    "\n",
    "\n",
    "grep -irn \"file_name.*\"\n",
    "\n",
    "select * from table where id like \"value_%\";\n",
    "\n"
   ]
  },
  {
   "cell_type": "code",
   "execution_count": null,
   "metadata": {},
   "outputs": [],
   "source": [
    "#https://regex101.com/\n",
    "#https://www.programiz.com/python-programming/regex\n",
    "\n",
    "\n",
    "\n"
   ]
  },
  {
   "cell_type": "code",
   "execution_count": null,
   "metadata": {},
   "outputs": [],
   "source": [
    "Advantage of regex\n",
    "\n",
    "# Log parsing \n",
    "# Password check, email id , phone number,  \n",
    "# Resume parser, Generator \n",
    "\n",
    "#regular expression\n",
    "\n",
    "import re\n",
    "\n",
    "\n",
    "\\d"
   ]
  },
  {
   "cell_type": "code",
   "execution_count": null,
   "metadata": {},
   "outputs": [],
   "source": [
    "i have icecreams\n",
    "we have two python version\n",
    "istanbul is a country or city ?"
   ]
  },
  {
   "cell_type": "code",
   "execution_count": null,
   "metadata": {},
   "outputs": [],
   "source": [
    "\\A ==> string start\n",
    "\\Z ===> string end\n",
    "\n",
    "\n",
    "\\d\n",
    "\\D\n",
    "\\w\n",
    "\\W\n",
    "\\s\n",
    "\\S\n",
    "\n",
    "\\b\n",
    "\\B\n"
   ]
  },
  {
   "cell_type": "code",
   "execution_count": null,
   "metadata": {},
   "outputs": [],
   "source": [
    "Quantifiers:\n",
    "    \n",
    "+ 1 or above\n",
    "* 0 or above\n",
    "? 0 or 1\n",
    "{} number limitation\n",
    " \n",
    "^ starts with\n",
    "$ ends with\n",
    "\n",
    "\n",
    ". ==> matches everything except new line\n"
   ]
  },
  {
   "cell_type": "code",
   "execution_count": null,
   "metadata": {},
   "outputs": [],
   "source": [
    "[]\n",
    "^\n",
    "$\n",
    "[^]\n",
    "[0-9A-Za-z]\n"
   ]
  },
  {
   "cell_type": "code",
   "execution_count": null,
   "metadata": {},
   "outputs": [],
   "source": [
    "15.0.0.1 starts a service\n",
    "service is going on 15.0.0.1\n",
    "15.0.0.220 starts a service\n",
    "service ends for 15.0.0.1\n",
    "service is going on for 15.0.0.220ANIMAL99889959\n",
    "123.21.AA.21\n",
    "\n",
    "\\d{1,3}\\.\\d{1,3}\\.\\d{1,3}\\.\\d{1,3}"
   ]
  },
  {
   "cell_type": "code",
   "execution_count": null,
   "metadata": {},
   "outputs": [],
   "source": [
    "1) Complete the project\n",
    "2) Read https://www.programiz.com/python-programming/regex\n",
    "3) Hackerrank regex track 10 + pgms"
   ]
  },
  {
   "cell_type": "code",
   "execution_count": 1,
   "metadata": {},
   "outputs": [],
   "source": [
    "\n",
    "\n",
    "import re"
   ]
  },
  {
   "cell_type": "code",
   "execution_count": 2,
   "metadata": {},
   "outputs": [
    {
     "name": "stdout",
     "output_type": "stream",
     "text": [
      "['15----08----1947', '26----01----1950']\n"
     ]
    }
   ],
   "source": [
    "#findall\n",
    "\n",
    "string = \"independence day for india is on 15----08----1947 and republic day is on 26----01----1950\"\n",
    "pattern = \"\\d{2}----\\d{2}----\\d{4}\"\n",
    "\n",
    "output = re.findall(pattern,string)\n",
    "\n",
    "print(output)"
   ]
  },
  {
   "cell_type": "code",
   "execution_count": 6,
   "metadata": {},
   "outputs": [
    {
     "name": "stdout",
     "output_type": "stream",
     "text": [
      "['my_india_got_freedom_', '_august_15_mid_night']\n"
     ]
    }
   ],
   "source": [
    "#split\n",
    "\n",
    "string = \"my_india_got_freedom_on_august_15_mid_night\"\n",
    "pattern = \"_\"\n",
    "#pattern = \"on\"\n",
    "\n",
    "output = re.split(pattern,string)\n",
    "\n",
    "print(output)"
   ]
  },
  {
   "cell_type": "code",
   "execution_count": 8,
   "metadata": {},
   "outputs": [
    {
     "name": "stdout",
     "output_type": "stream",
     "text": [
      "my**india**got**freedom**on**august**15**mid**night\n"
     ]
    }
   ],
   "source": [
    "#sub\n",
    "\n",
    "string = \"my_india_got_freedom_on_august_15_mid_night\"\n",
    "pattern = \"_\"\n",
    "substitute = \"**\"\n",
    "\n",
    "output = re.sub(pattern,substitute,string)\n",
    "\n",
    "print(output)\n"
   ]
  },
  {
   "cell_type": "code",
   "execution_count": 9,
   "metadata": {},
   "outputs": [
    {
     "name": "stdout",
     "output_type": "stream",
     "text": [
      "('my**india**got**freedom**on**august**15**mid**night', 8)\n"
     ]
    }
   ],
   "source": [
    "#subn\n",
    "\n",
    "string = \"my_india_got_freedom_on_august_15_mid_night\"\n",
    "pattern = \"_\"\n",
    "substitute = \"**\"\n",
    "\n",
    "output = re.subn(pattern,substitute,string)\n",
    "\n",
    "print(output)"
   ]
  },
  {
   "cell_type": "code",
   "execution_count": null,
   "metadata": {},
   "outputs": [],
   "source": []
  },
  {
   "cell_type": "code",
   "execution_count": 28,
   "metadata": {},
   "outputs": [
    {
     "name": "stdout",
     "output_type": "stream",
     "text": [
      "<re.Match object; span=(27, 52), match='ip address is 10.20.30.40'>\n",
      "ip address is 10.20.30.40\n",
      "ip address\n",
      "10.20.30.40\n",
      "40\n"
     ]
    }
   ],
   "source": [
    "#search with group\n",
    "\n",
    "string = \"In your network the source ip address is 10.20.30.40 and destination ip address is 11.21.31.41\"\n",
    "pattern = \"(ip address) is (\\d{1,3}\\.\\d{1,3}\\.\\d{1,3}\\.(\\d{1,3}))\"\n",
    "\n",
    "val = re.search(pattern, string)\n",
    "\n",
    "print(val)\n",
    "print(val.group())\n",
    "print(val.group(1))\n",
    "print(val.group(2))\n",
    "print(val.group(3))\n",
    "\n",
    "#print(val.span())\n",
    "#print(val.start())\n",
    "#print(val.end())"
   ]
  },
  {
   "cell_type": "code",
   "execution_count": null,
   "metadata": {},
   "outputs": [],
   "source": [
    "https://www.programiz.com/python-programming/regex"
   ]
  }
 ],
 "metadata": {
  "kernelspec": {
   "display_name": "Python 3",
   "language": "python",
   "name": "python3"
  },
  "language_info": {
   "codemirror_mode": {
    "name": "ipython",
    "version": 3
   },
   "file_extension": ".py",
   "mimetype": "text/x-python",
   "name": "python",
   "nbconvert_exporter": "python",
   "pygments_lexer": "ipython3",
   "version": "3.7.6"
  }
 },
 "nbformat": 4,
 "nbformat_minor": 4
}
