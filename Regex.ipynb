{
 "cells": [
  {
   "cell_type": "code",
   "execution_count": null,
   "metadata": {},
   "outputs": [],
   "source": [
    "#Regular expression:\n",
    "\n",
    "#part1: all language\n",
    "#part2: how to apply in python\n",
    "\n",
    "\n",
    "grep -irn \"file_name.*\"\n",
    "\n",
    "select * from table where id like \"value_%\";\n",
    "\n"
   ]
  },
  {
   "cell_type": "code",
   "execution_count": null,
   "metadata": {},
   "outputs": [],
   "source": [
    "#https://regex101.com/\n",
    "#https://www.programiz.com/python-programming/regex\n",
    "\n",
    "\n",
    "\n"
   ]
  },
  {
   "cell_type": "code",
   "execution_count": null,
   "metadata": {},
   "outputs": [],
   "source": [
    "Advantage of regex\n",
    "\n",
    "# Log parsing \n",
    "# Password check, email id , phone number,  \n",
    "# Resume parser, Generator \n",
    "\n",
    "#regular expression\n",
    "\n",
    "import re\n",
    "\n",
    "\n",
    "\\d"
   ]
  },
  {
   "cell_type": "code",
   "execution_count": null,
   "metadata": {},
   "outputs": [],
   "source": [
    "i have icecreams\n",
    "we have two python version\n",
    "istanbul is a country or city ?"
   ]
  },
  {
   "cell_type": "code",
   "execution_count": null,
   "metadata": {},
   "outputs": [],
   "source": [
    "\\A ==> string start\n",
    "\\Z ===> string end\n",
    "\n",
    "\n",
    "\\d\n",
    "\\D\n",
    "\\w\n",
    "\\W\n",
    "\\s\n",
    "\\S\n",
    "\n",
    "\\b\n",
    "\\B\n"
   ]
  },
  {
   "cell_type": "code",
   "execution_count": null,
   "metadata": {},
   "outputs": [],
   "source": [
    "Quantifiers:\n",
    "    \n",
    "+ 1 or above\n",
    "* 0 or above\n",
    "? 0 or 1\n",
    "{} number limitation\n",
    " \n",
    "^ starts with\n",
    "$ ends with\n",
    "\n",
    "\n",
    ". ==> matches everything except new line\n"
   ]
  },
  {
   "cell_type": "code",
   "execution_count": null,
   "metadata": {},
   "outputs": [],
   "source": [
    "[]\n",
    "^\n",
    "$\n",
    "[^]\n",
    "[0-9A-Za-z]\n"
   ]
  },
  {
   "cell_type": "code",
   "execution_count": null,
   "metadata": {},
   "outputs": [],
   "source": [
    "15.0.0.1 starts a service\n",
    "service is going on 15.0.0.1\n",
    "15.0.0.220 starts a service\n",
    "service ends for 15.0.0.1\n",
    "service is going on for 15.0.0.220ANIMAL99889959\n",
    "123.21.AA.21\n",
    "\n",
    "\\d{1,3}\\.\\d{1,3}\\.\\d{1,3}\\.\\d{1,3}"
   ]
  }
 ],
 "metadata": {
  "kernelspec": {
   "display_name": "Python 3",
   "language": "python",
   "name": "python3"
  },
  "language_info": {
   "codemirror_mode": {
    "name": "ipython",
    "version": 3
   },
   "file_extension": ".py",
   "mimetype": "text/x-python",
   "name": "python",
   "nbconvert_exporter": "python",
   "pygments_lexer": "ipython3",
   "version": "3.7.6"
  }
 },
 "nbformat": 4,
 "nbformat_minor": 4
}
