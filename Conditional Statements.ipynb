{
 "cells": [
  {
   "cell_type": "code",
   "execution_count": null,
   "metadata": {},
   "outputs": [],
   "source": [
    "#References:\n",
    "\n",
    "#https://www.guru99.com/if-loop-python-conditional-structures.html\n",
    "#https://realpython.com/python-conditional-statements/\n",
    "#https://www.w3schools.com/python/python_conditions.asp\n",
    "\n"
   ]
  },
  {
   "cell_type": "code",
   "execution_count": null,
   "metadata": {},
   "outputs": [],
   "source": [
    "#Conditional operators / Logical operators  / Assignment operators\n",
    "#Logic gates\n",
    "\n",
    "\n",
    "\n"
   ]
  },
  {
   "cell_type": "code",
   "execution_count": 8,
   "metadata": {},
   "outputs": [
    {
     "name": "stdout",
     "output_type": "stream",
     "text": [
      "15\n",
      "<class 'int'>\n"
     ]
    }
   ],
   "source": [
    "#Boolean operator\n",
    "\n",
    "#false = 15\n",
    "\n",
    "a = True\n",
    "b = False\n",
    "\n",
    "print(a)\n",
    "print(type(a))"
   ]
  },
  {
   "cell_type": "code",
   "execution_count": 19,
   "metadata": {},
   "outputs": [
    {
     "name": "stdout",
     "output_type": "stream",
     "text": [
      "False\n",
      "True\n",
      "False\n",
      "True\n",
      "True\n"
     ]
    }
   ],
   "source": [
    "#Comparision operator\n",
    "print(4 > 5)\n",
    "print(10 < 15)\n",
    "print(17 == 16)\n",
    "print(16 == 16.00)\n",
    "\n",
    "\n",
    "a = 20\n",
    "b = 15\n",
    "\n",
    "print(a != b)\n",
    "\n",
    "#> < >= <= == !="
   ]
  },
  {
   "cell_type": "code",
   "execution_count": 17,
   "metadata": {},
   "outputs": [
    {
     "name": "stdout",
     "output_type": "stream",
     "text": [
      "True\n",
      "False\n"
     ]
    }
   ],
   "source": [
    "#Logical operator OR or OR gate AND\n",
    "\n",
    "a = 10\n",
    "b = 15\n",
    "\n",
    "print(a > 0 or b > 20)\n",
    "print(a > 0 and b > 20)\n",
    "\n"
   ]
  },
  {
   "cell_type": "code",
   "execution_count": 18,
   "metadata": {},
   "outputs": [],
   "source": [
    "#Assignment operator\n",
    "\n",
    "a = 20 #= assignment operator"
   ]
  },
  {
   "cell_type": "code",
   "execution_count": 23,
   "metadata": {},
   "outputs": [
    {
     "name": "stdout",
     "output_type": "stream",
     "text": [
      "1995\n",
      "498.75\n",
      "3\n",
      "0\n"
     ]
    }
   ],
   "source": [
    "#Conditional statement\n",
    "\n",
    "a = 1995\n",
    "\n",
    "print(a)\n",
    "\n",
    "print(1995 / 4)\n",
    "\n",
    "print(1995 % 4)\n",
    "\n",
    "print(1996 % 4)\n",
    "\n",
    "#if elif else\n",
    "#Switch it's not available in python"
   ]
  },
  {
   "cell_type": "code",
   "execution_count": 25,
   "metadata": {},
   "outputs": [
    {
     "name": "stdout",
     "output_type": "stream",
     "text": [
      "Leap year\n",
      "program for if\n",
      "If condition program\n"
     ]
    }
   ],
   "source": [
    "#If condition\n",
    "#Indentation  ==> Block for the code\n",
    "\n",
    "\n",
    "a = 1996\n",
    "\n",
    "if a % 4 == 0:\n",
    "    print(\"Leap year\")\n",
    "    print(\"program for if\")    \n",
    "print(\"If condition program\")\n",
    "\n",
    "\n",
    "#if (a == 4){\n",
    "    \n",
    "#    *******\n",
    "#    *******\n",
    "#}\n",
    "\n",
    "\n",
    "\n"
   ]
  },
  {
   "cell_type": "code",
   "execution_count": 29,
   "metadata": {},
   "outputs": [
    {
     "name": "stdout",
     "output_type": "stream",
     "text": [
      "Non leap year\n"
     ]
    }
   ],
   "source": [
    "#If else\n",
    "#Else ==> no condition\n",
    "\n",
    "a = 1995\n",
    "\n",
    "if a % 4 == 0:\n",
    "    print(\"Leap year\")\n",
    "else:\n",
    "    print(\"Non leap year\")\n"
   ]
  },
  {
   "cell_type": "code",
   "execution_count": 33,
   "metadata": {},
   "outputs": [
    {
     "name": "stdout",
     "output_type": "stream",
     "text": [
      "Fail\n"
     ]
    }
   ],
   "source": [
    "#elif n times\n",
    "\n",
    "mark = 0\n",
    "\n",
    "if mark > 90:\n",
    "    print(\"A grade\")\n",
    "elif mark >= 80:\n",
    "    print(\"B grade\")\n",
    "elif mark > 70:\n",
    "    print(\"C grade\")\n",
    "else:\n",
    "    print(\"Fail\")\n",
    "    "
   ]
  },
  {
   "cell_type": "code",
   "execution_count": null,
   "metadata": {},
   "outputs": [],
   "source": [
    "#program1\n",
    "#Get one string from user\n",
    "#extract middle letter of the string\n",
    "#check whether middle letter is vowel or no\n",
    "\n",
    "#program2\n",
    "#Get one string from user\n",
    "#Find the middle letter\n",
    "#find ascii value for the middle letter\n",
    "#check whether ascii value is odd or even\n",
    "\n",
    "#program3:\n",
    "#get one string from user\n",
    "#check whether length of the string is odd or even\n",
    "\n",
    "#program4:\n",
    "#Get one string from user\n",
    "#check whether string is palindrome or no\n",
    "\n",
    "#program5:\n",
    "#Get one mark from student\n",
    "#mark 0 to 100 otherwise invalid mark\n",
    "\n",
    "#50 + PASS otherwise FAIL\n",
    "#90 to 100 ===> A  ==> Even + Odd -\n",
    "#80 to 89 ===> B\n",
    "#70 to 79 ===> C\n",
    "#60 to 69 ===> D\n",
    "#50 to 59 ===> E\n",
    "\n",
    "#0 to 49 ===> FAIL\n",
    "\n",
    "\n",
    "#93 ===> A-\n",
    "#99 ===> A-\n",
    "#88 ====> B+\n",
    "\n",
    "#78\n",
    "\n",
    "#VALID MARK\n",
    "#PASS MARK\n",
    "#B+\n",
    "\n",
    "#program6\n",
    "\n",
    "#hackerrank Write a function\n",
    "\n",
    "#program7\n",
    "#hackerrank Python If-Else\n",
    "\n",
    "#program8 \n",
    "\n",
    "#two strings from user\n",
    "#string 1: python  ==> first + middle + last \n",
    "#string 2: ptn\n",
    "\n",
    "#valid otherwise invalid\n",
    "\n",
    "#program9:\n",
    "\n",
    "#two strings from user\n",
    "\n",
    "#mathematics ===> 4 vowels\n",
    "#science ==> 3 vowels\n",
    "\n",
    "#both are equal count or not equal\n",
    "\n",
    "#program10\n",
    "\n",
    "#get one integer from user\n",
    "#armstrong or no (without using loops)\n",
    "\n",
    "#153 ===> 1^3 + 5^3 + 3^3\n",
    "#370 ===> 3^3 + 7^3 + 0^3\n",
    "#371 ====> 3^3 + 7^3 + 1^3\n",
    "\n",
    "\n",
    "#program 11:\n",
    "#[123, 124, 125,]  length of list odd or even\n",
    "\n",
    "\n",
    "#program12:\n",
    "#Fizz buzz\n",
    "#Get one number from user\n",
    "#5\n",
    "#Multiple of 3 ==> Fizz\n",
    "#Multiple of 5 ===> buzz\n",
    "#Multiple of 3 and 5 ===> Fizzbuzz\n",
    "#None ==> Invalid number\n",
    "\n",
    "\n",
    "\n"
   ]
  },
  {
   "cell_type": "code",
   "execution_count": null,
   "metadata": {},
   "outputs": [],
   "source": [
    "#If\n",
    "#If else\n",
    "#if elif else\n"
   ]
  },
  {
   "cell_type": "code",
   "execution_count": null,
   "metadata": {},
   "outputs": [],
   "source": []
  },
  {
   "cell_type": "code",
   "execution_count": null,
   "metadata": {},
   "outputs": [],
   "source": []
  },
  {
   "cell_type": "code",
   "execution_count": null,
   "metadata": {},
   "outputs": [],
   "source": []
  },
  {
   "cell_type": "code",
   "execution_count": 26,
   "metadata": {},
   "outputs": [
    {
     "name": "stdout",
     "output_type": "stream",
     "text": [
      "True\n"
     ]
    }
   ],
   "source": [
    "print(a % 4 == 0)"
   ]
  },
  {
   "cell_type": "code",
   "execution_count": null,
   "metadata": {},
   "outputs": [],
   "source": []
  },
  {
   "cell_type": "code",
   "execution_count": null,
   "metadata": {},
   "outputs": [],
   "source": []
  },
  {
   "cell_type": "code",
   "execution_count": null,
   "metadata": {},
   "outputs": [],
   "source": []
  },
  {
   "cell_type": "code",
   "execution_count": null,
   "metadata": {},
   "outputs": [],
   "source": []
  },
  {
   "cell_type": "code",
   "execution_count": null,
   "metadata": {},
   "outputs": [],
   "source": []
  },
  {
   "cell_type": "code",
   "execution_count": null,
   "metadata": {},
   "outputs": [],
   "source": []
  }
 ],
 "metadata": {
  "kernelspec": {
   "display_name": "Python 3",
   "language": "python",
   "name": "python3"
  },
  "language_info": {
   "codemirror_mode": {
    "name": "ipython",
    "version": 3
   },
   "file_extension": ".py",
   "mimetype": "text/x-python",
   "name": "python",
   "nbconvert_exporter": "python",
   "pygments_lexer": "ipython3",
   "version": "3.7.6"
  }
 },
 "nbformat": 4,
 "nbformat_minor": 4
}
