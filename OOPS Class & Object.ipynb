{
 "cells": [
  {
   "cell_type": "code",
   "execution_count": null,
   "metadata": {},
   "outputs": [],
   "source": [
    "#Object oriented programming: Geeks for Geeks \n",
    "\n",
    "#https://www.geeksforgeeks.org/python-classes-and-objects/\n",
    "#https://www.geeksforgeeks.org/python-programming-language/\n",
    "#https://towardsdatascience.com/whats-new-in-python-3-10-a757c6c69342 \n",
    "\n",
    "#Class  ===> Blueprint, Collection of attributes (variable inside class) and method (function inside the class)\n",
    "\n",
    "#Object ===> Instant of class, life to the class\n",
    "\n",
    "\n",
    "#Functional programming: Using functions\n",
    "#Object oriented programming Using Classes (Methods ===> function inside a class) & object\n",
    "\n",
    "#School:\n",
    "#application form ==> class blueprint\n",
    "\n",
    "\n",
    "#Sekar ==> form ==> object1\n",
    "#ravi ===> form ==> object2\n",
    "#sam ==> form ====> object3\n",
    "\n",
    "Methods:\n",
    "\n",
    "#mark calculation\n",
    "\n",
    "#DOB ==> age method\n",
    "\n",
    "\n",
    "#Variables:\n",
    "\n",
    "#class variable\n",
    "#Object variable\n",
    "\n",
    "#method types\n",
    "\n",
    "#Normal Method  ===> method contains self as first parameter\n",
    "#Class method\n",
    "#Static method\n",
    "\n",
    "#init\n",
    "\n",
    "\n",
    "\n"
   ]
  },
  {
   "cell_type": "code",
   "execution_count": 2,
   "metadata": {},
   "outputs": [],
   "source": [
    "#class creation\n",
    "\n",
    "#class <class_name>:\n",
    "\n",
    "class School_admission:\n",
    "    pass\n",
    "      \n",
    "Student_sam = School_admission()\n",
    "Student_ravi = School_admission()\n",
    "Student_ram = School_admission()  \n",
    "    \n",
    "\n",
    "#Interivew : how to create an empty class\n",
    "\n",
    "#Class  ===> Blueprint of an object\n",
    "#Object ==> instant of the class\n",
    "#Method ==> function inside the class"
   ]
  },
  {
   "cell_type": "code",
   "execution_count": 9,
   "metadata": {},
   "outputs": [
    {
     "name": "stdout",
     "output_type": "stream",
     "text": [
      "Cricket\n",
      "10.00\n",
      "Cricket\n",
      "Cricket\n",
      "Foot ball\n",
      "Foot ball\n",
      "Foot ball\n"
     ]
    }
   ],
   "source": [
    "#class variable object variable\n",
    "\n",
    "#class variable\n",
    "\n",
    "class School_admission:\n",
    "    game = \"Cricket\"\n",
    "    School_timing = \"10.00\"\n",
    "      \n",
    "Student_sam = School_admission()\n",
    "Student_ravi = School_admission()\n",
    "\n",
    "print(School_admission.game)  #Chaning class variable  class_name.attribute_name = new_value\n",
    "print(School_admission.School_timing)\n",
    "\n",
    "print(Student_sam.game)\n",
    "print(Student_ravi.game)\n",
    "\n",
    "\n",
    "School_admission.game = \"Foot ball\"  #Modifying class variable\n",
    "\n",
    "print(School_admission.game)\n",
    "print(Student_sam.game) #Object variable\n",
    "print(Student_ravi.game) #Object variable\n"
   ]
  },
  {
   "cell_type": "code",
   "execution_count": 1,
   "metadata": {},
   "outputs": [
    {
     "name": "stdout",
     "output_type": "stream",
     "text": [
      "Cricket\n",
      "Cricket\n",
      "Javelin\n",
      "Cricket\n",
      "Cricket\n"
     ]
    }
   ],
   "source": [
    "#Object variable\n",
    "\n",
    "class School_admission:\n",
    "    game = \"Cricket\" #attribute\n",
    "    School_timing = \"10.00\" #attribute\n",
    "      \n",
    "Student_ravan = School_admission()\n",
    "Student_hanu = School_admission()\n",
    "\n",
    "print(Student_ravan.game)\n",
    "print(Student_hanu.game)\n",
    "\n",
    "Student_ravan.game = \"Javelin\"\n",
    "\n",
    "print(Student_ravan.game)\n",
    "print(Student_hanu.game)\n",
    "print(School_admission.game)\n",
    "\n",
    "#Attribute ==> variable inside class\n",
    "\n"
   ]
  },
  {
   "cell_type": "code",
   "execution_count": 5,
   "metadata": {},
   "outputs": [
    {
     "name": "stdout",
     "output_type": "stream",
     "text": [
      "<__main__.sports object at 0x000001D4BEF313C8>\n",
      "Welcome to indoor games\n",
      "<__main__.sports object at 0x000001D4BEF319C8>\n",
      "Welcome to indoor games\n"
     ]
    }
   ],
   "source": [
    "#methods  ==> function inside the class\n",
    "\n",
    "class sports:\n",
    "    def indoor_games(self):\n",
    "        print(self)\n",
    "        print(\"Welcome to indoor games\")\n",
    "        \n",
    "obj_sports = sports()  #Obj creation\n",
    "obj2_sports = sports()\n",
    "\n",
    "obj_sports.indoor_games() #Calling method via object\n",
    "obj2_sports.indoor_games()\n",
    "\n",
    "\n",
    "#sports.indoor_games() #Callling method via class \n",
    "\n",
    "#What is self ? why ?\n"
   ]
  },
  {
   "cell_type": "code",
   "execution_count": 15,
   "metadata": {},
   "outputs": [
    {
     "name": "stdout",
     "output_type": "stream",
     "text": [
      "KVS\n",
      "cricket\n",
      "Welcome to indoor games\n",
      "KVS\n",
      "Welcome to outdoor games\n"
     ]
    }
   ],
   "source": [
    "#Passing parameter through method\n",
    "\n",
    "class sports:\n",
    "    school = \"KVS\" #static value or variable or attribute #static class variable\n",
    "    \n",
    "    def indoor_games(self, var1):\n",
    "        print(self.school)\n",
    "        print(var1)\n",
    "        return \"Welcome to indoor games\"\n",
    "    def outdoor_games(self):\n",
    "        print(self.school)\n",
    "        return \"Welcome to outdoor games\"\n",
    "    \n",
    "        \n",
    "obj_sports = sports()\n",
    "print(obj_sports.indoor_games(\"cricket\"))\n",
    "print(obj_sports.outdoor_games())\n",
    "\n"
   ]
  },
  {
   "cell_type": "code",
   "execution_count": 20,
   "metadata": {},
   "outputs": [
    {
     "name": "stdout",
     "output_type": "stream",
     "text": [
      "Internation school\n",
      "Welcome to indoor games\n",
      "Internation school\n",
      "Welcome to outdoor games\n",
      "Kothari school\n",
      "Welcome to indoor games\n",
      "Kothari school\n",
      "Welcome to outdoor games\n",
      "<class '__main__.sports'>\n"
     ]
    }
   ],
   "source": [
    "#Dynamic variable passing (object variable)\n",
    "\n",
    "class sports:\n",
    "    def __init__(self, school_name): #only self ==> default constructor  #Extra args parameterized constructor\n",
    "        self.school_name = school_name\n",
    "    \n",
    "    def indoor_games(self):\n",
    "        print(self.school_name)\n",
    "        return \"Welcome to indoor games\"\n",
    "    def outdoor_games(self):\n",
    "        print(self.school_name)\n",
    "        return \"Welcome to outdoor games\"\n",
    "    \n",
    "        \n",
    "obj_sports = sports(\"Internation school\") #Dynamic class variable\n",
    "print(obj_sports.indoor_games())\n",
    "print(obj_sports.outdoor_games())\n",
    "\n",
    "obj_sports2 = sports(\"Kothari school\")\n",
    "print(obj_sports2.indoor_games())\n",
    "print(obj_sports2.outdoor_games())\n",
    "\n",
    "# what is init method ==> __come with in __ ===> special method\n",
    "# init ===> first method whenever class is getting instantiated\n",
    "#Constructor\n"
   ]
  },
  {
   "cell_type": "code",
   "execution_count": 21,
   "metadata": {},
   "outputs": [
    {
     "name": "stdout",
     "output_type": "stream",
     "text": [
      "Internation school\n",
      "Welcome to indoor games\n",
      "Internation school\n",
      "Welcome to outdoor games\n",
      "Internation school\n",
      "Welcome to indoor games\n",
      "Internation school\n",
      "Welcome to outdoor games\n"
     ]
    }
   ],
   "source": [
    "#default constructor\n",
    "\n",
    "class sports:\n",
    "    def __init__(self): #only self ==> default constructor  \n",
    "        self.school_name = \"Internation school\"\n",
    "        self.school_name2 = \"Kothari school school\"\n",
    "    \n",
    "    def indoor_games(self):\n",
    "        print(self.school_name)\n",
    "        return \"Welcome to indoor games\"\n",
    "    def outdoor_games(self):\n",
    "        print(self.school_name)\n",
    "        return \"Welcome to outdoor games\"\n",
    "    \n",
    "        \n",
    "obj_sports = sports() #Dynamic class variable\n",
    "print(obj_sports.indoor_games())\n",
    "print(obj_sports.outdoor_games())\n",
    "\n",
    "obj_sports2 = sports()\n",
    "print(obj_sports2.indoor_games())\n",
    "print(obj_sports2.outdoor_games())\n",
    "\n",
    "#Constructor \n",
    "#__init__\n",
    "#self\n",
    "\n",
    "\n",
    "#init\n",
    "#special function\n",
    "#constructor ===> __init__\n"
   ]
  },
  {
   "cell_type": "code",
   "execution_count": 25,
   "metadata": {},
   "outputs": [
    {
     "name": "stdout",
     "output_type": "stream",
     "text": [
      "val\n"
     ]
    }
   ],
   "source": [
    "#Methods: #self is PEP ==> python enhancement proposal\n",
    "\n",
    "\n",
    "class value:\n",
    "    def function1(self):\n",
    "        print(\"val\")\n",
    "        \n",
    "val_obj = value()\n",
    "val_obj.function1()\n",
    "\n"
   ]
  },
  {
   "cell_type": "code",
   "execution_count": 28,
   "metadata": {},
   "outputs": [
    {
     "name": "stdout",
     "output_type": "stream",
     "text": [
      "success\n"
     ]
    }
   ],
   "source": [
    "val = 10\n",
    "\n",
    "if val == 10:\n",
    "    print(\"success\")\n",
    "else:\n",
    "    print(\"failure\")\n"
   ]
  },
  {
   "cell_type": "code",
   "execution_count": null,
   "metadata": {},
   "outputs": [],
   "source": [
    "#Methods\n",
    "\n",
    "#Normal Method  ==> one compulsory first arg in method generally self\n",
    "#Class method\n",
    "#static method"
   ]
  },
  {
   "cell_type": "code",
   "execution_count": 33,
   "metadata": {},
   "outputs": [
    {
     "name": "stdout",
     "output_type": "stream",
     "text": [
      "lion\n",
      "hello welcome to static class \n",
      "val\n",
      "hello welcome to static class \n"
     ]
    }
   ],
   "source": [
    "#Static method\n",
    "class animal:\n",
    "    name = \"lion\"\n",
    "    def function1(self): #normal method\n",
    "        print(self.name)\n",
    "        \n",
    "    @staticmethod       \n",
    "    def function2():     #static method\n",
    "        print(\"hello welcome to static class \")\n",
    "    \n",
    "    @staticmethod       \n",
    "    def function3(val):     #static method\n",
    "        print(val)\n",
    "        print(\"hello welcome to static class \")\n",
    "        \n",
    "animal_obj = animal()\n",
    "animal_obj.function1()\n",
    "animal_obj.function2()\n",
    "animal_obj.function3(\"val\")\n",
    "\n",
    "#static method:\n",
    "\n",
    "#Cannot change class or object attribute\n",
    "#independent function \n",
    "#with out self "
   ]
  },
  {
   "cell_type": "code",
   "execution_count": 39,
   "metadata": {},
   "outputs": [
    {
     "name": "stdout",
     "output_type": "stream",
     "text": [
      "hello welcome to class method11\n",
      "lion\n",
      "hello welcome to class method22\n",
      "lion\n"
     ]
    }
   ],
   "source": [
    "#class method ( @classmethod )\n",
    "\n",
    "class animal1:\n",
    "    name = \"lion\"\n",
    "    def function11(self): #normal method\n",
    "        print(\"hello welcome to class method11\")\n",
    "        print(self.name)\n",
    "        \n",
    "    @classmethod       \n",
    "    def function22(cls):     #class method\n",
    "        print(\"hello welcome to class method22\")\n",
    "        print(cls.name)\n",
    "    \n",
    "    @classmethod       \n",
    "    def function33(cls):     #class method\n",
    "        print(\"hello welcome to class method33\")\n",
    "        \n",
    "animal_obj = animal1()\n",
    "animal_obj.function11()\n",
    "animal_obj.function22()\n",
    "\n",
    "#cls word\n",
    "#class method can access only class atributes"
   ]
  },
  {
   "cell_type": "code",
   "execution_count": 43,
   "metadata": {},
   "outputs": [
    {
     "name": "stdout",
     "output_type": "stream",
     "text": [
      "hello welcome to class method11\n",
      "lion\n",
      "Tiger\n",
      "hello welcome to class method22\n",
      "lion\n"
     ]
    },
    {
     "ename": "AttributeError",
     "evalue": "type object 'animal1' has no attribute 'name1'",
     "output_type": "error",
     "traceback": [
      "\u001b[1;31m---------------------------------------------------------------------------\u001b[0m",
      "\u001b[1;31mAttributeError\u001b[0m                            Traceback (most recent call last)",
      "\u001b[1;32m<ipython-input-43-3dda44260cd4>\u001b[0m in \u001b[0;36m<module>\u001b[1;34m\u001b[0m\n\u001b[0;32m     21\u001b[0m \u001b[0manimal_obj\u001b[0m \u001b[1;33m=\u001b[0m \u001b[0manimal1\u001b[0m\u001b[1;33m(\u001b[0m\u001b[1;34m\"Tiger\"\u001b[0m\u001b[1;33m)\u001b[0m\u001b[1;33m\u001b[0m\u001b[1;33m\u001b[0m\u001b[0m\n\u001b[0;32m     22\u001b[0m \u001b[0manimal_obj\u001b[0m\u001b[1;33m.\u001b[0m\u001b[0mfunction11\u001b[0m\u001b[1;33m(\u001b[0m\u001b[1;33m)\u001b[0m\u001b[1;33m\u001b[0m\u001b[1;33m\u001b[0m\u001b[0m\n\u001b[1;32m---> 23\u001b[1;33m \u001b[0manimal_obj\u001b[0m\u001b[1;33m.\u001b[0m\u001b[0mfunction22\u001b[0m\u001b[1;33m(\u001b[0m\u001b[1;33m)\u001b[0m\u001b[1;33m\u001b[0m\u001b[1;33m\u001b[0m\u001b[0m\n\u001b[0m",
      "\u001b[1;32m<ipython-input-43-3dda44260cd4>\u001b[0m in \u001b[0;36mfunction22\u001b[1;34m(cls)\u001b[0m\n\u001b[0;32m     13\u001b[0m         \u001b[0mprint\u001b[0m\u001b[1;33m(\u001b[0m\u001b[1;34m\"hello welcome to class method22\"\u001b[0m\u001b[1;33m)\u001b[0m\u001b[1;33m\u001b[0m\u001b[1;33m\u001b[0m\u001b[0m\n\u001b[0;32m     14\u001b[0m         \u001b[0mprint\u001b[0m\u001b[1;33m(\u001b[0m\u001b[0mcls\u001b[0m\u001b[1;33m.\u001b[0m\u001b[0mname\u001b[0m\u001b[1;33m)\u001b[0m\u001b[1;33m\u001b[0m\u001b[1;33m\u001b[0m\u001b[0m\n\u001b[1;32m---> 15\u001b[1;33m         \u001b[0mprint\u001b[0m\u001b[1;33m(\u001b[0m\u001b[0mcls\u001b[0m\u001b[1;33m.\u001b[0m\u001b[0mname1\u001b[0m\u001b[1;33m)\u001b[0m\u001b[1;33m\u001b[0m\u001b[1;33m\u001b[0m\u001b[0m\n\u001b[0m\u001b[0;32m     16\u001b[0m \u001b[1;33m\u001b[0m\u001b[0m\n\u001b[0;32m     17\u001b[0m     \u001b[1;33m@\u001b[0m\u001b[0mclassmethod\u001b[0m\u001b[1;33m\u001b[0m\u001b[1;33m\u001b[0m\u001b[0m\n",
      "\u001b[1;31mAttributeError\u001b[0m: type object 'animal1' has no attribute 'name1'"
     ]
    }
   ],
   "source": [
    "#Class method\n",
    "\n",
    "class animal1:\n",
    "    name = \"lion\"\n",
    "    \n",
    "    def __init__(self, name1):\n",
    "        self.name1 = name1\n",
    "\n",
    "    def function11(self): #normal method\n",
    "        print(\"hello welcome to class method11\")\n",
    "        print(self.name)\n",
    "        print(self.name1)\n",
    "        \n",
    "    @classmethod       \n",
    "    def function22(cls):     #class method\n",
    "        print(\"hello welcome to class method22\")\n",
    "        print(cls.name)\n",
    "        print(cls.name1)\n",
    "    \n",
    "    @classmethod       \n",
    "    def function33(cls):     #class method\n",
    "        print(\"hello welcome to class method33\")\n",
    "        \n",
    "animal_obj = animal1(\"Tiger\") #object variable\n",
    "animal_obj.function11()\n",
    "animal_obj.function22()"
   ]
  },
  {
   "cell_type": "code",
   "execution_count": null,
   "metadata": {},
   "outputs": [],
   "source": [
    "#class variable object variable\n",
    "#init __special function__\n",
    "#self\n",
    "\n",
    "\n",
    "#Inheritance\n",
    "\n",
    "\n",
    "#Single inheritance  Class A  ===> class B\n",
    "#Multiple inheritance\n",
    "#Multilevel inheritance\n",
    "#Hierarchical inheritance\n",
    "#hybrid inheritance\n",
    "\n",
    "\n",
    "Class A  ===> class B\n"
   ]
  },
  {
   "cell_type": "code",
   "execution_count": 50,
   "metadata": {},
   "outputs": [
    {
     "name": "stdout",
     "output_type": "stream",
     "text": [
      "I am playing test cricket with  asics\n",
      "I am playing odi cricket with  Reebok\n",
      "I am playing test cricket with  asics\n"
     ]
    }
   ],
   "source": [
    "#Inheritance ==> Accessing attributes and methods of another class\n",
    "\n",
    "#Single inheritance\n",
    "\n",
    "class Cricket:\n",
    "    bat1 = \"asics\"\n",
    "    ball1 = \"kokkapura\"\n",
    "    \n",
    "    def test_cricket(self):\n",
    "        print(\"I am playing test cricket with \", self.bat1)\n",
    "        \n",
    "\n",
    "class Cricket_2ndgen(Cricket): #Single inheritance\n",
    "    bat2 = \"Madras Rubber Factory\"\n",
    "    ball2 = \"Reebok\"\n",
    "    \n",
    "    def odi_cricket(self1):\n",
    "        print(\"I am playing odi cricket with \", self1.ball2)\n",
    "        \n",
    "\n",
    "    \n",
    "        \n",
    "\n",
    "Cricket_obj = Cricket()\n",
    "Cricket_obj.test_cricket()\n",
    "\n",
    "Cricket_2ndgen_obj =  Cricket_2ndgen()\n",
    "Cricket_2ndgen_obj.odi_cricket()\n",
    "Cricket_2ndgen_obj.test_cricket()"
   ]
  },
  {
   "cell_type": "code",
   "execution_count": 52,
   "metadata": {},
   "outputs": [
    {
     "name": "stdout",
     "output_type": "stream",
     "text": [
      "I am playing test cricket with  asics\n",
      "I am playing odi cricket with  Reebok\n",
      "I am playing t20 cricket with  pink ball\n"
     ]
    }
   ],
   "source": [
    "#Multiple inheritance  ===> single child can access multiple parents\n",
    "\n",
    "\n",
    "class Cricket:\n",
    "    bat1 = \"asics\"\n",
    "    ball1 = \"kokkapura\"\n",
    "    \n",
    "    def test_cricket(self):\n",
    "        print(\"I am playing test cricket with \", self.bat1)\n",
    "        \n",
    "\n",
    "class Cricket_2ndgen: \n",
    "    bat2 = \"Madras Rubber Factory\"\n",
    "    ball2 = \"Reebok\"\n",
    "    \n",
    "    def odi_cricket(self1):\n",
    "        print(\"I am playing odi cricket with \", self1.ball2)\n",
    "        \n",
    "        \n",
    "class Cricket_3rdgen(Cricket, Cricket_2ndgen): #Mutliple inheritance\n",
    "    bat3 = \"Britannia\"\n",
    "    ball3 = \"pink ball\"\n",
    "    \n",
    "    def t20_cricket(self):\n",
    "        print(\"I am playing t20 cricket with \", self.ball3)\n",
    "        \n",
    "Cricket_3rdgen_obj = Cricket_3rdgen()\n",
    "Cricket_3rdgen_obj.test_cricket()\n",
    "Cricket_3rdgen_obj.odi_cricket()\n",
    "Cricket_3rdgen_obj.t20_cricket()"
   ]
  },
  {
   "cell_type": "code",
   "execution_count": 53,
   "metadata": {},
   "outputs": [
    {
     "name": "stdout",
     "output_type": "stream",
     "text": [
      "I am playing test cricket with  asics\n",
      "I am playing odi cricket with  Reebok\n",
      "I am playing test cricket with  asics\n",
      "I am playing t20 cricket with  pink ball\n",
      "I am playing test cricket with  asics\n"
     ]
    }
   ],
   "source": [
    "#Hierarchical\n",
    "\n",
    "#Hierarchical inheritance  ===> multiple children are having same parent\n",
    "\n",
    "\n",
    "class Cricket:\n",
    "    bat1 = \"asics\"\n",
    "    ball1 = \"kokkapura\"\n",
    "    \n",
    "    def test_cricket(self):\n",
    "        print(\"I am playing test cricket with \", self.bat1)\n",
    "        \n",
    "\n",
    "class Cricket_2ndgen(Cricket): \n",
    "    bat2 = \"Madras Rubber Factory\"\n",
    "    ball2 = \"Reebok\"\n",
    "    \n",
    "    def odi_cricket(self1):\n",
    "        print(\"I am playing odi cricket with \", self1.ball2)\n",
    "        \n",
    "        \n",
    "class Cricket_3rdgen(Cricket): \n",
    "    bat3 = \"Britannia\"\n",
    "    ball3 = \"pink ball\"\n",
    "    \n",
    "    def t20_cricket(self):\n",
    "        print(\"I am playing t20 cricket with \", self.ball3)\n",
    "        \n",
    "        \n",
    "cric1 = Cricket()\n",
    "cric1.test_cricket()\n",
    "\n",
    "\n",
    "cric2 = Cricket_2ndgen()\n",
    "cric2.odi_cricket()\n",
    "cric2.test_cricket()\n",
    "        \n",
    "        \n",
    "cric3 = Cricket_3rdgen()\n",
    "cric3.t20_cricket()\n",
    "cric3.test_cricket()"
   ]
  },
  {
   "cell_type": "code",
   "execution_count": 54,
   "metadata": {},
   "outputs": [
    {
     "name": "stdout",
     "output_type": "stream",
     "text": [
      "I am playing test cricket with  asics\n",
      "I am playing test cricket with  asics\n",
      "I am playing odi cricket with  Reebok\n",
      "I am playing t20 cricket with  pink ball\n",
      "I am playing test cricket with  asics\n"
     ]
    }
   ],
   "source": [
    "#multi level\n",
    "\n",
    "class Cricket:\n",
    "    bat1 = \"asics\"\n",
    "    ball1 = \"kokkapura\"\n",
    "    \n",
    "    def test_cricket(self):\n",
    "        print(\"I am playing test cricket with \", self.bat1)\n",
    "        \n",
    "\n",
    "class Cricket_2ndgen(Cricket): \n",
    "    bat2 = \"Madras Rubber Factory\"\n",
    "    ball2 = \"Reebok\"\n",
    "    \n",
    "    def odi_cricket(self1):\n",
    "        print(\"I am playing odi cricket with \", self1.ball2)\n",
    "        \n",
    "        \n",
    "class Cricket_3rdgen(Cricket_2ndgen): \n",
    "    bat3 = \"Britannia\"\n",
    "    ball3 = \"pink ball\"\n",
    "    \n",
    "    def t20_cricket(self):\n",
    "        print(\"I am playing t20 cricket with \", self.ball3)\n",
    "        \n",
    "\n",
    "cri1 = Cricket()\n",
    "cri1.test_cricket()\n",
    "\n",
    "cri2 = Cricket_2ndgen()\n",
    "cri2.test_cricket()\n",
    "cri2.odi_cricket()\n",
    "\n",
    "cri3 = Cricket_3rdgen()\n",
    "cri3.t20_cricket()\n",
    "cri3.odi_cricket\n",
    "cri3.test_cricket()"
   ]
  },
  {
   "cell_type": "code",
   "execution_count": 58,
   "metadata": {},
   "outputs": [
    {
     "name": "stdout",
     "output_type": "stream",
     "text": [
      "I am playing t20 cricket with  pink ball\n"
     ]
    }
   ],
   "source": [
    "#Hybrid: More than any two inheritance types\n",
    "\n",
    "class Cricket:\n",
    "    bat1 = \"asics\"\n",
    "    ball1 = \"kokkapura\"\n",
    "    \n",
    "    def test_cricket(self):\n",
    "        print(\"I am playing test cricket with \", self.bat1)\n",
    "        \n",
    "\n",
    "class Cricket_2ndgen(): \n",
    "    bat2 = \"Madras Rubber Factory\"\n",
    "    ball2 = \"Reebok\"\n",
    "    \n",
    "    def odi_cricket(self1):\n",
    "        print(\"I am playing odi cricket with \", self1.ball2)\n",
    "        \n",
    "        \n",
    "class Cricket_3rdgen(Cricket,Cricket_2ndgen): \n",
    "    bat3 = \"Britannia\"\n",
    "    ball3 = \"pink ball\"\n",
    "    \n",
    "    def t20_cricket(self):\n",
    "        print(\"I am playing t20 cricket with \", self.ball3)\n",
    "        \n",
    "class Cricket_4thgen(Cricket_3rdgen):\n",
    "    bat4 = \"ggg\"\n",
    "    ball4 = \"ssss\"\n",
    "    def ball100cricket(self):\n",
    "        print(\"I am playing 100 cricket with \", self.ball4)\n",
    "        \n",
    "\n",
    "cri4 = Cricket_4thgen()\n",
    "cri4.t20_cricket()"
   ]
  },
  {
   "cell_type": "code",
   "execution_count": null,
   "metadata": {},
   "outputs": [],
   "source": [
    "#https://www.geeksforgeeks.org/inheritance-in-python/?ref=lbp\n",
    "\n",
    "\n",
    "#Phd\n",
    "#Master degree\n",
    "#Bachelors degree\n",
    "#Diploma\n",
    "#HSC\n",
    "#SSLC\n",
    "\n",
    "\n"
   ]
  },
  {
   "cell_type": "code",
   "execution_count": null,
   "metadata": {},
   "outputs": [],
   "source": [
    "#Method overriding\n",
    "#Super function\n",
    "#abstract class\n",
    "#Encapsulation (public, protected, private)\n"
   ]
  },
  {
   "cell_type": "code",
   "execution_count": 3,
   "metadata": {},
   "outputs": [
    {
     "name": "stdout",
     "output_type": "stream",
     "text": [
      "This is coming from class A and function1\n",
      "This is coming from class B and function1\n"
     ]
    }
   ],
   "source": [
    "#Method overriding  #https://www.geeksforgeeks.org/python-method-overloading/\n",
    "\n",
    "class A:\n",
    "    def function1(self):\n",
    "        print(\"This is coming from class A and function1\")\n",
    "        \n",
    "class B(A):\n",
    "    def function1(self):\n",
    "        print(\"This is coming from class B and function1\")\n",
    "        \n",
    "\n",
    "        \n",
    "#Without inheritance\n",
    "obj1 = A()\n",
    "obj1.function1()\n",
    "\n",
    "\n",
    "obj2 = B()\n",
    "obj2.function1()\n",
    "\n",
    "\n",
    "#Method overriding\n",
    "\n",
    "#same method name in parent and child's inhertiaed classes\n",
    "#Child clss will get priority over parent class\n",
    "\n",
    "#https://www.geeksforgeeks.org/python-method-overloading/\n",
    "\n",
    "\n"
   ]
  },
  {
   "cell_type": "code",
   "execution_count": 8,
   "metadata": {},
   "outputs": [
    {
     "name": "stdout",
     "output_type": "stream",
     "text": [
      "function from class A and function 1\n",
      "function from class B and function 2\n"
     ]
    }
   ],
   "source": [
    "#super class\n",
    "\n",
    "class Z:\n",
    "    def function0(self):\n",
    "        print(\"function from class Z and function 0\")\n",
    "\n",
    "class A:\n",
    "    def function1(self):\n",
    "        print(\"function from class A and function 1\")\n",
    "        \n",
    "class B(A):\n",
    "    def function2(self):\n",
    "        super().function1() #super function\n",
    "        print(\"function from class B and function 2\")\n",
    "        \n",
    "B_obj = B()\n",
    "B_obj.function2()\n",
    "\n",
    "#super function \n",
    "\n",
    "#Calling methods in inherited class directly\n",
    "\n",
    "#https://www.geeksforgeeks.org/python-super/"
   ]
  },
  {
   "cell_type": "code",
   "execution_count": null,
   "metadata": {},
   "outputs": [],
   "source": [
    "#Abstract method / Abstract class\n",
    "\n",
    "#Abstract class is blueprint for other classes\n",
    "#Class which contains abstract method is called as abstract class\n",
    "\n",
    "#Abstract comes with function definition not with any implementation or function call\n",
    "\n"
   ]
  },
  {
   "cell_type": "code",
   "execution_count": 9,
   "metadata": {},
   "outputs": [
    {
     "name": "stdout",
     "output_type": "stream",
     "text": [
      "I have 3 sides\n",
      "I have 4 sides\n",
      "I have 5 sides\n",
      "I have 6 sides\n"
     ]
    }
   ],
   "source": [
    "from abc import ABC, abstractmethod\n",
    " \n",
    "class Polygon(ABC): #THis is the only abstract class\n",
    " \n",
    "    @abstractmethod\n",
    "    def noofsides(self):\n",
    "        pass\n",
    " \n",
    "class Triangle(Polygon):\n",
    " \n",
    "    # overriding abstract method\n",
    "    def noofsides(self):\n",
    "        print(\"I have 3 sides\")\n",
    " \n",
    "class Pentagon(Polygon):\n",
    " \n",
    "    # overriding abstract method\n",
    "    def noofsides(self):\n",
    "        print(\"I have 5 sides\")\n",
    " \n",
    "class Hexagon(Polygon):\n",
    " \n",
    "    # overriding abstract method\n",
    "    def noofsides(self):\n",
    "        print(\"I have 6 sides\")\n",
    " \n",
    "class Quadrilateral(Polygon):\n",
    " \n",
    "    # overriding abstract method\n",
    "    def noofsides(self):\n",
    "        print(\"I have 4 sides\")\n",
    " \n",
    "# Driver code\n",
    "R = Triangle()\n",
    "R.noofsides()\n",
    " \n",
    "K = Quadrilateral()\n",
    "K.noofsides()\n",
    " \n",
    "R = Pentagon()\n",
    "R.noofsides()\n",
    " \n",
    "K = Hexagon()\n",
    "K.noofsides()"
   ]
  },
  {
   "cell_type": "code",
   "execution_count": 19,
   "metadata": {},
   "outputs": [
    {
     "name": "stdout",
     "output_type": "stream",
     "text": [
      "The school name is KVS\n",
      "Marks calculation from collegue\n"
     ]
    }
   ],
   "source": [
    "#abstract class\n",
    "#https://www.geeksforgeeks.org/abstract-classes-in-python/\n",
    "\n",
    "from abc import ABC,abstractmethod\n",
    "\n",
    "\n",
    "class abstract_main_class(ABC):\n",
    "    @abstractmethod\n",
    "    def marks_calculation(self):\n",
    "        pass\n",
    "    \n",
    "    @abstractmethod\n",
    "    def class_decider(self):\n",
    "        pass\n",
    "    \n",
    "class collegue1_class(abstract_main_class):\n",
    "    \n",
    "    def marks_calculation(self):\n",
    "        print(\"Marks calculation from collegue\")\n",
    "        \n",
    "    def class_decider(self):\n",
    "        print(\"class decider from collegue\")\n",
    "    \n",
    "    def school_name(self):\n",
    "        print(\"The school name is KVS\")\n",
    "        \n",
    "        \n",
    "obj1 = collegue1_class()\n",
    "obj1.school_name()\n",
    "obj1.marks_calculation()"
   ]
  },
  {
   "cell_type": "code",
   "execution_count": null,
   "metadata": {},
   "outputs": [],
   "source": [
    "#Encapsulation\n",
    "#Polymorphism\n",
    "#https://github.com/DONTSAYCANT/Python_concepts/blob/master/Other_concepts.ipynb\n",
    "\n",
    "#SQL:\n",
    "\n",
    "https://www.hackerrank.com/domains/sql\n",
    "https://www.w3schools.com/sql/default.asp\n",
    "https://www.geeksforgeeks.org/mysqldb-connection-python/\n"
   ]
  },
  {
   "cell_type": "code",
   "execution_count": null,
   "metadata": {},
   "outputs": [],
   "source": []
  },
  {
   "cell_type": "code",
   "execution_count": null,
   "metadata": {},
   "outputs": [],
   "source": []
  }
 ],
 "metadata": {
  "kernelspec": {
   "display_name": "Python 3",
   "language": "python",
   "name": "python3"
  },
  "language_info": {
   "codemirror_mode": {
    "name": "ipython",
    "version": 3
   },
   "file_extension": ".py",
   "mimetype": "text/x-python",
   "name": "python",
   "nbconvert_exporter": "python",
   "pygments_lexer": "ipython3",
   "version": "3.7.6"
  }
 },
 "nbformat": 4,
 "nbformat_minor": 4
}
