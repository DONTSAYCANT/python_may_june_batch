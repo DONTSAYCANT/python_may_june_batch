{
 "cells": [
  {
   "cell_type": "code",
   "execution_count": null,
   "metadata": {},
   "outputs": [],
   "source": [
    "#Object oriented programming: Geeks for Geeks \n",
    "\n",
    "#https://www.geeksforgeeks.org/python-classes-and-objects/\n",
    "\n",
    "\n",
    "#Class \n",
    "\n",
    "#Object\n",
    "\n",
    "\n",
    "#Functional programming: Using functions\n",
    "#Object oriented programming Using Classes (Methods ===> function inside a class) & object\n",
    "\n",
    "#School:\n",
    "#application form ==> class blueprint\n",
    "\n",
    "\n",
    "#Sekar ==> form ==> object1\n",
    "#ravi ===> form ==> object2\n",
    "#sam ==> form ====> object3\n",
    "\n",
    "Methods:\n",
    "\n",
    "#mark calculation\n",
    "\n",
    "#DOB ==> age method\n",
    "\n",
    "\n",
    "#Variables:\n",
    "\n",
    "#class variable\n",
    "#Object variable\n",
    "\n",
    "#method types\n",
    "\n",
    "#Normal Method\n",
    "#Class method\n",
    "#Static method\n",
    "\n",
    "#init\n",
    "\n",
    "\n",
    "\n"
   ]
  },
  {
   "cell_type": "code",
   "execution_count": 2,
   "metadata": {},
   "outputs": [],
   "source": [
    "#class creation\n",
    "\n",
    "class School_admission:\n",
    "    pass\n",
    "      \n",
    "Student_sam = School_admission()\n",
    "Student_ravi = School_admission()\n",
    "Student_ram = School_admission()  \n",
    "    \n",
    "#Interivew : how to create an empty class\n",
    "\n",
    "#Class  ===> Blueprint of an object\n",
    "#Object ==> instant of the class\n",
    "#Method ==> function inside the class"
   ]
  },
  {
   "cell_type": "code",
   "execution_count": 9,
   "metadata": {},
   "outputs": [
    {
     "name": "stdout",
     "output_type": "stream",
     "text": [
      "Cricket\n",
      "10.00\n",
      "Cricket\n",
      "Cricket\n",
      "Foot ball\n",
      "Foot ball\n",
      "Foot ball\n"
     ]
    }
   ],
   "source": [
    "#class variable object variable\n",
    "\n",
    "#class variable\n",
    "\n",
    "class School_admission:\n",
    "    game = \"Cricket\"\n",
    "    School_timing = \"10.00\"\n",
    "      \n",
    "Student_sam = School_admission()\n",
    "Student_ravi = School_admission()\n",
    "\n",
    "print(School_admission.game)\n",
    "print(School_admission.School_timing)\n",
    "\n",
    "print(Student_sam.game)\n",
    "print(Student_ravi.game)\n",
    "\n",
    "\n",
    "School_admission.game = \"Foot ball\"  #Modifying class variable\n",
    "\n",
    "print(School_admission.game)\n",
    "print(Student_sam.game)\n",
    "print(Student_ravi.game)\n"
   ]
  },
  {
   "cell_type": "code",
   "execution_count": 11,
   "metadata": {},
   "outputs": [
    {
     "name": "stdout",
     "output_type": "stream",
     "text": [
      "Cricket\n",
      "Cricket\n",
      "Javelin\n",
      "Cricket\n"
     ]
    }
   ],
   "source": [
    "#Object variable\n",
    "\n",
    "class School_admission:\n",
    "    game = \"Cricket\"\n",
    "    School_timing = \"10.00\"\n",
    "      \n",
    "Student_ravan = School_admission()\n",
    "Student_hanu = School_admission()\n",
    "\n",
    "print(Student_ravan.game)\n",
    "print(Student_hanu.game)\n",
    "\n",
    "Student_ravan.game = \"Javelin\"\n",
    "\n",
    "print(Student_ravan.game)\n",
    "print(Student_hanu.game)\n",
    "\n",
    "#Attribute ==> variable inside class\n",
    "\n"
   ]
  },
  {
   "cell_type": "code",
   "execution_count": null,
   "metadata": {},
   "outputs": [],
   "source": []
  },
  {
   "cell_type": "code",
   "execution_count": null,
   "metadata": {},
   "outputs": [],
   "source": []
  },
  {
   "cell_type": "code",
   "execution_count": null,
   "metadata": {},
   "outputs": [],
   "source": []
  },
  {
   "cell_type": "code",
   "execution_count": null,
   "metadata": {},
   "outputs": [],
   "source": []
  },
  {
   "cell_type": "code",
   "execution_count": null,
   "metadata": {},
   "outputs": [],
   "source": []
  },
  {
   "cell_type": "code",
   "execution_count": null,
   "metadata": {},
   "outputs": [],
   "source": []
  }
 ],
 "metadata": {
  "kernelspec": {
   "display_name": "Python 3",
   "language": "python",
   "name": "python3"
  },
  "language_info": {
   "codemirror_mode": {
    "name": "ipython",
    "version": 3
   },
   "file_extension": ".py",
   "mimetype": "text/x-python",
   "name": "python",
   "nbconvert_exporter": "python",
   "pygments_lexer": "ipython3",
   "version": "3.7.6"
  }
 },
 "nbformat": 4,
 "nbformat_minor": 4
}
