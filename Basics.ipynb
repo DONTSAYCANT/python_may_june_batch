{
 "cells": [
  {
   "cell_type": "code",
   "execution_count": null,
   "metadata": {},
   "outputs": [],
   "source": [
    "#print\n",
    "#type\n",
    "#operators\n",
    "#string\n",
    "#variable\n",
    "\n"
   ]
  },
  {
   "cell_type": "code",
   "execution_count": 7,
   "metadata": {},
   "outputs": [],
   "source": [
    "#variable ==> container for storing value or data type\n",
    "#data type ==> type of data\n",
    "\n",
    "a = 10\n",
    "b = 20 \n",
    "c = 30\n",
    "\n",
    "d = 10.9999\n",
    "\n",
    "e = True\n",
    "\n",
    "d = False\n",
    "\n",
    "f = \"python\"\n",
    "\n",
    "#rules for creating variable\n",
    "\n",
    "\n",
    "#case sensitive\n",
    "a = 1\n",
    "A = 1\n",
    "\n",
    "#alpha numeric or _\n",
    "\n",
    "a_ = 10\n",
    "\n",
    "#It should not start with number\n",
    "\n",
    "#accepted\n",
    "a1 = 10\n",
    "a2 = 20\n",
    "var1 = 30\n",
    "\n",
    "#not accepted\n",
    "#1a =15\n",
    "#2b = 30\n",
    "\n",
    "#\n",
    "_a = 10\n",
    "\n",
    "#Best practices\n",
    "\n",
    "a= 10\n",
    "b =20\n",
    "\n",
    "\n",
    "#Give useful name to the variable\n",
    "number1= 10\n",
    "number =20\n",
    "ticket_number = 12198\n",
    "string1 = \"python\"\n",
    "\n",
    "a=10\n",
    "a= 10\n",
    "a = 10\n",
    "\n",
    "#comments single comment / multi line comment\n",
    "\n"
   ]
  },
  {
   "cell_type": "code",
   "execution_count": 14,
   "metadata": {},
   "outputs": [
    {
     "name": "stdout",
     "output_type": "stream",
     "text": [
      "13\n",
      "hello\n",
      "helo\n",
      "hello\n"
     ]
    }
   ],
   "source": [
    "\n",
    "#this value is for getting number1\n",
    "number1 = 10\n",
    "number2 = 30\n",
    "\n",
    "#Calculation of area with respect to breadth #documentation\n",
    "#value\n",
    "output = number1 + number2 // number1\n",
    "print(output)\n",
    "\n",
    "'''\n",
    "this program is written in python 3.72 version and it's compatable with RHEL 7\n",
    "'''\n",
    "\n",
    "\n",
    "\"\"\"\n",
    "this program is written in python 3.72 version and it's compatable with RHEL 7\n",
    "this program is written in python 3.72 version and it's compatable with RHEL 7\n",
    "this program is written in python 3.72 version and it's compatable with RHEL 7\n",
    "this program is written in python 3.72 version and it's compatable with RHEL 7\n",
    "\n",
    "\"\"\"\n",
    "print(\"hello\")\n",
    "\n",
    "\n",
    "print(\"helo\")\n",
    "print(\"hello\")"
   ]
  },
  {
   "cell_type": "code",
   "execution_count": 21,
   "metadata": {},
   "outputs": [
    {
     "name": "stdout",
     "output_type": "stream",
     "text": [
      "hello\n",
      "10\n",
      "20\n",
      "a\n",
      "<class 'str'>\n",
      "<class 'int'>\n",
      "<class 'float'>\n",
      "<class 'str'>\n",
      "<class 'bool'>\n"
     ]
    }
   ],
   "source": [
    "#print type ==> inbuilt function\n",
    "\n",
    "print(\"hello\")\n",
    "print(10)\n",
    "\n",
    "\n",
    "a = 20\n",
    "print(a)\n",
    "print(\"a\") #String data type\n",
    "\n",
    "print(type(\"python\"))\n",
    "print(type(a))\n",
    "\n",
    "b = 20.0\n",
    "print(type(b))\n",
    "\n",
    "\n",
    "c = \"20.0\"\n",
    "print(type(c))\n",
    "\n",
    "d = True\n",
    "e = False\n",
    "\n",
    "print(type(d))\n",
    "\n",
    "#str int float boolen complex"
   ]
  },
  {
   "cell_type": "code",
   "execution_count": null,
   "metadata": {},
   "outputs": [],
   "source": [
    "pgm1:\n",
    "\n",
    "    radius = 20 \n",
    "    calculate perimeter of circle : 2 pi radius\n",
    "        \n",
    "pgm2: \n",
    "    \n",
    "    radius = 99.10  height = 10.5\n",
    "    area of cone = 1/3 pi r2 h\n",
    "    output ===> int \n",
    "\n",
    "pgm3: \n",
    "    \n",
    "    five datatypes: 10-15 line program\n",
    "        #str int float boolen complex\n",
    "        \n",
    "pgm4: \n",
    "    \n",
    "    rules for creating variable\n",
    "\n"
   ]
  }
 ],
 "metadata": {
  "kernelspec": {
   "display_name": "Python 3",
   "language": "python",
   "name": "python3"
  },
  "language_info": {
   "codemirror_mode": {
    "name": "ipython",
    "version": 3
   },
   "file_extension": ".py",
   "mimetype": "text/x-python",
   "name": "python",
   "nbconvert_exporter": "python",
   "pygments_lexer": "ipython3",
   "version": "3.7.6"
  }
 },
 "nbformat": 4,
 "nbformat_minor": 4
}
