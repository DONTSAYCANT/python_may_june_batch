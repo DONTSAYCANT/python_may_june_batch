{
 "cells": [
  {
   "cell_type": "code",
   "execution_count": 5,
   "metadata": {},
   "outputs": [
    {
     "name": "stdout",
     "output_type": "stream",
     "text": [
      "9\n"
     ]
    }
   ],
   "source": [
    "#https://github.com/DONTSAYCANT/Python_complete/blob/master/Anonymous_function%2C%20List%20comprehension%2C%20Map%2C%20Filter%20others.ipynb\n",
    "#https://github.com/DONTSAYCANT/Python_complete/blob/master/Anonymous%20functions.ipynb\n",
    "\n",
    "\n",
    "\n",
    "#Lambda:\n",
    "\n",
    "cube_function = lambda x : x ** 2\n",
    "print(cube_function(3))\n",
    "\n",
    "\n",
    "#print(lambda x : x ** 2 + x**3)"
   ]
  },
  {
   "cell_type": "code",
   "execution_count": 2,
   "metadata": {},
   "outputs": [
    {
     "name": "stdout",
     "output_type": "stream",
     "text": [
      "16\n"
     ]
    }
   ],
   "source": [
    "def cube_function(x):\n",
    "    return x ** 2\n",
    "\n",
    "print(cube_function(4))"
   ]
  },
  {
   "cell_type": "code",
   "execution_count": null,
   "metadata": {},
   "outputs": [],
   "source": [
    "#print(lambda x : x ** 2 + x**3)"
   ]
  },
  {
   "cell_type": "code",
   "execution_count": 6,
   "metadata": {},
   "outputs": [
    {
     "name": "stdout",
     "output_type": "stream",
     "text": [
      "243\n"
     ]
    }
   ],
   "source": [
    "cube_function_1 = lambda x,y : x ** y\n",
    "print(cube_function_1(3,5))"
   ]
  },
  {
   "cell_type": "code",
   "execution_count": 7,
   "metadata": {},
   "outputs": [
    {
     "name": "stdout",
     "output_type": "stream",
     "text": [
      "[4, 25, 36, 49, 81, 100]\n"
     ]
    }
   ],
   "source": [
    "#map function\n",
    "\n",
    "Li1 = [2,5,6,7,9,10]\n",
    "\n",
    "val1 = list(map(lambda x: x**2, Li1))  #map(operation, List)\n",
    "\n",
    "print(val1)"
   ]
  },
  {
   "cell_type": "code",
   "execution_count": 8,
   "metadata": {},
   "outputs": [
    {
     "name": "stdout",
     "output_type": "stream",
     "text": [
      "[8, 125, 216, 343, 729, 1000]\n"
     ]
    }
   ],
   "source": [
    "Li1 = [2,5,6,7,9,10]\n",
    "\n",
    "def cuber(x):\n",
    "    return x ** 3\n",
    "\n",
    "val1 = list(map(cuber, Li1))  #map(operation, List)\n",
    "\n",
    "print(val1)"
   ]
  },
  {
   "cell_type": "code",
   "execution_count": 9,
   "metadata": {},
   "outputs": [
    {
     "name": "stdout",
     "output_type": "stream",
     "text": [
      "[8, 125, 216, 343, 729, 1000]\n"
     ]
    }
   ],
   "source": [
    "Li1 = [2,5,6,7,9,10]\n",
    "val1 = []\n",
    "\n",
    "for i in Li1:\n",
    "    val = i ** 3\n",
    "    val1.append(i**3)\n",
    "    \n",
    "print(val1)\n",
    "    "
   ]
  },
  {
   "cell_type": "code",
   "execution_count": 11,
   "metadata": {},
   "outputs": [
    {
     "name": "stdout",
     "output_type": "stream",
     "text": [
      "[3, 9]\n"
     ]
    }
   ],
   "source": [
    "#filter\n",
    "\n",
    "Li1 = [1,2,3,4,7,9,10,11]\n",
    "\n",
    "val2 = list(filter(lambda x : x % 3 == 0, Li1))\n",
    "\n",
    "print(val2)"
   ]
  },
  {
   "cell_type": "code",
   "execution_count": 13,
   "metadata": {},
   "outputs": [
    {
     "name": "stdout",
     "output_type": "stream",
     "text": [
      "[2, 4, 10]\n"
     ]
    }
   ],
   "source": [
    "Li1 = [1,2,3,4,7,9,10,11]\n",
    "\n",
    "def filter_even(x):\n",
    "    return x%2 == 0\n",
    "\n",
    "val2 = list(filter(filter_even, Li1))\n",
    "print(val2)"
   ]
  },
  {
   "cell_type": "code",
   "execution_count": 16,
   "metadata": {},
   "outputs": [
    {
     "name": "stdout",
     "output_type": "stream",
     "text": [
      "36\n"
     ]
    }
   ],
   "source": [
    "#Reduce:\n",
    "\n",
    "from functools import reduce\n",
    "\n",
    "Li1 = [10,3,4,5,6,8]\n",
    "\n",
    "val1 = reduce(lambda x,y:x+y, Li1)\n",
    "\n",
    "print(val1)\n",
    "\n",
    "#[10,3,4,5,6,8]\n",
    "#[13,4,5,6,8]\n",
    "#[17,5,6,8]\n",
    "#[22,6,8]\n",
    "#[28,8]\n",
    "#[36]\n",
    "#36"
   ]
  },
  {
   "cell_type": "code",
   "execution_count": 17,
   "metadata": {},
   "outputs": [
    {
     "name": "stdout",
     "output_type": "stream",
     "text": [
      "[2, 4, 10, 50]\n"
     ]
    }
   ],
   "source": [
    "#List comprehension\n",
    "\n",
    "Li2 = [1,2,3,4,5,10,50,51,53]\n",
    "out = []\n",
    "\n",
    "for i in Li2:\n",
    "    if i % 2 == 0:\n",
    "        out.append(i ** 3)\n",
    "        \n",
    "print(out)\n"
   ]
  },
  {
   "cell_type": "code",
   "execution_count": 27,
   "metadata": {},
   "outputs": [
    {
     "name": "stdout",
     "output_type": "stream",
     "text": [
      "[8, 64, 1000, 125000]\n"
     ]
    }
   ],
   "source": [
    "Li2 = [1,2,3,4,5,10,50,51,53]\n",
    "\n",
    "out = [i**3 for i in Li2 if i % 2 == 0] #[operation for append, for loop, if condition]\n",
    "\n",
    "print(out)"
   ]
  },
  {
   "cell_type": "code",
   "execution_count": 29,
   "metadata": {},
   "outputs": [
    {
     "name": "stdout",
     "output_type": "stream",
     "text": [
      "[1, 8, 27, 64, 125, 216, 343, 512, 729]\n"
     ]
    }
   ],
   "source": [
    "out = [i**3 for i in range(1,10)]\n",
    "print(out)"
   ]
  },
  {
   "cell_type": "code",
   "execution_count": 30,
   "metadata": {},
   "outputs": [
    {
     "name": "stdout",
     "output_type": "stream",
     "text": [
      "[400, 21, 484, 23, 576, 25, 676, 27, 784, 29]\n"
     ]
    }
   ],
   "source": [
    "Li2 = [i**2 if i % 2 ==0 else i for i in range(20,30) ] #With if else list comprehension\n",
    "print(Li2)"
   ]
  },
  {
   "cell_type": "code",
   "execution_count": 32,
   "metadata": {},
   "outputs": [
    {
     "name": "stdout",
     "output_type": "stream",
     "text": [
      "{64, 1, 512, 8, 343, 216, 729, 27, 125}\n"
     ]
    }
   ],
   "source": [
    "#set comprehension\n",
    "\n",
    "out1 = {i**3 for i in range(1,10)}\n",
    "print(out1)"
   ]
  },
  {
   "cell_type": "code",
   "execution_count": 34,
   "metadata": {},
   "outputs": [
    {
     "name": "stdout",
     "output_type": "stream",
     "text": [
      "{1: 1, 2: 8, 3: 27, 4: 64, 5: 125, 6: 216, 7: 343, 8: 512, 9: 729}\n"
     ]
    }
   ],
   "source": [
    "#dictionary comprehension\n",
    "\n",
    "\n",
    "out1 = {i:i**3 for i in range(1,10)} #key value pair\n",
    "print(out1)"
   ]
  },
  {
   "cell_type": "code",
   "execution_count": 36,
   "metadata": {},
   "outputs": [
    {
     "name": "stdout",
     "output_type": "stream",
     "text": [
      "<class 'generator'>\n"
     ]
    }
   ],
   "source": [
    "\n",
    "out1 = (i**3 for i in range(1,10))\n",
    "print(type(out1))"
   ]
  },
  {
   "cell_type": "code",
   "execution_count": null,
   "metadata": {},
   "outputs": [],
   "source": []
  }
 ],
 "metadata": {
  "kernelspec": {
   "display_name": "Python 3",
   "language": "python",
   "name": "python3"
  },
  "language_info": {
   "codemirror_mode": {
    "name": "ipython",
    "version": 3
   },
   "file_extension": ".py",
   "mimetype": "text/x-python",
   "name": "python",
   "nbconvert_exporter": "python",
   "pygments_lexer": "ipython3",
   "version": "3.7.6"
  }
 },
 "nbformat": 4,
 "nbformat_minor": 4
}
