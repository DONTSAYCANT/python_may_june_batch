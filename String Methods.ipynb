{
 "cells": [
  {
   "cell_type": "code",
   "execution_count": 1,
   "metadata": {},
   "outputs": [],
   "source": [
    "#https://github.com/DONTSAYCANT/Python_complete/blob/master/String%20Methods.ipynb\n",
    "#https://www.w3schools.com/python/python_ref_string.asp\n",
    "\n"
   ]
  },
  {
   "cell_type": "code",
   "execution_count": 3,
   "metadata": {},
   "outputs": [
    {
     "name": "stdout",
     "output_type": "stream",
     "text": [
      "Mango is a fruit\n"
     ]
    }
   ],
   "source": [
    "#Capitalize\n",
    "\n",
    "\n",
    "val1 = \"mango is a fruit\"\n",
    "val2 = val1.capitalize()\n",
    "print(val2)"
   ]
  },
  {
   "cell_type": "code",
   "execution_count": 6,
   "metadata": {},
   "outputs": [
    {
     "name": "stdout",
     "output_type": "stream",
     "text": [
      "helloworld\n",
      "helloworld\n",
      "hello world\n"
     ]
    }
   ],
   "source": [
    "#Concatenation\n",
    "\n",
    "val1 = \"hello\"\n",
    "val2 = \"world\"\n",
    "val3 = val1 + val2\n",
    "print(val3)\n",
    "\n",
    "print(val1 + val2)\n",
    "\n",
    "val4 = val1 + \" \" + val2\n",
    "print(val4)\n",
    "\n"
   ]
  },
  {
   "cell_type": "code",
   "execution_count": 9,
   "metadata": {},
   "outputs": [
    {
     "name": "stdout",
     "output_type": "stream",
     "text": [
      "PYTHON\n"
     ]
    }
   ],
   "source": [
    "a = \"python\"\n",
    "\n",
    "val1 = a.upper()\n",
    "print(val1)"
   ]
  },
  {
   "cell_type": "code",
   "execution_count": 10,
   "metadata": {},
   "outputs": [
    {
     "name": "stdout",
     "output_type": "stream",
     "text": [
      "PYTHON\n"
     ]
    }
   ],
   "source": [
    "a = \"PYTHON\"\n",
    "\n",
    "val1 = a.upper()\n",
    "print(val1)"
   ]
  },
  {
   "cell_type": "code",
   "execution_count": null,
   "metadata": {},
   "outputs": [],
   "source": [
    "#Get one string from user (python)\n",
    "#PythoN\n",
    "\n",
    "\n",
    "#ComputeR\n",
    "\n",
    "#Indexing\n",
    "#upper\n",
    "#concatenation"
   ]
  },
  {
   "cell_type": "code",
   "execution_count": 11,
   "metadata": {},
   "outputs": [
    {
     "name": "stdout",
     "output_type": "stream",
     "text": [
      "please enter string: computer\n",
      "ComputeR\n"
     ]
    }
   ],
   "source": [
    "a = input(\"please enter string: \")\n",
    "\n",
    "b = a[0].upper()\n",
    "c = a[1:-1]\n",
    "d = a[-1].upper()\n",
    "\n",
    "e = b + c + d\n",
    "\n",
    "print(e)\n",
    "\n",
    "\n"
   ]
  },
  {
   "cell_type": "code",
   "execution_count": 12,
   "metadata": {},
   "outputs": [
    {
     "name": "stdout",
     "output_type": "stream",
     "text": [
      "please enter string: technology\n",
      "TechnologY\n"
     ]
    }
   ],
   "source": [
    "a = input(\"please enter string: \")\n",
    "print(a[0].upper() + a[1:-1] + a[-1].upper())"
   ]
  },
  {
   "cell_type": "code",
   "execution_count": null,
   "metadata": {},
   "outputs": [],
   "source": [
    "#Get one string (Captial) ==> PYTHON\n",
    "#Convert middle letter of the string in to small\n",
    "\n",
    "PYThON"
   ]
  },
  {
   "cell_type": "code",
   "execution_count": 14,
   "metadata": {},
   "outputs": [
    {
     "name": "stdout",
     "output_type": "stream",
     "text": [
      "pythonpythonpython\n"
     ]
    }
   ],
   "source": [
    "print(\"python\" * 3)"
   ]
  },
  {
   "cell_type": "code",
   "execution_count": null,
   "metadata": {},
   "outputs": [],
   "source": [
    "#Task3. Get two values (input) ===> string, number\n",
    "\n",
    "#computer_science, 3 ===> mocputer_scieecn\n",
    "\n",
    "#biology , 2  ===> iboloyg\n",
    "\n",
    "#capital programs strings"
   ]
  },
  {
   "cell_type": "code",
   "execution_count": 20,
   "metadata": {},
   "outputs": [
    {
     "name": "stdout",
     "output_type": "stream",
     "text": [
      "please enter a stringcomputer\n",
      "please enter a number2\n",
      "oc\n",
      "re\n",
      "ocmputre\n"
     ]
    }
   ],
   "source": [
    "a = input(\"please enter a string\")\n",
    "b = int(input(\"please enter a number\"))\n",
    "\n",
    "c = a[:b][::-1]\n",
    "d = a[len(a)-b:][::-1]\n",
    "\n",
    "\n",
    "print(c)\n",
    "print(d)\n",
    "\n",
    "print(c + a[b:len(a)-b] + d)\n",
    "\n"
   ]
  },
  {
   "cell_type": "code",
   "execution_count": 24,
   "metadata": {},
   "outputs": [
    {
     "name": "stdout",
     "output_type": "stream",
     "text": [
      "P\n",
      "wikiPedia\n"
     ]
    }
   ],
   "source": [
    "a = \"wikipedia\"\n",
    "\n",
    "b = len(a) // 2\n",
    "c = a[b]\n",
    "\n",
    "d = c.upper()\n",
    "print(d)\n",
    "\n",
    "print(a[:b] + d + a[b+1:])  #starting up to middle + middle upper letter + middle to last letter"
   ]
  },
  {
   "cell_type": "code",
   "execution_count": 29,
   "metadata": {},
   "outputs": [
    {
     "name": "stdout",
     "output_type": "stream",
     "text": [
      "1\n",
      "1\n",
      "0\n",
      "2\n",
      "2\n"
     ]
    }
   ],
   "source": [
    "a = \"pythonmm\"\n",
    "\n",
    "b = \"on\"\n",
    "\n",
    "print(a.count(b))\n",
    "print(a.count(\"mm\"))\n",
    "print(a.count(\"z\"))\n",
    "print(a.count(\"m\"))\n",
    "\n",
    "print(\"apple\".count(\"p\"))\n",
    "\n"
   ]
  },
  {
   "cell_type": "code",
   "execution_count": 32,
   "metadata": {},
   "outputs": [
    {
     "name": "stdout",
     "output_type": "stream",
     "text": [
      "The volume of cone is  259.05\n",
      "The volume of come with radius 5 and height 10 is 259.05\n"
     ]
    }
   ],
   "source": [
    "height = 10\n",
    "radius = 5\n",
    "\n",
    "volume = 0.33 * 3.14 * radius * radius * height\n",
    "\n",
    "print(\"The volume of cone is \", volume)\n",
    "\n",
    "print(\"The volume of cone with radius {} and height {} is {}\".format(radius,height,volume))"
   ]
  },
  {
   "cell_type": "code",
   "execution_count": 33,
   "metadata": {},
   "outputs": [
    {
     "name": "stdout",
     "output_type": "stream",
     "text": [
      "pythonpythonpythonpythonpythonpythonpythonpythonpythonpython\n"
     ]
    }
   ],
   "source": [
    "a = \"python\"\n",
    "\n",
    "print(a*10)"
   ]
  },
  {
   "cell_type": "code",
   "execution_count": 36,
   "metadata": {},
   "outputs": [
    {
     "name": "stdout",
     "output_type": "stream",
     "text": [
      "pythcd\n",
      "python\n"
     ]
    }
   ],
   "source": [
    "#Replace\n",
    "\n",
    "a = \"python\"\n",
    "\n",
    "b = a.replace(\"on\",\"cd\")\n",
    "\n",
    "c = a.replace(\"xy\",\"00\")\n",
    "\n",
    "\n",
    "print(b)\n",
    "print(c)\n"
   ]
  },
  {
   "cell_type": "code",
   "execution_count": 39,
   "metadata": {},
   "outputs": [
    {
     "name": "stdout",
     "output_type": "stream",
     "text": [
      "4\n",
      "5\n",
      "-1\n"
     ]
    }
   ],
   "source": [
    "#Find\n",
    "\n",
    "\n",
    "a = \"python\"\n",
    "\n",
    "print(a.find(\"o\"))\n",
    "\n",
    "print(a.find(\"n\"))\n",
    "\n",
    "print(a.find(\"z\"))  #IF doesn't exist -1 is the default output\n"
   ]
  },
  {
   "cell_type": "code",
   "execution_count": 43,
   "metadata": {},
   "outputs": [
    {
     "name": "stdout",
     "output_type": "stream",
     "text": [
      "python\n",
      "python\n",
      "python**\n",
      "*****python\n"
     ]
    }
   ],
   "source": [
    "#strip / lstrip / rstrip\n",
    "\n",
    "\n",
    "a = \" python \"\n",
    "b = a.strip() #Default space arguement\n",
    "print(b)\n",
    "\n",
    "a = \"*****python**\"\n",
    "b = a.strip(\"*\")\n",
    "print(b)\n",
    "\n",
    "\n",
    "a = \"*****python**\"\n",
    "b = a.lstrip(\"*\")\n",
    "print(b)\n",
    "\n",
    "a = \"*****python**\"\n",
    "b = a.rstrip(\"*\")\n",
    "print(b)"
   ]
  },
  {
   "cell_type": "code",
   "execution_count": 44,
   "metadata": {},
   "outputs": [
    {
     "name": "stdout",
     "output_type": "stream",
     "text": [
      "PYthON\n"
     ]
    }
   ],
   "source": [
    "a = \"pyTHon\"\n",
    "\n",
    "b = a.swapcase()\n",
    "\n",
    "print(b)"
   ]
  },
  {
   "cell_type": "code",
   "execution_count": null,
   "metadata": {},
   "outputs": [],
   "source": []
  }
 ],
 "metadata": {
  "kernelspec": {
   "display_name": "Python 3",
   "language": "python",
   "name": "python3"
  },
  "language_info": {
   "codemirror_mode": {
    "name": "ipython",
    "version": 3
   },
   "file_extension": ".py",
   "mimetype": "text/x-python",
   "name": "python",
   "nbconvert_exporter": "python",
   "pygments_lexer": "ipython3",
   "version": "3.7.6"
  }
 },
 "nbformat": 4,
 "nbformat_minor": 4
}
