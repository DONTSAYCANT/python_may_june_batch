{
 "cells": [
  {
   "cell_type": "code",
   "execution_count": null,
   "metadata": {},
   "outputs": [],
   "source": [
    "#https://www.w3schools.com/python/python_ref_dictionary.asp\n",
    "\n",
    "#https://github.com/DONTSAYCANT/Python_complete/blob/master/Dictionary%20Methods.ipynb\n",
    "\n",
    "#String List tuple Set Dictionary methods\n"
   ]
  },
  {
   "cell_type": "code",
   "execution_count": null,
   "metadata": {},
   "outputs": [],
   "source": []
  },
  {
   "cell_type": "code",
   "execution_count": 2,
   "metadata": {},
   "outputs": [
    {
     "name": "stdout",
     "output_type": "stream",
     "text": [
      "{}\n",
      "<class 'dict'>\n"
     ]
    }
   ],
   "source": [
    "dict1 = dict()\n",
    "\n",
    "print(dict1)\n",
    "print(type(dict1))"
   ]
  },
  {
   "cell_type": "code",
   "execution_count": 4,
   "metadata": {},
   "outputs": [
    {
     "name": "stdout",
     "output_type": "stream",
     "text": [
      "{1: 'sceince', 2: 'Maths', 3: 'english'}\n",
      "<class 'dict'>\n",
      "3\n"
     ]
    }
   ],
   "source": [
    "dict2 = {1:\"science\", 2:\"Maths\", 3:\"english\"}\n",
    "\n",
    "print(dict2)\n",
    "print(type(dict2))\n",
    "print(len(dict2))"
   ]
  },
  {
   "cell_type": "code",
   "execution_count": 6,
   "metadata": {},
   "outputs": [
    {
     "name": "stdout",
     "output_type": "stream",
     "text": [
      "{1: 'science', 2: 'history', 3: 'english', 4: 'economics', 6: 'history'}\n"
     ]
    }
   ],
   "source": [
    "#Doesn;t allow duplicate keys\n",
    "#Key should be unique, value can be anything\n",
    "\n",
    "dict2 = {1:\"science\", 2:\"Maths\", 3:\"english\",4:\"economics\", 2:\"history\", 6:\"history\"}\n",
    "\n",
    "print(dict2)"
   ]
  },
  {
   "cell_type": "code",
   "execution_count": 8,
   "metadata": {},
   "outputs": [
    {
     "name": "stdout",
     "output_type": "stream",
     "text": [
      "{1: 'science', 2: 'history', 3: 'english', 4: 'economics', 6: 'history', 10: 'Botany'}\n",
      "{1: 'science', 2: 'history', 3: 'english', 4: 'Zoology', 6: 'history', 10: 'Botany'}\n"
     ]
    }
   ],
   "source": [
    "#addition and replacement #Mutable\n",
    "\n",
    "dict2[10] = \"Botany\"\n",
    "print(dict2)\n",
    "\n",
    "dict2[4] = \"Zoology\"\n",
    "print(dict2)"
   ]
  },
  {
   "cell_type": "code",
   "execution_count": 11,
   "metadata": {},
   "outputs": [
    {
     "name": "stdout",
     "output_type": "stream",
     "text": [
      "{1: 'science', 2: 'history', 3: 'english', 4: 'Zoology', 6: 'history', 10: 'Botany'}\n",
      "english\n"
     ]
    },
    {
     "ename": "KeyError",
     "evalue": "0",
     "output_type": "error",
     "traceback": [
      "\u001b[1;31m---------------------------------------------------------------------------\u001b[0m",
      "\u001b[1;31mKeyError\u001b[0m                                  Traceback (most recent call last)",
      "\u001b[1;32m<ipython-input-11-b5e241bbc0ca>\u001b[0m in \u001b[0;36m<module>\u001b[1;34m\u001b[0m\n\u001b[0;32m      2\u001b[0m \u001b[0mprint\u001b[0m\u001b[1;33m(\u001b[0m\u001b[0mdict2\u001b[0m\u001b[1;33m)\u001b[0m\u001b[1;33m\u001b[0m\u001b[1;33m\u001b[0m\u001b[0m\n\u001b[0;32m      3\u001b[0m \u001b[0mprint\u001b[0m\u001b[1;33m(\u001b[0m\u001b[0mdict2\u001b[0m\u001b[1;33m[\u001b[0m\u001b[1;36m3\u001b[0m\u001b[1;33m]\u001b[0m\u001b[1;33m)\u001b[0m\u001b[1;33m\u001b[0m\u001b[1;33m\u001b[0m\u001b[0m\n\u001b[1;32m----> 4\u001b[1;33m \u001b[0mprint\u001b[0m\u001b[1;33m(\u001b[0m\u001b[0mdict2\u001b[0m\u001b[1;33m[\u001b[0m\u001b[1;36m0\u001b[0m\u001b[1;33m]\u001b[0m\u001b[1;33m)\u001b[0m\u001b[1;33m\u001b[0m\u001b[1;33m\u001b[0m\u001b[0m\n\u001b[0m",
      "\u001b[1;31mKeyError\u001b[0m: 0"
     ]
    }
   ],
   "source": [
    "#No idexing and ordering\n",
    "print(dict2)\n",
    "print(dict2[3])\n",
    "print(dict2[0])"
   ]
  },
  {
   "cell_type": "code",
   "execution_count": 13,
   "metadata": {},
   "outputs": [
    {
     "name": "stdout",
     "output_type": "stream",
     "text": [
      "{1: 'science', 2: 'history', 3: 'english', 4: 'Zoology', 6: 'history', 10: 'Botany'}\n",
      "history\n"
     ]
    }
   ],
   "source": [
    "print(dict2)\n",
    "print(dict2.get(6))"
   ]
  },
  {
   "cell_type": "code",
   "execution_count": 16,
   "metadata": {},
   "outputs": [
    {
     "name": "stdout",
     "output_type": "stream",
     "text": [
      "dict_keys([1, 2, 3, 4, 6, 10])\n",
      "dict_values(['science', 'history', 'english', 'Zoology', 'history', 'Botany'])\n",
      "dict_items([(1, 'science'), (2, 'history'), (3, 'english'), (4, 'Zoology'), (6, 'history'), (10, 'Botany')])\n"
     ]
    }
   ],
   "source": [
    "print(dict2.keys())\n",
    "print(dict2.values())\n",
    "print(dict2.items())"
   ]
  },
  {
   "cell_type": "code",
   "execution_count": 19,
   "metadata": {},
   "outputs": [
    {
     "name": "stdout",
     "output_type": "stream",
     "text": [
      "{1: 'science', 2: 'history', 3: 'english', 4: 'economics', 6: 'history', 11: 'science', 12: 'history', 13: 'english', 14: 'economics', 16: 'history'}\n"
     ]
    }
   ],
   "source": [
    "#Update ===> concatenation\n",
    "dict2 = {1:\"science\", 2:\"Maths\", 3:\"english\",4:\"economics\", 2:\"history\", 6:\"history\"}\n",
    "dict3 = {11:\"science\", 12:\"Maths\", 13:\"english\",14:\"economics\", 12:\"history\", 16:\"history\"}\n",
    "\n",
    "#print(dict2 + dict3)\n",
    "\n",
    "dict2.update(dict3)\n",
    "print(dict2)"
   ]
  },
  {
   "cell_type": "code",
   "execution_count": 21,
   "metadata": {},
   "outputs": [
    {
     "name": "stdout",
     "output_type": "stream",
     "text": [
      "{1: 'science', 2: 'history', 3: 'english', 4: 'economics'}\n"
     ]
    }
   ],
   "source": [
    "#pop\n",
    "\n",
    "dict2 = {1:\"science\", 2:\"Maths\", 3:\"english\",4:\"economics\", 2:\"history\", 6:\"history\"}\n",
    "dict2.pop(6)\n",
    "print(dict2)"
   ]
  },
  {
   "cell_type": "code",
   "execution_count": 22,
   "metadata": {},
   "outputs": [
    {
     "name": "stdout",
     "output_type": "stream",
     "text": [
      "{1: 'science', 2: 'history', 3: 'english', 4: 'economics'}\n"
     ]
    }
   ],
   "source": [
    "#popitem\n",
    "dict2 = {1:\"science\", 2:\"Maths\", 3:\"english\",4:\"economics\", 2:\"history\", 6:\"history\"}\n",
    "dict2.popitem()\n",
    "print(dict2)"
   ]
  },
  {
   "cell_type": "code",
   "execution_count": 23,
   "metadata": {},
   "outputs": [
    {
     "name": "stdout",
     "output_type": "stream",
     "text": [
      "{1: 'science', 2: 'history', 4: 'economics'}\n"
     ]
    }
   ],
   "source": [
    "del dict2[3]\n",
    "print(dict2)\n",
    "\n"
   ]
  },
  {
   "cell_type": "code",
   "execution_count": 24,
   "metadata": {},
   "outputs": [
    {
     "ename": "NameError",
     "evalue": "name 'dict2' is not defined",
     "output_type": "error",
     "traceback": [
      "\u001b[1;31m---------------------------------------------------------------------------\u001b[0m",
      "\u001b[1;31mNameError\u001b[0m                                 Traceback (most recent call last)",
      "\u001b[1;32m<ipython-input-24-5bbbc179930b>\u001b[0m in \u001b[0;36m<module>\u001b[1;34m\u001b[0m\n\u001b[0;32m      1\u001b[0m \u001b[1;32mdel\u001b[0m \u001b[0mdict2\u001b[0m\u001b[1;33m\u001b[0m\u001b[1;33m\u001b[0m\u001b[0m\n\u001b[1;32m----> 2\u001b[1;33m \u001b[0mprint\u001b[0m\u001b[1;33m(\u001b[0m\u001b[0mdict2\u001b[0m\u001b[1;33m)\u001b[0m\u001b[1;33m\u001b[0m\u001b[1;33m\u001b[0m\u001b[0m\n\u001b[0m",
      "\u001b[1;31mNameError\u001b[0m: name 'dict2' is not defined"
     ]
    }
   ],
   "source": [
    "del dict2\n",
    "print(dict2)"
   ]
  },
  {
   "cell_type": "code",
   "execution_count": null,
   "metadata": {},
   "outputs": [],
   "source": [
    "#Difference between list tuple set dictionary"
   ]
  },
  {
   "cell_type": "code",
   "execution_count": 25,
   "metadata": {},
   "outputs": [
    {
     "ename": "SyntaxError",
     "evalue": "invalid syntax (<ipython-input-25-4cad4a32e497>, line 1)",
     "output_type": "error",
     "traceback": [
      "\u001b[1;36m  File \u001b[1;32m\"<ipython-input-25-4cad4a32e497>\"\u001b[1;36m, line \u001b[1;32m1\u001b[0m\n\u001b[1;33m    dict2 = {1:\"science\", 2:\"Maths\", 3:\"english\",4:\"economics\", 2:\"history\", 6:\"history\",9}\u001b[0m\n\u001b[1;37m                                                                                          ^\u001b[0m\n\u001b[1;31mSyntaxError\u001b[0m\u001b[1;31m:\u001b[0m invalid syntax\n"
     ]
    }
   ],
   "source": [
    "dict2 = {1:\"science\", 2:\"Maths\", 3:\"english\",4:\"economics\", 2:\"history\", 6:\"history\"}\n",
    "\n",
    "print(dict2)"
   ]
  },
  {
   "cell_type": "code",
   "execution_count": null,
   "metadata": {},
   "outputs": [],
   "source": [
    "#Difference between list tuple set dictionary\n",
    "\n",
    "\n",
    "List         1. []    2. ordered or indexed          3. Allows duplicates      4. Mutable  5. Concatenation supported\n",
    "\n",
    "Tuple        1. ()    2. ordered or indexed         3. Allows duplicates       4. Immutable  5. Concatenation supported\n",
    "\n",
    "Set          1. {}    2. No ordering / No indexing   3. No duplicates           4. Mutable  5. Concatenation not supported\n",
    "\n",
    "Dictionary   1. {:}   2. No ordering / No indexing   3. No duplicates (keys not allowed, values allowed)  4. Mutable 5. Concatenation not supported\n",
    "\n",
    "\n",
    "\n"
   ]
  }
 ],
 "metadata": {
  "kernelspec": {
   "display_name": "Python 3",
   "language": "python",
   "name": "python3"
  },
  "language_info": {
   "codemirror_mode": {
    "name": "ipython",
    "version": 3
   },
   "file_extension": ".py",
   "mimetype": "text/x-python",
   "name": "python",
   "nbconvert_exporter": "python",
   "pygments_lexer": "ipython3",
   "version": "3.7.6"
  }
 },
 "nbformat": 4,
 "nbformat_minor": 4
}
