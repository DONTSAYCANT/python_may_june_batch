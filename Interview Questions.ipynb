{
 "cells": [
  {
   "cell_type": "code",
   "execution_count": null,
   "metadata": {},
   "outputs": [],
   "source": [
    "#Question 1\n",
    "\n",
    "#I/p: a = \"hello welcome to python\"\n",
    "\n",
    "#o/p:  \"Hello Welcome To Python\"\n",
    "\n",
    "\n"
   ]
  },
  {
   "cell_type": "code",
   "execution_count": 7,
   "metadata": {},
   "outputs": [
    {
     "name": "stdout",
     "output_type": "stream",
     "text": [
      "0b10111\n",
      "10111\n",
      "0x17\n",
      "17\n",
      "0o27\n",
      "27\n"
     ]
    }
   ],
   "source": [
    "#Question 2\n",
    "\n",
    "a = 23\n",
    "\n",
    "b = bin(a)\n",
    "\n",
    "print(b)\n",
    "print(b[2:])\n",
    "\n",
    "c = hex(a)\n",
    "\n",
    "print(c)\n",
    "print(c[2:])\n",
    "\n",
    "d = oct(a)\n",
    "\n",
    "print(d)\n",
    "print(d[2:])\n",
    "\n"
   ]
  },
  {
   "cell_type": "code",
   "execution_count": null,
   "metadata": {},
   "outputs": [],
   "source": [
    "#Mutation\n",
    "\n",
    "a = \"abracadabra\"\n",
    "b = \"k\"\n",
    "c = 5\n",
    "\n",
    "\n",
    "\n",
    "\n",
    "\n",
    "\n"
   ]
  },
  {
   "cell_type": "code",
   "execution_count": null,
   "metadata": {},
   "outputs": [],
   "source": [
    "program 1:\n",
    "    \n",
    "12"
   ]
  },
  {
   "cell_type": "code",
   "execution_count": 4,
   "metadata": {},
   "outputs": [
    {
     "name": "stdout",
     "output_type": "stream",
     "text": [
      "[10, 20, 30]\n",
      "60\n",
      "20.0\n"
     ]
    }
   ],
   "source": [
    "#Nested data strucuture:\n",
    "\n",
    "\n",
    "dict1 = {1:[\"english\",\"maths\",\"science\"], 2:[10,20,30], 3:[\"bio-botany\",\"bio-zoology\",\"Algebra\"]}\n",
    "\n",
    "print(dict1[2])\n",
    "\n",
    "print(sum(dict1[2]))\n",
    "\n",
    "print(sum(dict1[2]) / len(dict1[2]))\n",
    "\n",
    "#print(dict1.get(2))\n",
    "\n",
    "\n"
   ]
  },
  {
   "cell_type": "code",
   "execution_count": 12,
   "metadata": {},
   "outputs": [
    {
     "name": "stdout",
     "output_type": "stream",
     "text": [
      "{1: ['english', 'maths', 'science'], 2: [10, 20, 30], 3: ['bio-botany', 'bio-zoology', 'Algebra']}\n",
      "['bio-botany', 'bio-zoology', 'Algebra']\n",
      "['bio-botany', 'bio-zoology', 'Algebra']\n",
      "bio-botany\n",
      "botany\n",
      "bobtn\n",
      "zoo\n"
     ]
    }
   ],
   "source": [
    "#bio-botany\n",
    "\n",
    "print(dict1)\n",
    "print(dict1.get(3))\n",
    "print(dict1[3])\n",
    "\n",
    "print(dict1[3][0])\n",
    "\n",
    "print(dict1[3][0][4:])\n",
    "\n",
    "#botany\n",
    "#bobtn\n",
    "\n",
    "print(dict1[3][0][::2])\n",
    "\n",
    "#zoo\n",
    "\n",
    "print(dict1[3][1][4:7])\n"
   ]
  },
  {
   "cell_type": "code",
   "execution_count": 13,
   "metadata": {},
   "outputs": [
    {
     "name": "stdout",
     "output_type": "stream",
     "text": [
      "{1: ['english', 'maths', 'science', ['history', 'civics', 'Geo-graphy', (45, 46, 47)]], 2: [10, [[20, [99]]], 30], 3: ('bio-botany', 'bio-zoology', 'Algebra')}\n"
     ]
    }
   ],
   "source": [
    "dict2 =  {1:[\"english\",\"maths\",\"science\",[\"history\", \"civics\", \"Geo-graphy\",(45,46,47)]], 2:[10,[[20,[99]]],30], 3:(\"bio-botany\",\"bio-zoology\",\"Algebra\")}\n",
    "\n",
    "print(dict2)\n",
    "\n",
    "#graphy\n",
    "#46\n",
    "#99\n",
    "#20\n",
    "#botany"
   ]
  },
  {
   "cell_type": "code",
   "execution_count": 16,
   "metadata": {},
   "outputs": [
    {
     "name": "stdout",
     "output_type": "stream",
     "text": [
      "{'child1': {'name': 'Emil', 'year': 2004}, 'child2': {'name': 'Tobias', 'year': 2007}, 'child3': {'name': 'Linus', 'year': 2011}}\n",
      "<class 'dict'>\n"
     ]
    }
   ],
   "source": [
    "myfamily = {\"child1\" : {\"name\" : \"Emil\",\"year\" : 2004},\"child2\" : {\"name\" : \"Tobias\",\"year\" : 2007},\"child3\" : {\"name\" : \"Linus\",\"year\" : 2011}}\n",
    "\n",
    "print(myfamily)\n",
    "print(type(myfamily))\n",
    "\n",
    "#print name of child3\n",
    "#print year of child2"
   ]
  },
  {
   "cell_type": "code",
   "execution_count": null,
   "metadata": {},
   "outputs": [],
   "source": [
    "{\"name\": \"John\",\"age\": 30,\"married\": True,\"divorced\": False,\"children\": (\"Ann\",\"Billy\"),\"pets\": None,\"cars\": [{\"model1\": \"BMW 230\", \"mpg1\": 27.5},{\"model2\": \"Ford Edge\", \"mpg2\": 24.1}]}\n",
    "\n",
    "\n",
    "print Billy\n",
    "print model2 name\n",
    "print model1 mpg1\n",
    "print divorced status\n",
    "print age\n",
    "print 230\n",
    "print 7.5\n"
   ]
  },
  {
   "cell_type": "code",
   "execution_count": null,
   "metadata": {},
   "outputs": [],
   "source": [
    "# 19th June Questions (5)\n",
    "# 20th June:  Test 1: 50 marks (25 mcq + 6 pgms (5 pgms))\n",
    "\n",
    "#Conditional stmts\n",
    "#Looping stmts\n",
    "#Functions\n"
   ]
  },
  {
   "cell_type": "code",
   "execution_count": 5,
   "metadata": {},
   "outputs": [
    {
     "name": "stdout",
     "output_type": "stream",
     "text": [
      "True\n",
      "True\n",
      "['animal', 'cat', 'make', 'umbrella', 'xx']\n"
     ]
    }
   ],
   "source": [
    "#sort the list without using sort function for alphabets\n",
    "\n",
    "\n",
    "Li1 = [\"cat\", \"animal\", \"xx\", \"umbrella\", \"make\"]\n",
    "\n",
    "print(\"cat\" > \"animal\")\n",
    "print(\"aaa\" < \"aab\")\n",
    "\n",
    "\n",
    "Li1.sort()\n",
    "\n",
    "print(Li1)"
   ]
  },
  {
   "cell_type": "code",
   "execution_count": null,
   "metadata": {},
   "outputs": [],
   "source": []
  },
  {
   "cell_type": "code",
   "execution_count": null,
   "metadata": {},
   "outputs": [],
   "source": []
  },
  {
   "cell_type": "code",
   "execution_count": null,
   "metadata": {},
   "outputs": [],
   "source": []
  }
 ],
 "metadata": {
  "kernelspec": {
   "display_name": "Python 3",
   "language": "python",
   "name": "python3"
  },
  "language_info": {
   "codemirror_mode": {
    "name": "ipython",
    "version": 3
   },
   "file_extension": ".py",
   "mimetype": "text/x-python",
   "name": "python",
   "nbconvert_exporter": "python",
   "pygments_lexer": "ipython3",
   "version": "3.7.6"
  }
 },
 "nbformat": 4,
 "nbformat_minor": 4
}
