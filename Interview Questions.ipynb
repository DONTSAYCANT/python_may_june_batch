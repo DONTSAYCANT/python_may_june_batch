{
 "cells": [
  {
   "cell_type": "code",
   "execution_count": null,
   "metadata": {},
   "outputs": [],
   "source": [
    "#Question 1\n",
    "\n",
    "#I/p: a = \"hello welcome to python\"\n",
    "\n",
    "#o/p:  \"Hello Welcome To Python\"\n",
    "\n",
    "\n"
   ]
  },
  {
   "cell_type": "code",
   "execution_count": null,
   "metadata": {},
   "outputs": [],
   "source": []
  },
  {
   "cell_type": "code",
   "execution_count": null,
   "metadata": {},
   "outputs": [],
   "source": []
  },
  {
   "cell_type": "code",
   "execution_count": null,
   "metadata": {},
   "outputs": [],
   "source": []
  },
  {
   "cell_type": "code",
   "execution_count": 7,
   "metadata": {},
   "outputs": [
    {
     "name": "stdout",
     "output_type": "stream",
     "text": [
      "0b10111\n",
      "10111\n",
      "0x17\n",
      "17\n",
      "0o27\n",
      "27\n"
     ]
    }
   ],
   "source": [
    "#Question 2\n",
    "\n",
    "a = 23\n",
    "\n",
    "b = bin(a)\n",
    "\n",
    "print(b)\n",
    "print(b[2:])\n",
    "\n",
    "c = hex(a)\n",
    "\n",
    "print(c)\n",
    "print(c[2:])\n",
    "\n",
    "d = oct(a)\n",
    "\n",
    "print(d)\n",
    "print(d[2:])\n",
    "\n"
   ]
  },
  {
   "cell_type": "code",
   "execution_count": null,
   "metadata": {},
   "outputs": [],
   "source": [
    "#Mutation\n",
    "\n",
    "a = \"abracadabra\"\n",
    "b = \"k\"\n",
    "c = 5\n",
    "\n",
    "\n",
    "\n",
    "\n",
    "\n",
    "\n"
   ]
  },
  {
   "cell_type": "code",
   "execution_count": null,
   "metadata": {},
   "outputs": [],
   "source": [
    "program 1:\n",
    "    \n",
    "12"
   ]
  },
  {
   "cell_type": "code",
   "execution_count": 4,
   "metadata": {},
   "outputs": [
    {
     "name": "stdout",
     "output_type": "stream",
     "text": [
      "[10, 20, 30]\n",
      "60\n",
      "20.0\n"
     ]
    }
   ],
   "source": [
    "#Nested data strucuture:\n",
    "\n",
    "\n",
    "dict1 = {1:[\"english\",\"maths\",\"science\"], 2:[10,20,30], 3:[\"bio-botany\",\"bio-zoology\",\"Algebra\"]}\n",
    "\n",
    "print(dict1[2])\n",
    "\n",
    "print(sum(dict1[2]))\n",
    "\n",
    "print(sum(dict1[2]) / len(dict1[2]))\n",
    "\n",
    "#print(dict1.get(2))\n",
    "\n",
    "\n"
   ]
  },
  {
   "cell_type": "code",
   "execution_count": 12,
   "metadata": {},
   "outputs": [
    {
     "name": "stdout",
     "output_type": "stream",
     "text": [
      "{1: ['english', 'maths', 'science'], 2: [10, 20, 30], 3: ['bio-botany', 'bio-zoology', 'Algebra']}\n",
      "['bio-botany', 'bio-zoology', 'Algebra']\n",
      "['bio-botany', 'bio-zoology', 'Algebra']\n",
      "bio-botany\n",
      "botany\n",
      "bobtn\n",
      "zoo\n"
     ]
    }
   ],
   "source": [
    "#bio-botany\n",
    "\n",
    "print(dict1)\n",
    "print(dict1.get(3))\n",
    "print(dict1[3])\n",
    "\n",
    "print(dict1[3][0])\n",
    "\n",
    "print(dict1[3][0][4:])\n",
    "\n",
    "#botany\n",
    "#bobtn\n",
    "\n",
    "print(dict1[3][0][::2])\n",
    "\n",
    "#zoo\n",
    "\n",
    "print(dict1[3][1][4:7])\n"
   ]
  },
  {
   "cell_type": "code",
   "execution_count": 13,
   "metadata": {},
   "outputs": [
    {
     "name": "stdout",
     "output_type": "stream",
     "text": [
      "{1: ['english', 'maths', 'science', ['history', 'civics', 'Geo-graphy', (45, 46, 47)]], 2: [10, [[20, [99]]], 30], 3: ('bio-botany', 'bio-zoology', 'Algebra')}\n"
     ]
    }
   ],
   "source": [
    "dict2 =  {1:[\"english\",\"maths\",\"science\",[\"history\", \"civics\", \"Geo-graphy\",(45,46,47)]], 2:[10,[[20,[99]]],30], 3:(\"bio-botany\",\"bio-zoology\",\"Algebra\")}\n",
    "\n",
    "print(dict2)\n",
    "\n",
    "#graphy\n",
    "#46\n",
    "#99\n",
    "#20\n",
    "#botany"
   ]
  },
  {
   "cell_type": "code",
   "execution_count": 16,
   "metadata": {},
   "outputs": [
    {
     "name": "stdout",
     "output_type": "stream",
     "text": [
      "{'child1': {'name': 'Emil', 'year': 2004}, 'child2': {'name': 'Tobias', 'year': 2007}, 'child3': {'name': 'Linus', 'year': 2011}}\n",
      "<class 'dict'>\n"
     ]
    }
   ],
   "source": [
    "myfamily = {\"child1\" : {\"name\" : \"Emil\",\"year\" : 2004},\"child2\" : {\"name\" : \"Tobias\",\"year\" : 2007},\"child3\" : {\"name\" : \"Linus\",\"year\" : 2011}}\n",
    "\n",
    "print(myfamily)\n",
    "print(type(myfamily))\n",
    "\n",
    "#print name of child3\n",
    "#print year of child2"
   ]
  },
  {
   "cell_type": "code",
   "execution_count": null,
   "metadata": {},
   "outputs": [],
   "source": [
    "{\"name\": \"John\",\"age\": 30,\"married\": True,\"divorced\": False,\"children\": (\"Ann\",\"Billy\"),\"pets\": None,\"cars\": [{\"model1\": \"BMW 230\", \"mpg1\": 27.5},{\"model2\": \"Ford Edge\", \"mpg2\": 24.1}]}\n",
    "\n",
    "\n",
    "print Billy\n",
    "print model2 name\n",
    "print model1 mpg1\n",
    "print divorced status\n",
    "print age\n",
    "print 230\n",
    "print 7.5\n"
   ]
  },
  {
   "cell_type": "code",
   "execution_count": null,
   "metadata": {},
   "outputs": [],
   "source": [
    "# 19th June Questions (5)\n",
    "# 20th June:  Test 1: 50 marks (25 mcq + 6 pgms (5 pgms))\n",
    "\n",
    "#Conditional stmts\n",
    "#Looping stmts\n",
    "#Functions\n"
   ]
  },
  {
   "cell_type": "code",
   "execution_count": 5,
   "metadata": {},
   "outputs": [
    {
     "name": "stdout",
     "output_type": "stream",
     "text": [
      "True\n",
      "True\n",
      "['animal', 'cat', 'make', 'umbrella', 'xx']\n"
     ]
    }
   ],
   "source": [
    "#sort the list without using sort function for alphabets\n",
    "\n",
    "\n",
    "Li1 = [\"cat\", \"animal\", \"xx\", \"umbrella\", \"make\"]\n",
    "\n",
    "print(\"cat\" > \"animal\")\n",
    "print(\"aaa\" < \"aab\")\n",
    "\n",
    "\n",
    "Li1.sort()\n",
    "\n",
    "print(Li1)"
   ]
  },
  {
   "cell_type": "code",
   "execution_count": null,
   "metadata": {},
   "outputs": [],
   "source": [
    "Question1: https://www.linkedin.com/posts/coding-club_asked-activity-6813733801924059137-OJ6Z/\n",
    "        \n",
    "Question2: Split and join hackerrank\n",
    "https://www.hackerrank.com/challenges/python-string-split-and-join/problem\n",
    "    \n",
    "Question3: Swapcase hackerrank\n",
    "https://www.hackerrank.com/challenges/swap-case/problem\n",
    "    \n",
    "Question4: calculator program (add, sub, mul, div, floor, power, modulo)\n",
    "\n",
    "Question5: sentence string : starting values (getting only one string user)\n",
    "        \n",
    "\"welcome to python programming world\" ===> wetopnpgwd\n",
    "\"hello world\"  ===> howd\n",
    "\n",
    "Question6: capitalize the first letters\n",
    "    \n",
    "\"welcome to python programming world\" ===> \"Welcome To Python Programming World\"\n",
    "\"hello world\"  ===> HoWd\n",
    "\n",
    "Question7: Quiz exam\n",
    "    \n",
    "Predefined five quizes (static question)\n",
    "    \n",
    "Question8:\n",
    "    \n",
    "List of strings (dynamic) ===> find string with maximum and minimum number of vowels\n",
    "\n",
    "Question9:\n",
    "    \n",
    "List of strings (dynamic) ==> Sort strings alphatically with out sort function\n",
    "\n",
    "\n",
    "Question10:\n",
    "    \n",
    "Find LCM and GCD of two numbers \n",
    "\n",
    "#4,2 ==> GCD 2 LCM ==> 4  \n",
    "\n",
    "\n",
    "Question11:\n",
    "    \n",
    "Get one sentence from user, find the longest and shortest sub string in that sentence\n",
    "\n",
    "\"welcome to python programming world\" ==> Long --> programming  shortest ===> to\n",
    "\n",
    "\n",
    "Question12:\n",
    "    \n",
    "Get numbers from users, add it in to list,\n",
    "\n",
    "[12,14,15,16,21,99] ==>  stop whenever user gives a prime number\n",
    "Accept only non prime number\n",
    "\n",
    "Question13:\n",
    "    \n",
    "Find a string hackerrank https://www.hackerrank.com/challenges/find-a-string/problem\n",
    "    \n",
    "Question14:\n",
    "\n",
    "get two strings from user, find common sub string between them (largest common)\n",
    "\n",
    "\"python\"  \"java\"  ==> Not common\n",
    "\"cpp\"  \"c\"   ===> \"c\"\n",
    "\"windows\" \"hidows\"  ==> \"dows\"\n",
    "\n",
    "Question15:\n",
    "\n",
    "Get one string from user, count number of lower case, upper case, numbers, special chars, in that\n",
    "\n",
    "valueA67@\n",
    "\n",
    "\n",
    "Question16:\n",
    "write program to solve ploynomial equation x3 + 2x2 - x + 9 ==> 10\n"
   ]
  },
  {
   "cell_type": "code",
   "execution_count": null,
   "metadata": {},
   "outputs": [],
   "source": [
    "\n",
    "\n",
    "#Sunday   mcq 25 questions \n",
    "#Today 15 pgms ==> 10 pgms (2.5 per question)"
   ]
  },
  {
   "cell_type": "code",
   "execution_count": 6,
   "metadata": {},
   "outputs": [
    {
     "name": "stdout",
     "output_type": "stream",
     "text": [
      "What is python latest version\n",
      "1. 3.8\n",
      "2. 3.7\n",
      "3. 3.6\n",
      "4. 3.9\n",
      "Please enter an option: 2\n",
      "Correct answer\n"
     ]
    }
   ],
   "source": [
    "Total = 0\n",
    "\n",
    "print(\"What is python latest version\")\n",
    "print(\"1. 3.8\")\n",
    "print(\"2. 3.7\")\n",
    "print(\"3. 3.6\")\n",
    "print(\"4. 3.9\")\n",
    "\n",
    "val = int(input(\"Please enter an option: \"))\n",
    "\n",
    "\n",
    "if val == 2:\n",
    "    print(\"Correct answer\")\n",
    "    Total = Total + 1\n",
    "else:\n",
    "    print(\"wrong answer\")"
   ]
  },
  {
   "cell_type": "code",
   "execution_count": null,
   "metadata": {},
   "outputs": [],
   "source": []
  },
  {
   "cell_type": "code",
   "execution_count": null,
   "metadata": {},
   "outputs": [],
   "source": []
  },
  {
   "cell_type": "code",
   "execution_count": null,
   "metadata": {},
   "outputs": [],
   "source": [
    "a = {\"120 500 in\", \"149 519 out\", \"155 500 out\", \"120 505 out\", \"130 560 in\", \"149 599 out\"}\n",
    "\n",
    "a = {{120: {\"in\":0 , \"out\":0, \"total\":0}}, {149: {\"in\":0 , \"out\":0, \"total\":0}}, {155: {\"in\":0 , \"out\":0, \"total\":0}}}\n",
    "\n",
    "{id time in/out}\n",
    "\n",
    "i) 120 ===> total time \n",
    "ii) 30 mins below\n",
    "iii) 500 mins above"
   ]
  },
  {
   "cell_type": "code",
   "execution_count": null,
   "metadata": {},
   "outputs": [],
   "source": [
    "#1 server:\n",
    "    \n",
    "    \n",
    "ansible chef puppet cloud formation  terraform\n",
    "#ansible: 1000 server \n",
    "#    play book\n",
    "    \n",
    "#    Infrastrucutre as a code"
   ]
  },
  {
   "cell_type": "code",
   "execution_count": null,
   "metadata": {},
   "outputs": [],
   "source": [
    "\n",
    "i have 2 pens in my hand ===> 2 (pattern)\n",
    "\n",
    "independence day is on august 15 ===> august ()\n",
    "\n",
    "welcome1995@VAL  ===>  ()\n",
    "\n",
    "8 to 15 chars\n",
    "1 special char\n",
    "1 lower\n",
    "1 upper\n"
   ]
  },
  {
   "cell_type": "code",
   "execution_count": null,
   "metadata": {},
   "outputs": [],
   "source": [
    "#Zoho interview questions: 1:30 mins\n",
    "\n",
    "1. four hundred four thousand  ==> number to word\n",
    "456 ===> \n",
    "34567  ==>\n",
    "\n",
    "2. ABCD EFGHI   DCBA IHGFE  ==> character word reverse\n",
    "hello world python  ===> olleh dlrow nohtyp\n",
    "\n",
    "3. {11:22:40, 12:20:34, 23:23:00}  {hh:mm:ss} minimum difference time duration\n",
    "\n",
    "4. string rotation yes or no   hello world  ===> llo worldhe ==> yes\n",
    "\n",
    "hello world ===> o world hlle ==> no\n",
    "\n",
    "python\n",
    "\n",
    "ythonp\n",
    "\n",
    "thonpy\n",
    "\n",
    "honpyt\n",
    "\n",
    "5. \n",
    "\n",
    "str1: welcome to the python world for enjoyment\n",
    "    \n",
    "str2: welcome to railway station for travel\n",
    "    \n",
    "str3: welcome to library for reading\n",
    "    \n",
    "\"False\"\n",
    "\n",
    "Three consective words common in all the three string\n",
    "\n",
    "str1: welcome to the python world for enjoyment\n",
    "    \n",
    "str2: welcome to the railway station for travel\n",
    "    \n",
    "str3: welcome to the library for reading\n",
    "\n",
    "\"True\"\n",
    "\n",
    "\n",
    "str1 ===>\n",
    "\n",
    "welcome to the\n",
    "to the python\n",
    "the python world\n",
    "python world for\n",
    "world for enjoyment"
   ]
  },
  {
   "cell_type": "code",
   "execution_count": 2,
   "metadata": {},
   "outputs": [
    {
     "name": "stdout",
     "output_type": "stream",
     "text": [
      "5\n",
      "161 182 161 154 176 170 167 171 170 174\n",
      "['161', '182', '161', '154', '176', '170', '167', '171', '170', '174']\n",
      "None\n"
     ]
    }
   ],
   "source": [
    "def average(array):\n",
    "    print(arr)\n",
    "\n",
    "if __name__ == '__main__':\n",
    "    n = int(input())\n",
    "    arr = list(map(int, input().split()))\n",
    "    result = average(arr)\n",
    "    print(result)\n"
   ]
  },
  {
   "cell_type": "code",
   "execution_count": null,
   "metadata": {},
   "outputs": [],
   "source": []
  },
  {
   "cell_type": "code",
   "execution_count": null,
   "metadata": {},
   "outputs": [],
   "source": []
  },
  {
   "cell_type": "code",
   "execution_count": null,
   "metadata": {},
   "outputs": [],
   "source": []
  },
  {
   "cell_type": "code",
   "execution_count": 7,
   "metadata": {},
   "outputs": [
    {
     "name": "stdout",
     "output_type": "stream",
     "text": [
      "4\n",
      "1 2 3 4\n",
      "4\n",
      "{1, 2, 3, 4}\n"
     ]
    }
   ],
   "source": [
    "n = int(input())\n",
    "val = set(map (int, input().split()))\n",
    "\n",
    "print(n)\n",
    "print(val)"
   ]
  },
  {
   "cell_type": "code",
   "execution_count": null,
   "metadata": {},
   "outputs": [],
   "source": []
  },
  {
   "cell_type": "code",
   "execution_count": null,
   "metadata": {},
   "outputs": [],
   "source": []
  },
  {
   "cell_type": "code",
   "execution_count": 13,
   "metadata": {},
   "outputs": [
    {
     "name": "stdout",
     "output_type": "stream",
     "text": [
      "equal\n"
     ]
    }
   ],
   "source": [
    "val1 = \"python hello\"\n",
    "val2 = \"thon helloyp\"\n",
    "\n",
    "if set(list(val1)) == set(list(val2)):\n",
    "    print(\"equal\")\n",
    "else:\n",
    "    print(\"not equal\")"
   ]
  },
  {
   "cell_type": "code",
   "execution_count": null,
   "metadata": {},
   "outputs": [],
   "source": []
  },
  {
   "cell_type": "code",
   "execution_count": null,
   "metadata": {},
   "outputs": [],
   "source": []
  },
  {
   "cell_type": "code",
   "execution_count": null,
   "metadata": {},
   "outputs": [],
   "source": []
  },
  {
   "cell_type": "code",
   "execution_count": null,
   "metadata": {},
   "outputs": [],
   "source": []
  },
  {
   "cell_type": "code",
   "execution_count": null,
   "metadata": {},
   "outputs": [],
   "source": []
  },
  {
   "cell_type": "code",
   "execution_count": null,
   "metadata": {},
   "outputs": [],
   "source": []
  }
 ],
 "metadata": {
  "kernelspec": {
   "display_name": "Python 3",
   "language": "python",
   "name": "python3"
  },
  "language_info": {
   "codemirror_mode": {
    "name": "ipython",
    "version": 3
   },
   "file_extension": ".py",
   "mimetype": "text/x-python",
   "name": "python",
   "nbconvert_exporter": "python",
   "pygments_lexer": "ipython3",
   "version": "3.7.6"
  }
 },
 "nbformat": 4,
 "nbformat_minor": 4
}
