{
 "cells": [
  {
   "cell_type": "code",
   "execution_count": 1,
   "metadata": {},
   "outputs": [
    {
     "name": "stdout",
     "output_type": "stream",
     "text": [
      "21\n"
     ]
    }
   ],
   "source": [
    "#args, kwargs\n",
    "\n",
    "def function1(val1, val2):\n",
    "    a = val1 + val2\n",
    "    return a\n",
    "\n",
    "print(function1(10, 11))"
   ]
  },
  {
   "cell_type": "code",
   "execution_count": 27,
   "metadata": {},
   "outputs": [
    {
     "name": "stdout",
     "output_type": "stream",
     "text": [
      "(10, 11)\n",
      "10\n",
      "11\n",
      "True\n",
      "(10, 11, 16, 13, 20, [1, 23], {1: 3})\n",
      "10\n",
      "11\n",
      "16\n",
      "13\n",
      "20\n",
      "[1, 23]\n",
      "{1: 3}\n"
     ]
    }
   ],
   "source": [
    "def function1(*args): #Dynamic number of arguments from a function\n",
    "    print(args)\n",
    "    val = 0\n",
    "    for i in args:\n",
    "        print(i)\n",
    "    return True\n",
    "        \n",
    "\n",
    "print(function1(10, 11))\n",
    "output = function1(10, 11, 16, 13, 20, [1,23], {1:3})\n"
   ]
  },
  {
   "cell_type": "code",
   "execution_count": 22,
   "metadata": {},
   "outputs": [
    {
     "name": "stdout",
     "output_type": "stream",
     "text": [
      "{'val1': 2, 'val2': 30}\n",
      "('val1', 2)\n",
      "('val2', 30)\n",
      "None\n"
     ]
    }
   ],
   "source": [
    "def function2(**kwargs):\n",
    "    print(kwargs)\n",
    "    for i in kwargs.items():\n",
    "        print(i)\n",
    "\n",
    "print(function2(val1=2, val2=30))"
   ]
  },
  {
   "cell_type": "code",
   "execution_count": 28,
   "metadata": {},
   "outputs": [
    {
     "name": "stdout",
     "output_type": "stream",
     "text": [
      "80\n",
      "30\n"
     ]
    }
   ],
   "source": [
    "def function3(val1, val2, val3 = 0):\n",
    "    return val1 + val2 + val3\n",
    "    \n",
    "print(function3(10,20,50))\n",
    "print(function3(10,20))\n",
    "    \n"
   ]
  },
  {
   "cell_type": "code",
   "execution_count": 43,
   "metadata": {},
   "outputs": [
    {
     "name": "stdout",
     "output_type": "stream",
     "text": [
      "Before actual function\n",
      "Start of function\n",
      "End of function\n",
      "3628800\n",
      "after actual function\n"
     ]
    }
   ],
   "source": [
    "#Decorator\n",
    "import math\n",
    "\n",
    "\n",
    "#Decorator\n",
    "\n",
    "def decorator_function(func):\n",
    "    def inner_function(*args, **kwargs):\n",
    "        print(\"Before actual function\")\n",
    "        func(*args, **kwargs)\n",
    "        print(\"after actual function\")\n",
    "    return inner_function\n",
    "\n",
    "@decorator_function\n",
    "def factorial(n):\n",
    "    print(\"Start of function\")\n",
    "    val = math.factorial(n)\n",
    "    print(\"End of function\")\n",
    "    print(val)\n",
    "    \n",
    "factorial(10)"
   ]
  },
  {
   "cell_type": "code",
   "execution_count": null,
   "metadata": {},
   "outputs": [],
   "source": [
    "#decorator\n",
    "#generator\n",
    "#yaml\n",
    "#class\n",
    "#with\n",
    "#fixtures\n"
   ]
  },
  {
   "cell_type": "code",
   "execution_count": 49,
   "metadata": {},
   "outputs": [
    {
     "name": "stdout",
     "output_type": "stream",
     "text": [
      "1\n",
      "2\n",
      "3\n"
     ]
    },
    {
     "ename": "StopIteration",
     "evalue": "",
     "output_type": "error",
     "traceback": [
      "\u001b[1;31m---------------------------------------------------------------------------\u001b[0m",
      "\u001b[1;31mStopIteration\u001b[0m                             Traceback (most recent call last)",
      "\u001b[1;32m<ipython-input-49-9cfa52c4df44>\u001b[0m in \u001b[0;36m<module>\u001b[1;34m\u001b[0m\n\u001b[0;32m     10\u001b[0m \u001b[0mprint\u001b[0m\u001b[1;33m(\u001b[0m\u001b[0mvalue\u001b[0m\u001b[1;33m.\u001b[0m\u001b[0m__next__\u001b[0m\u001b[1;33m(\u001b[0m\u001b[1;33m)\u001b[0m\u001b[1;33m)\u001b[0m\u001b[1;33m\u001b[0m\u001b[1;33m\u001b[0m\u001b[0m\n\u001b[0;32m     11\u001b[0m \u001b[0mprint\u001b[0m\u001b[1;33m(\u001b[0m\u001b[0mvalue\u001b[0m\u001b[1;33m.\u001b[0m\u001b[0m__next__\u001b[0m\u001b[1;33m(\u001b[0m\u001b[1;33m)\u001b[0m\u001b[1;33m)\u001b[0m\u001b[1;33m\u001b[0m\u001b[1;33m\u001b[0m\u001b[0m\n\u001b[1;32m---> 12\u001b[1;33m \u001b[0mprint\u001b[0m\u001b[1;33m(\u001b[0m\u001b[0mvalue\u001b[0m\u001b[1;33m.\u001b[0m\u001b[0m__next__\u001b[0m\u001b[1;33m(\u001b[0m\u001b[1;33m)\u001b[0m\u001b[1;33m)\u001b[0m\u001b[1;33m\u001b[0m\u001b[1;33m\u001b[0m\u001b[0m\n\u001b[0m",
      "\u001b[1;31mStopIteration\u001b[0m: "
     ]
    }
   ],
   "source": [
    "#Generator #yield keyword\n",
    "\n",
    "def generator_func():\n",
    "    yield 1\n",
    "    yield 2\n",
    "    yield 3\n",
    "    \n",
    "value = generator_func()\n",
    "print(value.__next__())\n",
    "print(value.__next__())\n",
    "print(value.__next__())\n",
    "print(value.__next__())"
   ]
  },
  {
   "cell_type": "code",
   "execution_count": 53,
   "metadata": {},
   "outputs": [
    {
     "name": "stdout",
     "output_type": "stream",
     "text": [
      "we\n",
      "weto\n",
      "wetopn\n",
      "wetopnwd\n",
      "wetopnwd\n"
     ]
    }
   ],
   "source": [
    "a = \"welcome to python world\"\n",
    "\n",
    "b = \"\"\n",
    "\n",
    "for i in a.split():\n",
    "    b = b + i[0] + i[-1]\n",
    "    print(b)\n",
    "\n",
    "print(b)"
   ]
  },
  {
   "cell_type": "code",
   "execution_count": 2,
   "metadata": {},
   "outputs": [
    {
     "name": "stdout",
     "output_type": "stream",
     "text": [
      "please enter a number4\n",
      "please enter a number8\n",
      "please enter a number9\n",
      "please enter a number7\n",
      "[4, 8, 9]\n"
     ]
    }
   ],
   "source": [
    "non_prime = []\n",
    "\n",
    "def prime_check(n):\n",
    "    for i in range(2,n):\n",
    "        if n % i == 0:\n",
    "            return True\n",
    "    else:\n",
    "        return False\n",
    "    \n",
    "value1 = 10\n",
    "\n",
    "while prime_check(value1):\n",
    "    value1 = int(input(\"please enter a number\"))\n",
    "    if prime_check(value1):\n",
    "        non_prime.append(value1)\n",
    "    \n",
    "print(non_prime)\n",
    "    "
   ]
  },
  {
   "cell_type": "code",
   "execution_count": null,
   "metadata": {},
   "outputs": [],
   "source": []
  },
  {
   "cell_type": "code",
   "execution_count": null,
   "metadata": {},
   "outputs": [],
   "source": []
  }
 ],
 "metadata": {
  "kernelspec": {
   "display_name": "Python 3",
   "language": "python",
   "name": "python3"
  },
  "language_info": {
   "codemirror_mode": {
    "name": "ipython",
    "version": 3
   },
   "file_extension": ".py",
   "mimetype": "text/x-python",
   "name": "python",
   "nbconvert_exporter": "python",
   "pygments_lexer": "ipython3",
   "version": "3.7.6"
  }
 },
 "nbformat": 4,
 "nbformat_minor": 4
}
