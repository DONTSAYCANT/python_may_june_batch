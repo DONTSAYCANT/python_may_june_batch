{
 "cells": [
  {
   "cell_type": "code",
   "execution_count": 7,
   "metadata": {},
   "outputs": [
    {
     "name": "stdout",
     "output_type": "stream",
     "text": [
      "python\n",
      "p\n",
      "p\n",
      "n\n",
      "n\n",
      "h\n",
      "h\n"
     ]
    }
   ],
   "source": [
    "a = \"python\"\n",
    "\n",
    "print(a)\n",
    "\n",
    "print(a[0])\n",
    "print(a[-6])\n",
    "\n",
    "print(a[-1])\n",
    "print(a[5])\n",
    "\n",
    "print(a[3])\n",
    "print(a[-3])\n",
    "\n",
    "#Middle ==> len / 2 \n",
    "\n",
    "\n",
    "#[] ==> indexing\n",
    "#String ==> collection of chars"
   ]
  },
  {
   "cell_type": "code",
   "execution_count": 9,
   "metadata": {},
   "outputs": [
    {
     "name": "stdout",
     "output_type": "stream",
     "text": [
      "3.0\n",
      "3.5\n"
     ]
    }
   ],
   "source": [
    "print(6//2)\n",
    "print(7//2)"
   ]
  },
  {
   "cell_type": "code",
   "execution_count": 11,
   "metadata": {},
   "outputs": [
    {
     "name": "stdout",
     "output_type": "stream",
     "text": [
      "-4\n",
      "3\n"
     ]
    }
   ],
   "source": [
    "\n",
    "\n",
    "\n",
    "print(-7 // 2)\n",
    "print(7 // 2)\n",
    "\n",
    "#a) -1  b) -2  c) -3  d) NOTA\n",
    "\n",
    "\n",
    "#1) division  -3.5\n",
    "#2) number scale\n",
    "\n",
    "\n",
    "#-4  -3  -2  -1  0  1  2  3  4\n",
    "\n",
    "#Floor div\n",
    "#Ceil division\n",
    "\n"
   ]
  },
  {
   "cell_type": "code",
   "execution_count": 17,
   "metadata": {},
   "outputs": [
    {
     "name": "stdout",
     "output_type": "stream",
     "text": [
      "11\n",
      "i\n"
     ]
    }
   ],
   "source": [
    "b = \"computer_science_engin\"\n",
    "val = len(b) // 2\n",
    "\n",
    "print(val)\n",
    "print(b[val])"
   ]
  },
  {
   "cell_type": "code",
   "execution_count": 18,
   "metadata": {},
   "outputs": [
    {
     "name": "stdout",
     "output_type": "stream",
     "text": [
      "i\n"
     ]
    }
   ],
   "source": [
    "b = \"computer_science_engin\"\n",
    "print(b[len(b) // 2])"
   ]
  },
  {
   "cell_type": "code",
   "execution_count": 19,
   "metadata": {},
   "outputs": [
    {
     "name": "stdout",
     "output_type": "stream",
     "text": [
      "please enter a stringtechnology\n",
      "o\n"
     ]
    }
   ],
   "source": [
    "b = input(\"please enter a string\")\n",
    "print(b[len(b) // 2])"
   ]
  },
  {
   "cell_type": "code",
   "execution_count": null,
   "metadata": {},
   "outputs": [],
   "source": [
    "1) get one string from user\n",
    "2) find second last letter of the string"
   ]
  },
  {
   "cell_type": "code",
   "execution_count": 21,
   "metadata": {},
   "outputs": [
    {
     "name": "stdout",
     "output_type": "stream",
     "text": [
      "p\n"
     ]
    }
   ],
   "source": [
    "#python \n",
    "\n",
    "\n",
    "d = \"computer\"\n",
    "print(d[len(d) // 2 - 1])"
   ]
  },
  {
   "cell_type": "code",
   "execution_count": 23,
   "metadata": {},
   "outputs": [
    {
     "name": "stdout",
     "output_type": "stream",
     "text": [
      "please enter a  valuecomputer\n",
      "t\n"
     ]
    }
   ],
   "source": [
    "e = input(\"please enter a  value\")\n",
    "\n",
    "print(e[-3])"
   ]
  },
  {
   "cell_type": "code",
   "execution_count": 25,
   "metadata": {},
   "outputs": [
    {
     "name": "stdout",
     "output_type": "stream",
     "text": [
      "please enter a  valuecomputer\n",
      "t\n"
     ]
    }
   ],
   "source": [
    "e = input(\"please enter a  value\")\n",
    "\n",
    "print(e[len(e) // 2 + 1])"
   ]
  },
  {
   "cell_type": "code",
   "execution_count": null,
   "metadata": {},
   "outputs": [],
   "source": [
    "\n",
    "\n",
    "#Indexing\n",
    "\n",
    "#Slicing\n",
    "\n",
    "a[include first value: exclude last value]"
   ]
  },
  {
   "cell_type": "code",
   "execution_count": 26,
   "metadata": {},
   "outputs": [
    {
     "name": "stdout",
     "output_type": "stream",
     "text": [
      "mpu\n",
      "log\n",
      "com\n",
      "com\n",
      "mputer_technology\n",
      "computer_technology\n",
      "mputer_technolog\n",
      "\n"
     ]
    }
   ],
   "source": [
    "#[from (including) : to (excluding)] \n",
    "a= \"computer_technology\"\n",
    "print(a[2:5])\n",
    "print(a[-4:-1])\n",
    "print(a[0:3])\n",
    "print(a[:3])\n",
    "print(a[2:])\n",
    "print(a[:])\n",
    "print(a[2:-1])\n",
    "print(a[-5:5])"
   ]
  },
  {
   "cell_type": "code",
   "execution_count": 27,
   "metadata": {},
   "outputs": [
    {
     "name": "stdout",
     "output_type": "stream",
     "text": [
      "mpu\n",
      "log\n",
      "com\n",
      "com\n",
      "mputer_technology\n",
      "computer_technology\n",
      "mputer_technolog\n",
      "\n"
     ]
    }
   ],
   "source": [
    "#[from (including) : to (excluding) : index intervals (skips)]\n",
    "print(a[2:5:1])\n",
    "print(a[-4:-1:1])\n",
    "print(a[0:3:])\n",
    "print(a[:3:1])\n",
    "print(a[2::1])\n",
    "print(a[::1])\n",
    "print(a[2:-1:1])\n",
    "print(a[-5:5:1])\n",
    "\n",
    "#from value  ===> starting point\n",
    "#to value  ===> ending point\n",
    "#Index interval and direction"
   ]
  },
  {
   "cell_type": "code",
   "execution_count": 31,
   "metadata": {},
   "outputs": [
    {
     "name": "stdout",
     "output_type": "stream",
     "text": [
      "ython_p\n",
      "ython_p\n",
      "yhnp\n",
      "yop\n"
     ]
    }
   ],
   "source": [
    "a = \"python_program\"\n",
    "\n",
    "print(a[1:8])\n",
    "print(a[1:8:1])\n",
    "print(a[1:8:2])\n",
    "print(a[1:8:3])"
   ]
  },
  {
   "cell_type": "code",
   "execution_count": null,
   "metadata": {},
   "outputs": [],
   "source": [
    "a = \"Information_technology\"\n",
    "\n",
    "\n",
    "o/p:  technology\n",
    "    information\n",
    "    _ehooy\n",
    "    mation\n",
    "    Info\n",
    "    Ioaot"
   ]
  },
  {
   "cell_type": "code",
   "execution_count": 7,
   "metadata": {},
   "outputs": [
    {
     "name": "stdout",
     "output_type": "stream",
     "text": [
      "abcd*efgh*xyz\n"
     ]
    }
   ],
   "source": [
    "#print(\"hello\", end = \"****\")\n",
    "\n",
    "print('abcd','efgh',\"xyz\", sep= \"*\")\n",
    "\n",
    "\n",
    "\n"
   ]
  },
  {
   "cell_type": "code",
   "execution_count": 1,
   "metadata": {},
   "outputs": [
    {
     "name": "stdout",
     "output_type": "stream",
     "text": [
      "python\n",
      "pto\n",
      "yh\n",
      "nohtyp\n",
      "to\n",
      "ph\n",
      "pto\n",
      "tn\n"
     ]
    }
   ],
   "source": [
    "a = \"python\"\n",
    "\n",
    "print(a[::1]) #python\n",
    "print(a[::2]) #pto\n",
    "print(a[1:5:2]) #yh\n",
    "print(a[::-1]) #nohtyp #Negative indexing for string reversal\n",
    "print(a[2:5:2])#to\n",
    "print(a[::3]) #ph\n",
    "print(a[:5:2]) #pt0\n",
    "print(a[2::3]) #tn"
   ]
  },
  {
   "cell_type": "code",
   "execution_count": 1,
   "metadata": {},
   "outputs": [
    {
     "name": "stdout",
     "output_type": "stream",
     "text": [
      "python_java_cpp_c\n"
     ]
    }
   ],
   "source": [
    "#Join\n",
    "\n",
    "a = [\"python\", \"java\", \"cpp\", \"c\"] \n",
    "#List\n",
    "\n",
    "b = \"_\".join(a)\n",
    "\n",
    "print(b)"
   ]
  },
  {
   "cell_type": "code",
   "execution_count": 6,
   "metadata": {},
   "outputs": [
    {
     "name": "stdout",
     "output_type": "stream",
     "text": [
      "['hello', 'welcome', 'to', 'python', 'class']\n"
     ]
    }
   ],
   "source": [
    "#split\n",
    "\n",
    "a = \"hello welcome to python class\"\n",
    "\n",
    "b = a.split() #Default empty string\n",
    "print(b)"
   ]
  },
  {
   "cell_type": "code",
   "execution_count": 7,
   "metadata": {},
   "outputs": [
    {
     "name": "stdout",
     "output_type": "stream",
     "text": [
      " log 12:12:2012 \n"
     ]
    }
   ],
   "source": [
    "a = \"******* log 12:12:2012 ******\"\n",
    "\n",
    "b = a.strip(\"*\")\n",
    "\n",
    "print(b)\n",
    "\n"
   ]
  },
  {
   "cell_type": "code",
   "execution_count": null,
   "metadata": {},
   "outputs": [],
   "source": []
  }
 ],
 "metadata": {
  "kernelspec": {
   "display_name": "Python 3",
   "language": "python",
   "name": "python3"
  },
  "language_info": {
   "codemirror_mode": {
    "name": "ipython",
    "version": 3
   },
   "file_extension": ".py",
   "mimetype": "text/x-python",
   "name": "python",
   "nbconvert_exporter": "python",
   "pygments_lexer": "ipython3",
   "version": "3.7.6"
  }
 },
 "nbformat": 4,
 "nbformat_minor": 4
}
