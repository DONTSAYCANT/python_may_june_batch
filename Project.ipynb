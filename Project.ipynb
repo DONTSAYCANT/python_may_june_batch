{
 "cells": [
  {
   "cell_type": "code",
   "execution_count": null,
   "metadata": {},
   "outputs": [],
   "source": [
    "#Basic python\n",
    "\n",
    "#date types\n",
    "variable\n",
    "inbuilt function\n",
    "Slicing and indexing\n",
    "date structure\n",
    "string methods\n",
    "List tuple set dictionary\n",
    "control stmts if elif else\n",
    "Loops  for while while else\n",
    "Function user def function\n",
    "\n",
    "#Intermediate:\n",
    "\n",
    "Modules in python (user def/ Inbuilt)\n",
    "Exception handling \n",
    "File handling\n",
    "Collection module\n",
    "date time module\n",
    "anonymous function and comprehension\n",
    "Os and sys module\n",
    "regex concepts\n",
    "\n",
    "#Project 1, Project 2, Project 3\n",
    "#Hackerrank 20 pgms\n",
    "\n",
    "#Advanced:\n",
    "\n",
    "Oops concepts (10 apprx)\n",
    "multi threading\n",
    "yaml and json\n",
    "xml and argparse\n",
    "logging\n",
    "Other concepts\n",
    "Hacker rank pgms\n",
    "Interview questions\n"
   ]
  },
  {
   "cell_type": "code",
   "execution_count": null,
   "metadata": {},
   "outputs": [],
   "source": [
    "#Project 1:\n",
    "\n",
    "Datastrucuture calculator:\n",
    "    \n",
    "Please any one operation or data strcuture\n",
    "\n",
    "\n",
    "1. Number (10)\n",
    "    Please any one operation:\n",
    "        1. add\n",
    "        2. sub\n",
    "        3. mult\n",
    "        4. div\n",
    "        5. floor\n",
    "        6. modulo\n",
    "        7. power\n",
    "        8. ceil \n",
    "        9. factorial\n",
    "        10. prime\n",
    "        11. armstrong\n",
    "        12. fibonacci\n",
    "\n",
    "2. string (10)\n",
    "    Please any one operation:\n",
    "        Concatenation\n",
    "        slicing\n",
    "        index\n",
    "        replace\n",
    "        https://www.w3schools.com/python/python_ref_string.asp\n",
    "        \n",
    "3. List  (10)\n",
    "        List creation\n",
    "        Concatenation\n",
    "        List slicing\n",
    "        check element \n",
    "        index \n",
    "        replace \n",
    "        List deletion\n",
    "        List multiplication\n",
    "        Convert to tuple/set\n",
    "        Duplicate removal\n",
    "        \n",
    "4. Tuple (5)\n",
    "\n",
    "5. Set(10)\n",
    "        Set creation\n",
    "        Concatenation\n",
    "        union\n",
    "        intersection\n",
    "\n",
    "6. Dictionary operation (10)\n",
    "\n",
    "7. Advanced data strucuture (Stack and queue) (5)\n",
    "    \n"
   ]
  },
  {
   "cell_type": "code",
   "execution_count": null,
   "metadata": {},
   "outputs": [],
   "source": [
    "#Resume parser and generator\n",
    "\n",
    "#Log parser\n",
    "\n",
    "#Library management / flipkart or amazon management (json / xml / yaml storage)\n",
    "\n",
    "#Quiz competition\n",
    "\n",
    "#game development  paper/scissor/stone  \n",
    "\n",
    "#"
   ]
  },
  {
   "cell_type": "code",
   "execution_count": 1,
   "metadata": {},
   "outputs": [
    {
     "name": "stdout",
     "output_type": "stream",
     "text": [
      "please enter a number1\n",
      "Integer function\n",
      "please enter a number2\n",
      "Floating point function\n",
      "please enter a number1\n",
      "Integer function\n",
      "please enter a number2\n",
      "Floating point function\n",
      "please enter a number5\n",
      "Please enter a valid option\n",
      "please enter a number6\n",
      "Please enter a valid option\n",
      "please enter a number7\n",
      "Please enter a valid option\n",
      "please enter a number3\n"
     ]
    }
   ],
   "source": [
    "\n",
    "x = True\n",
    "\n",
    "while x:\n",
    "    value = int(input(\"please enter a number\"))\n",
    "    \n",
    "    if value == 1:\n",
    "        print(\"Integer function\")\n",
    "    elif value == 2:\n",
    "        print(\"Floating point function\")\n",
    "    elif value == 3:\n",
    "        x = False\n",
    "        print(\"you are coming out of function\")\n",
    "    else:\n",
    "        print(\"Please enter a valid option\")\n",
    "    "
   ]
  },
  {
   "cell_type": "code",
   "execution_count": 3,
   "metadata": {},
   "outputs": [
    {
     "name": "stdout",
     "output_type": "stream",
     "text": [
      "please enter a number1\n",
      "Integer function\n",
      "please enter a number2\n",
      "Floating point function\n",
      "please enter a number1\n",
      "Integer function\n",
      "please enter a number2\n",
      "Floating point function\n",
      "please enter a number1\n",
      "Integer function\n",
      "please enter a number2\n",
      "Floating point function\n",
      "please enter a number5\n",
      "Please enter a valid option\n",
      "please enter a number5\n",
      "Please enter a valid option\n",
      "please enter a number5\n",
      "Please enter a valid option\n",
      "please enter a number3\n"
     ]
    }
   ],
   "source": [
    "while True:\n",
    "    value = int(input(\"please enter a number\"))\n",
    "    \n",
    "    if value == 1:\n",
    "        print(\"Integer function\")\n",
    "    elif value == 2:\n",
    "        print(\"Floating point function\")\n",
    "    elif value == 3:\n",
    "        break\n",
    "    else:\n",
    "        print(\"Please enter a valid option\")\n",
    "    "
   ]
  },
  {
   "cell_type": "code",
   "execution_count": 1,
   "metadata": {},
   "outputs": [
    {
     "name": "stdout",
     "output_type": "stream",
     "text": [
      "please enter a number1\n",
      "Integer function\n",
      "please enter a number2\n",
      "Floating point function\n",
      "please enter a number1\n",
      "Integer function\n",
      "please enter a number3\n"
     ]
    },
    {
     "ename": "SystemExit",
     "evalue": "",
     "output_type": "error",
     "traceback": [
      "An exception has occurred, use %tb to see the full traceback.\n",
      "\u001b[1;31mSystemExit\u001b[0m\n"
     ]
    },
    {
     "name": "stderr",
     "output_type": "stream",
     "text": [
      "C:\\Users\\kanna\\Anaconda3\\lib\\site-packages\\IPython\\core\\interactiveshell.py:3339: UserWarning: To exit: use 'exit', 'quit', or Ctrl-D.\n",
      "  warn(\"To exit: use 'exit', 'quit', or Ctrl-D.\", stacklevel=1)\n"
     ]
    }
   ],
   "source": [
    "import sys\n",
    "\n",
    "while True:\n",
    "    value = int(input(\"please enter a number\"))\n",
    "    \n",
    "    if value == 1:\n",
    "        print(\"Integer function\")\n",
    "    elif value == 2:\n",
    "        print(\"Floating point function\")\n",
    "    elif value == 3:\n",
    "        sys.exit()\n",
    "    else:\n",
    "        print(\"Please enter a valid option\")"
   ]
  },
  {
   "cell_type": "code",
   "execution_count": null,
   "metadata": {},
   "outputs": [],
   "source": [
    "#Mini game\n",
    "\n",
    "#Stone paper scissor\n",
    "\n",
    "#Project 2:\n",
    "\n",
    "#Resume parser and Resume generator"
   ]
  },
  {
   "cell_type": "code",
   "execution_count": null,
   "metadata": {},
   "outputs": [],
   "source": [
    "Man      System\n",
    "Stone    paper    ==> paper\n",
    "Paper    scissor  ===> scissor\n",
    "stone   scissor   ===> stone\n",
    "Stone   Stone\n",
    "Paper   Paper\n",
    "Scissor Scissor\n",
    "\n",
    "\n",
    "User \n",
    "\n",
    "Stone   \n",
    "\n",
    "\n"
   ]
  },
  {
   "cell_type": "code",
   "execution_count": 9,
   "metadata": {},
   "outputs": [
    {
     "name": "stdout",
     "output_type": "stream",
     "text": [
      "Paper\n"
     ]
    }
   ],
   "source": [
    "import random\n",
    "\n",
    "Li1 = [\"Stone\", \"Scissor\",\"Paper\"]\n",
    "\n",
    "print(random.choice(Li1))"
   ]
  },
  {
   "cell_type": "code",
   "execution_count": null,
   "metadata": {},
   "outputs": [],
   "source": [
    "User Scissor\n",
    "System Paper\n",
    "\n",
    "Print(\"You won this attempt\")\n",
    "print(\"+1\")\n",
    "\n"
   ]
  },
  {
   "cell_type": "code",
   "execution_count": 10,
   "metadata": {},
   "outputs": [
    {
     "name": "stdout",
     "output_type": "stream",
     "text": [
      "hello\n",
      "hello\n",
      "hello\n",
      "hello\n",
      "hello\n",
      "hello\n",
      "hello\n",
      "hello\n",
      "hello\n",
      "hello\n"
     ]
    }
   ],
   "source": [
    "for i in range(10):\n",
    "    print(\"hello\")"
   ]
  },
  {
   "cell_type": "code",
   "execution_count": 11,
   "metadata": {},
   "outputs": [
    {
     "name": "stdout",
     "output_type": "stream",
     "text": [
      "hello\n",
      "hello\n",
      "hello\n",
      "hello\n",
      "hello\n",
      "hello\n",
      "hello\n",
      "hello\n",
      "hello\n",
      "hello\n"
     ]
    }
   ],
   "source": [
    "a = 10\n",
    "while a > 0:\n",
    "    print(\"hello\")\n",
    "    a = a -1"
   ]
  },
  {
   "cell_type": "code",
   "execution_count": null,
   "metadata": {},
   "outputs": [],
   "source": [
    "project No: 2\n",
    "    \n",
    "    \n",
    "Resume generator: (50%)  (user input to resume creation)\n",
    "    \n",
    "1) Value collection\n",
    "2) File handling\n",
    "3) Provide it to user as file or send it as mail \n",
    "\n",
    "For checking correct details: Use Regex\n",
    "File handling: write/append \n",
    "Download it as word or pdf: in python (optional)\n",
    "\n",
    "Resume parser: (50%)  (Resume)\n",
    "    \n",
    "1) collect one resume from user\n",
    "2) Parse the user information using regex\n",
    "3) After parsing, generate it as Json or yaml or xml file (How to save file format)\n",
    "\n",
    "#https://realpython.com/python-send-email/\n"
   ]
  },
  {
   "cell_type": "code",
   "execution_count": null,
   "metadata": {},
   "outputs": [],
   "source": [
    "#part1: value collection:\n",
    "\n",
    "#Basic info collection\n",
    "\n",
    "#First name\n",
    "#Last name\n",
    "#Mobile number\n",
    "#email id\n",
    "#DOB \n",
    "#Address\n",
    "#Description\n",
    "\n",
    "\n",
    "#Education info collection \n",
    "\n",
    "#Number of entries (3: masters, bachelors, +2, 4)\n",
    "#College, percentage, course name\n",
    "\n",
    "\n",
    "\n",
    "#Work experience / Project experience\n",
    "\n",
    "#Companies, projects, Tools & Technologies, Description\n",
    "#Min project,\n",
    "\n",
    "\n",
    "\n",
    "#Tools & Technologies:\n",
    "\n",
    "#python 8/10\n",
    "#Git 9/10\n",
    "#Jenkins 10/10\n",
    "\n",
    "\n",
    "\n",
    "#Certfications / Achievements\n",
    "\n",
    "#Input\n",
    "\n"
   ]
  },
  {
   "cell_type": "code",
   "execution_count": 1,
   "metadata": {},
   "outputs": [
    {
     "name": "stdout",
     "output_type": "stream",
     "text": [
      "Please enter your first nameparthipan\n",
      "Please enter your mail idkannanparthipan@gmial.com\n",
      "{'FIRST_NAME': 'parthipan', 'MAIL': 'kannanparthipan@gmial.com'}\n"
     ]
    }
   ],
   "source": [
    "#First name\n",
    "#Last name\n",
    "#Mobile number\n",
    "#email id\n",
    "#DOB\n",
    "#Address\n",
    "#Description\n",
    "\n",
    "\n",
    "Basic_info = {}\n",
    "\n",
    "first_name = input(\"Please enter your first name\")\n",
    "\n",
    "Basic_info[\"FIRST_NAME\"] = first_name\n",
    "\n",
    "\n",
    "mail_id = input(\"Please enter your mail id\")\n",
    "\n",
    "Basic_info[\"MAIL\"] = mail_id\n",
    "\n",
    "\n",
    "print(Basic_info)"
   ]
  },
  {
   "cell_type": "code",
   "execution_count": 3,
   "metadata": {},
   "outputs": [
    {
     "name": "stdout",
     "output_type": "stream",
     "text": [
      "Please enter your mail idkannan@ggg.com\n",
      "None\n",
      "Invalid email id\n",
      "IT's invalid id\n",
      "kannan@ggg.com\n"
     ]
    }
   ],
   "source": [
    "import re\n",
    "\n",
    "mail_id = input(\"Please enter your mail id\")\n",
    "\n",
    "\n",
    "mail_pattern = \"\\w+\\@(gmail|yahoo)\\.com\"\n",
    "\n",
    "val = re.search(mail_pattern, mail_id)\n",
    "\n",
    "print(val)\n",
    "\n",
    "if val == None:\n",
    "    print(\"Invalid email id\")\n",
    "\n",
    "try:\n",
    "    print(\"Your mail id is\", val.group())\n",
    "    print(\"It's valid id\")\n",
    "except:\n",
    "    print(\"IT's invalid id\")\n",
    "\n",
    "\n",
    "print(mail_id)"
   ]
  },
  {
   "cell_type": "code",
   "execution_count": 6,
   "metadata": {},
   "outputs": [
    {
     "name": "stdout",
     "output_type": "stream",
     "text": [
      "Please enter your mail idkannan@yahoo.com\n",
      "Match forund\n",
      "['yahoo']\n"
     ]
    }
   ],
   "source": [
    "import re\n",
    "\n",
    "mail_id = input(\"Please enter your mail id\")\n",
    "\n",
    "\n",
    "mail_pattern = \"\\w+\\@(gmail|yahoo)\\.com\"\n",
    "\n",
    "val1 = re.findall(mail_pattern, mail_id)\n",
    "\n",
    "if len(val1) > 0:\n",
    "    print(\"Match forund\")\n",
    "else:\n",
    "    print(\"Match not found\")\n",
    "\n",
    "print(val1)"
   ]
  },
  {
   "cell_type": "code",
   "execution_count": null,
   "metadata": {},
   "outputs": [],
   "source": [
    "#project 3: library management with login \n",
    "\n",
    "#Project 4: Wikiparser and XML generator"
   ]
  }
 ],
 "metadata": {
  "kernelspec": {
   "display_name": "Python 3",
   "language": "python",
   "name": "python3"
  },
  "language_info": {
   "codemirror_mode": {
    "name": "ipython",
    "version": 3
   },
   "file_extension": ".py",
   "mimetype": "text/x-python",
   "name": "python",
   "nbconvert_exporter": "python",
   "pygments_lexer": "ipython3",
   "version": "3.7.6"
  }
 },
 "nbformat": 4,
 "nbformat_minor": 4
}
