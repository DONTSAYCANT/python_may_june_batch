{
 "cells": [
  {
   "cell_type": "code",
   "execution_count": 1,
   "metadata": {},
   "outputs": [],
   "source": [
    "# Advanced Datastrucure ===> collections module\n",
    "\n",
    "#https://github.com/DONTSAYCANT/Python_complete/blob/master/Collections.ipynb\n",
    "\n",
    "#Deque\n",
    "#Counter        done \n",
    "#Defaultdict\n",
    "#Ordereddict\n",
    "#ChainMap\n",
    "#namedtuple"
   ]
  },
  {
   "cell_type": "code",
   "execution_count": 3,
   "metadata": {},
   "outputs": [],
   "source": [
    "from collections import *"
   ]
  },
  {
   "cell_type": "code",
   "execution_count": 4,
   "metadata": {},
   "outputs": [],
   "source": [
    "import collections "
   ]
  },
  {
   "cell_type": "code",
   "execution_count": 7,
   "metadata": {},
   "outputs": [
    {
     "name": "stdout",
     "output_type": "stream",
     "text": [
      "120\n"
     ]
    }
   ],
   "source": [
    "import math\n",
    "\n",
    "print(math.factorial(5))"
   ]
  },
  {
   "cell_type": "code",
   "execution_count": 8,
   "metadata": {},
   "outputs": [
    {
     "name": "stdout",
     "output_type": "stream",
     "text": [
      "120\n"
     ]
    }
   ],
   "source": [
    "from math import *\n",
    "print(factorial(5))"
   ]
  },
  {
   "cell_type": "code",
   "execution_count": 9,
   "metadata": {},
   "outputs": [],
   "source": [
    "import collections"
   ]
  },
  {
   "cell_type": "code",
   "execution_count": 11,
   "metadata": {},
   "outputs": [
    {
     "name": "stdout",
     "output_type": "stream",
     "text": [
      "Counter({1: 4, 4: 4, 2: 3, 3: 3, 5: 3, 6: 2, 'python': 2, 8: 1, 9: 1})\n"
     ]
    }
   ],
   "source": [
    "List1 = [1,2,3,4,1,2,3,4,1,3,4,5,5,6,6,1,4,5,8,9,2,\"python\",\"python\"]\n",
    "\n",
    "print(collections.Counter(List1))"
   ]
  },
  {
   "cell_type": "code",
   "execution_count": 14,
   "metadata": {},
   "outputs": [
    {
     "name": "stdout",
     "output_type": "stream",
     "text": [
      "1\n"
     ]
    }
   ],
   "source": [
    "print(collections.Counter(List1)[9])"
   ]
  },
  {
   "cell_type": "code",
   "execution_count": 23,
   "metadata": {},
   "outputs": [
    {
     "name": "stdout",
     "output_type": "stream",
     "text": [
      "{1: 'python', 2: 'vue.js', 3: 'node.js'}\n",
      "python\n",
      "defaultdict(<class 'float'>, {1: 'python', 2: 'vue.js', 3: 'node.js'})\n",
      "0.0\n"
     ]
    }
   ],
   "source": [
    "#Default dict\n",
    "\n",
    "dict1 = {}\n",
    "dict1[1] = \"python\"\n",
    "dict1[2] = \"vue.js\"\n",
    "dict1[3] = \"node.js\"\n",
    "\n",
    "print(dict1)\n",
    "\n",
    "print(dict1[1])\n",
    "\n",
    "#print(dict1[0])\n",
    "\n",
    "#default dict\n",
    "\n",
    "dict2 = collections.defaultdict(float) #int str float\n",
    "dict2[1] = \"python\"\n",
    "dict2[2] = \"vue.js\"\n",
    "dict2[3] = \"node.js\"\n",
    "\n",
    "print(dict2)\n",
    "print(dict2[0])\n",
    "\n"
   ]
  },
  {
   "cell_type": "code",
   "execution_count": 27,
   "metadata": {},
   "outputs": [
    {
     "name": "stdout",
     "output_type": "stream",
     "text": [
      "ChainMap({1: 'py', 2: 'java'}, {3: 'c', 4: 'cpp'})\n",
      "cpp\n",
      "py\n"
     ]
    }
   ],
   "source": [
    "#Chain map ==> concatenation of dictionary\n",
    "a = {1: \"py\", 2:\"java\"}\n",
    "b = {3: \"c\", 4:\"cpp\"}\n",
    "\n",
    "c = collections.ChainMap(a,b)\n",
    "\n",
    "print(c)\n",
    "\n",
    "print(c[4])\n",
    "print(c[1])"
   ]
  },
  {
   "cell_type": "code",
   "execution_count": 34,
   "metadata": {},
   "outputs": [
    {
     "name": "stdout",
     "output_type": "stream",
     "text": [
      "[5, 1, 2, 3, 4]\n"
     ]
    }
   ],
   "source": [
    "#deque  ==> extended list\n",
    "\n",
    "\n",
    "Li1 = [1,2,3,4]\n",
    "\n",
    "Li1.append(10)\n",
    "\n",
    "Li1.insert(0,5)\n",
    "\n",
    "Li1.pop()\n",
    "print(Li1)\n",
    "\n",
    "\n",
    "Li2 = collections.deque([1,2,3,4])\n",
    "\n",
    "\n",
    "\n"
   ]
  },
  {
   "cell_type": "code",
   "execution_count": 36,
   "metadata": {},
   "outputs": [
    {
     "name": "stdout",
     "output_type": "stream",
     "text": [
      "deque([20, 1, 2, 3, 4, 10, 10])\n"
     ]
    }
   ],
   "source": [
    "Li2.append(10)\n",
    "Li2.appendleft(20)\n",
    "print(Li2)\n",
    "\n",
    "#Extra ops: appendleft popleft extendleft"
   ]
  },
  {
   "cell_type": "code",
   "execution_count": 37,
   "metadata": {},
   "outputs": [
    {
     "name": "stdout",
     "output_type": "stream",
     "text": [
      "1\n"
     ]
    }
   ],
   "source": [
    "tup = (1,2,3,4)\n",
    "print(tup[0])"
   ]
  },
  {
   "cell_type": "code",
   "execution_count": 44,
   "metadata": {},
   "outputs": [
    {
     "name": "stdout",
     "output_type": "stream",
     "text": [
      "ram\n"
     ]
    }
   ],
   "source": [
    "tup = (1,2,3,4)\n",
    "\n",
    "#Named tuple\n",
    "\n",
    "\n",
    "stud = namedtuple(\"stud\", [\"name\", \"val\", \"dob\", \"mail\"])\n",
    "\n",
    "s = (\"ram\", \"109\", \"1991\", \"jjj@jjj.com\")\n",
    "\n",
    "#print(s[0])\n",
    "#print(s[1])\n",
    "\n",
    "\n",
    "s1 = stud(\"ram\", \"109\", \"1991\", \"jjj@jjj.com\")\n",
    "s2 = stud(\"ram\", \"109\", \"1991\", \"jjj@jjj.com\")\n",
    "s3 = stud(\"ram\", \"109\", \"1991\", \"jjj@jjj.com\")\n",
    "\n",
    "#print(s1[0])\n",
    "print(s1.name)\n",
    "\n"
   ]
  },
  {
   "cell_type": "code",
   "execution_count": 48,
   "metadata": {},
   "outputs": [
    {
     "name": "stdout",
     "output_type": "stream",
     "text": [
      "raj\n",
      "OrderedDict([(0, 'ram'), (1, 'raj'), (2, 'ss')])\n",
      "OrderedDict([(0, 'ram'), (2, 'ss')])\n",
      "OrderedDict([(0, 'ram'), (2, 'ss'), (1, 'san')])\n"
     ]
    }
   ],
   "source": [
    "d = OrderedDict()  ==> dictionary\n",
    "\n",
    "d[0] = \"ram\"\n",
    "d[1] = \"raj\"\n",
    "d[2] = \"ss\"\n",
    "print(d[1])\n",
    "\n",
    "print(d)\n",
    "del d[1]\n",
    "\n",
    "print(d)\n",
    "\n",
    "d[1] = \"san\"\n",
    "\n",
    "print(d)\n"
   ]
  },
  {
   "cell_type": "code",
   "execution_count": null,
   "metadata": {},
   "outputs": [],
   "source": [
    "print(collections.)"
   ]
  }
 ],
 "metadata": {
  "kernelspec": {
   "display_name": "Python 3",
   "language": "python",
   "name": "python3"
  },
  "language_info": {
   "codemirror_mode": {
    "name": "ipython",
    "version": 3
   },
   "file_extension": ".py",
   "mimetype": "text/x-python",
   "name": "python",
   "nbconvert_exporter": "python",
   "pygments_lexer": "ipython3",
   "version": "3.7.6"
  }
 },
 "nbformat": 4,
 "nbformat_minor": 4
}
