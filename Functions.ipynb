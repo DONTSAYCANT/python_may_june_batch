{
 "cells": [
  {
   "cell_type": "code",
   "execution_count": null,
   "metadata": {},
   "outputs": [],
   "source": [
    "#Function\n",
    "\n",
    "#inbuilt function: print, abs, input, range, bool, len, float, int, sorted, str, type, max, min, set, list, ord, bin, hex, oct, dict, pow\n",
    "\n",
    "#user defined function: \n",
    "\n",
    "\n",
    "#[1,2,3,4,5]\n"
   ]
  },
  {
   "cell_type": "code",
   "execution_count": null,
   "metadata": {},
   "outputs": [],
   "source": []
  },
  {
   "cell_type": "code",
   "execution_count": null,
   "metadata": {},
   "outputs": [],
   "source": []
  },
  {
   "cell_type": "code",
   "execution_count": 15,
   "metadata": {},
   "outputs": [
    {
     "name": "stdout",
     "output_type": "stream",
     "text": [
      "38809\n",
      "3600\n"
     ]
    }
   ],
   "source": [
    "def user_defined_function(x,y,z):\n",
    "    val = x + y\n",
    "    val2 = val + z\n",
    "    val3 = val2 * val2\n",
    "    return val3\n",
    "    \n",
    "#d = 77\n",
    "#e = 99\n",
    "#f = 21\n",
    "\n",
    "print(user_defined_function(77,99,21))\n",
    "print(user_defined_function(10,20,30))"
   ]
  },
  {
   "cell_type": "code",
   "execution_count": 13,
   "metadata": {},
   "outputs": [
    {
     "name": "stdout",
     "output_type": "stream",
     "text": [
      "324\n",
      "38809\n"
     ]
    }
   ],
   "source": [
    "a = 10\n",
    "b = 5\n",
    "c = 3\n",
    "\n",
    "val = a + b\n",
    "val2 = val + c\n",
    "val3 = val2 * val2\n",
    "\n",
    "print(val3)\n",
    "\n",
    "d = 77\n",
    "e = 99\n",
    "f = 21\n",
    "\n",
    "val = d + e\n",
    "val2 = val + f\n",
    "val3 = val2 * val2\n",
    "\n",
    "print(val3)\n",
    "\n",
    "#ghi\n",
    "#"
   ]
  },
  {
   "cell_type": "code",
   "execution_count": 3,
   "metadata": {},
   "outputs": [
    {
     "name": "stdout",
     "output_type": "stream",
     "text": [
      "4\n"
     ]
    }
   ],
   "source": [
    "Li1 = [1,2,3,4]\n",
    "print(len(Li1))\n",
    "\n",
    "#"
   ]
  },
  {
   "cell_type": "code",
   "execution_count": 12,
   "metadata": {},
   "outputs": [
    {
     "name": "stdout",
     "output_type": "stream",
     "text": [
      "11\n",
      "21\n",
      "31\n",
      "41\n",
      "51\n"
     ]
    }
   ],
   "source": [
    "#to achieve an task input output function or aim\n",
    "\n",
    "Li1 = [11,21,31,41,51]\n",
    "val = 0\n",
    "for i in Li1:\n",
    "    #print(i)\n",
    "    val = val +1\n",
    "    #print(val)\n",
    "print(val)\n",
    "\n",
    "\n"
   ]
  },
  {
   "cell_type": "code",
   "execution_count": 6,
   "metadata": {},
   "outputs": [
    {
     "name": "stdout",
     "output_type": "stream",
     "text": [
      "10\n",
      "11\n",
      "12\n",
      "13\n",
      "14\n"
     ]
    }
   ],
   "source": [
    "for i in range(10,15):\n",
    "    print(i)\n"
   ]
  },
  {
   "cell_type": "code",
   "execution_count": 25,
   "metadata": {},
   "outputs": [
    {
     "ename": "TypeError",
     "evalue": "cube_number() takes 1 positional argument but 3 were given",
     "output_type": "error",
     "traceback": [
      "\u001b[1;31m---------------------------------------------------------------------------\u001b[0m",
      "\u001b[1;31mTypeError\u001b[0m                                 Traceback (most recent call last)",
      "\u001b[1;32m<ipython-input-25-3a18f8b646a0>\u001b[0m in \u001b[0;36m<module>\u001b[1;34m\u001b[0m\n\u001b[0;32m      9\u001b[0m     \u001b[1;32mreturn\u001b[0m \u001b[0mval2\u001b[0m\u001b[1;33m\u001b[0m\u001b[1;33m\u001b[0m\u001b[0m\n\u001b[0;32m     10\u001b[0m \u001b[1;33m\u001b[0m\u001b[0m\n\u001b[1;32m---> 11\u001b[1;33m \u001b[0mprint\u001b[0m\u001b[1;33m(\u001b[0m\u001b[0mcube_number\u001b[0m\u001b[1;33m(\u001b[0m\u001b[1;36m9\u001b[0m\u001b[1;33m,\u001b[0m\u001b[1;36m10\u001b[0m\u001b[1;33m,\u001b[0m\u001b[1;36m11\u001b[0m\u001b[1;33m)\u001b[0m\u001b[1;33m)\u001b[0m\u001b[1;33m\u001b[0m\u001b[1;33m\u001b[0m\u001b[0m\n\u001b[0m\u001b[0;32m     12\u001b[0m \u001b[0mprint\u001b[0m\u001b[1;33m(\u001b[0m\u001b[0mcube_number\u001b[0m\u001b[1;33m(\u001b[0m\u001b[1;36m10\u001b[0m\u001b[1;33m,\u001b[0m\u001b[1;36m21\u001b[0m\u001b[1;33m,\u001b[0m\u001b[1;36m31\u001b[0m\u001b[1;33m)\u001b[0m\u001b[1;33m)\u001b[0m\u001b[1;33m\u001b[0m\u001b[1;33m\u001b[0m\u001b[0m\n\u001b[0;32m     13\u001b[0m \u001b[0mprint\u001b[0m\u001b[1;33m(\u001b[0m\u001b[0mcube_number\u001b[0m\u001b[1;33m(\u001b[0m\u001b[1;36m3\u001b[0m\u001b[1;33m,\u001b[0m\u001b[1;36m45\u001b[0m\u001b[1;33m,\u001b[0m\u001b[1;36m21\u001b[0m\u001b[1;33m)\u001b[0m\u001b[1;33m)\u001b[0m\u001b[1;33m\u001b[0m\u001b[1;33m\u001b[0m\u001b[0m\n",
      "\u001b[1;31mTypeError\u001b[0m: cube_number() takes 1 positional argument but 3 were given"
     ]
    }
   ],
   "source": [
    "#def ==> key word for function definition\n",
    "\n",
    "def cube_number(x,y,z):\n",
    "    val = x ** 3\n",
    "    return val\n",
    "\n",
    "\n",
    "print(cube_number(9,10,11))\n",
    "print(cube_number(10,21,31))\n",
    "print(cube_number(3,45,21))"
   ]
  },
  {
   "cell_type": "code",
   "execution_count": 22,
   "metadata": {},
   "outputs": [
    {
     "name": "stdout",
     "output_type": "stream",
     "text": [
      "hell0 world\n"
     ]
    }
   ],
   "source": [
    "def print():\n",
    "    return \n",
    "\n",
    "print(\"hell0 world\")"
   ]
  },
  {
   "cell_type": "code",
   "execution_count": null,
   "metadata": {},
   "outputs": [],
   "source": []
  },
  {
   "cell_type": "code",
   "execution_count": null,
   "metadata": {},
   "outputs": [],
   "source": []
  },
  {
   "cell_type": "code",
   "execution_count": null,
   "metadata": {},
   "outputs": [],
   "source": [
    "#Function\n",
    "def <function_name>(arguments):\n",
    "    <process>\n",
    "    return <output> #Return is the final line in a function\n",
    "\n",
    "#compulsory def keywrd, indentation. atleast one line in process\n",
    "#Arguement, return "
   ]
  },
  {
   "cell_type": "code",
   "execution_count": 17,
   "metadata": {},
   "outputs": [
    {
     "name": "stdout",
     "output_type": "stream",
     "text": [
      "Hello world\n"
     ]
    }
   ],
   "source": [
    "def function_without_arg():\n",
    "    val = \"Hello world\"\n",
    "    return val\n",
    "\n",
    "print(function_without_arg())"
   ]
  },
  {
   "cell_type": "code",
   "execution_count": 20,
   "metadata": {},
   "outputs": [
    {
     "name": "stdout",
     "output_type": "stream",
     "text": [
      "entry of the program\n",
      "Log started\n",
      "None\n"
     ]
    }
   ],
   "source": [
    "def function_without_return():\n",
    "    print(\"entry of the program\")\n",
    "    print(\"Log started\")\n",
    "\n",
    "print(function_without_return())"
   ]
  },
  {
   "cell_type": "code",
   "execution_count": 21,
   "metadata": {},
   "outputs": [
    {
     "ename": "NameError",
     "evalue": "name 'val1' is not defined",
     "output_type": "error",
     "traceback": [
      "\u001b[1;31m---------------------------------------------------------------------------\u001b[0m",
      "\u001b[1;31mNameError\u001b[0m                                 Traceback (most recent call last)",
      "\u001b[1;32m<ipython-input-21-22fbc0bf6a50>\u001b[0m in \u001b[0;36m<module>\u001b[1;34m\u001b[0m\n\u001b[0;32m      1\u001b[0m \u001b[0mval\u001b[0m \u001b[1;33m=\u001b[0m \u001b[1;36m10\u001b[0m\u001b[1;33m\u001b[0m\u001b[1;33m\u001b[0m\u001b[0m\n\u001b[1;32m----> 2\u001b[1;33m \u001b[0mprint\u001b[0m\u001b[1;33m(\u001b[0m\u001b[0mval1\u001b[0m\u001b[1;33m)\u001b[0m\u001b[1;33m\u001b[0m\u001b[1;33m\u001b[0m\u001b[0m\n\u001b[0m",
      "\u001b[1;31mNameError\u001b[0m: name 'val1' is not defined"
     ]
    }
   ],
   "source": [
    "val = 10\n",
    "print(val1)"
   ]
  },
  {
   "cell_type": "code",
   "execution_count": null,
   "metadata": {},
   "outputs": [],
   "source": [
    "#Arguement\n",
    "#function defintion\n",
    "#Function call\n",
    "#return \n",
    "#Function body\n",
    "#Indentation\n",
    "#def keyword\n",
    "#local variable\n",
    "#User def (pre defined) vs inbuilt function\n",
    "#Inbuilt function\n",
    "\n"
   ]
  },
  {
   "cell_type": "code",
   "execution_count": null,
   "metadata": {},
   "outputs": [],
   "source": [
    "#Function def then function function (def priority)\n",
    "#As of now number of args in function call == function def"
   ]
  },
  {
   "cell_type": "code",
   "execution_count": null,
   "metadata": {},
   "outputs": [],
   "source": [
    "#\n",
    "#get two input (string)\n",
    "#\n",
    "#\n",
    "\n",
    "#hello world\n",
    "\n",
    "#howd"
   ]
  },
  {
   "cell_type": "code",
   "execution_count": null,
   "metadata": {},
   "outputs": [],
   "source": [
    "#function to add two numbers\n",
    "#function to add two string\n",
    "#function to add five numbers\n",
    "#function to print \"hello world\"\n",
    "#Function to check palindrome\n",
    "#Function to check prime number\n",
    "#Function to five factorial of a number"
   ]
  },
  {
   "cell_type": "code",
   "execution_count": null,
   "metadata": {},
   "outputs": [],
   "source": []
  }
 ],
 "metadata": {
  "kernelspec": {
   "display_name": "Python 3",
   "language": "python",
   "name": "python3"
  },
  "language_info": {
   "codemirror_mode": {
    "name": "ipython",
    "version": 3
   },
   "file_extension": ".py",
   "mimetype": "text/x-python",
   "name": "python",
   "nbconvert_exporter": "python",
   "pygments_lexer": "ipython3",
   "version": "3.7.6"
  }
 },
 "nbformat": 4,
 "nbformat_minor": 4
}
