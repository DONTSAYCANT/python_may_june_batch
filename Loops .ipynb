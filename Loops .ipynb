{
 "cells": [
  {
   "cell_type": "code",
   "execution_count": null,
   "metadata": {},
   "outputs": [],
   "source": [
    "#in ==> membership operator"
   ]
  },
  {
   "cell_type": "code",
   "execution_count": null,
   "metadata": {},
   "outputs": [],
   "source": [
    "#For loop\n",
    "#While loop"
   ]
  },
  {
   "cell_type": "code",
   "execution_count": 1,
   "metadata": {},
   "outputs": [
    {
     "name": "stdout",
     "output_type": "stream",
     "text": [
      "[1, 4, 5, 6, 7, 8, 10]\n"
     ]
    }
   ],
   "source": [
    "#Loop\n",
    "\n",
    "var = [1,4,5,6,7,8,10]\n",
    "print(var)\n",
    "\n",
    "print(var[0])\n",
    "print(var[1])"
   ]
  },
  {
   "cell_type": "code",
   "execution_count": 6,
   "metadata": {},
   "outputs": [
    {
     "name": "stdout",
     "output_type": "stream",
     "text": [
      "1\n",
      "<class 'int'>\n",
      "140720520602000\n",
      "4\n",
      "<class 'int'>\n",
      "140720520602096\n",
      "5\n",
      "<class 'int'>\n",
      "140720520602128\n",
      "6\n",
      "<class 'int'>\n",
      "140720520602160\n",
      "7\n",
      "<class 'int'>\n",
      "140720520602192\n",
      "8\n",
      "<class 'int'>\n",
      "140720520602224\n",
      "10\n",
      "<class 'int'>\n",
      "140720520602288\n",
      "python\n",
      "<class 'str'>\n",
      "2283215697200\n"
     ]
    }
   ],
   "source": [
    "var = [1,4,5,6,7,8,10,\"python\"]\n",
    "\n",
    "#Iterating a list\n",
    "\n",
    "for variable in var: #local variable\n",
    "    print(variable)\n",
    "    print(type(variable))\n",
    "    print(id(variable))"
   ]
  },
  {
   "cell_type": "code",
   "execution_count": 7,
   "metadata": {},
   "outputs": [
    {
     "name": "stdout",
     "output_type": "stream",
     "text": [
      "1\n",
      "4\n",
      "5\n",
      "6\n",
      "7\n",
      "8\n",
      "10\n",
      "python\n"
     ]
    }
   ],
   "source": [
    "var = (1,4,5,6,7,8,10,\"python\")\n",
    "\n",
    "#Iterating a tuple\n",
    "\n",
    "for variable in var:\n",
    "    print(variable)"
   ]
  },
  {
   "cell_type": "code",
   "execution_count": 8,
   "metadata": {},
   "outputs": [
    {
     "name": "stdout",
     "output_type": "stream",
     "text": [
      "1\n",
      "4\n",
      "5\n",
      "6\n",
      "7\n",
      "8\n",
      "10\n",
      "python\n"
     ]
    }
   ],
   "source": [
    "var = {1,4,5,6,7,8,10,\"python\"}\n",
    "\n",
    "#Iterating a set\n",
    "\n",
    "for variable in var:\n",
    "    print(variable)"
   ]
  },
  {
   "cell_type": "code",
   "execution_count": 9,
   "metadata": {},
   "outputs": [
    {
     "name": "stdout",
     "output_type": "stream",
     "text": [
      "1\n",
      "5\n",
      "7\n",
      "10\n"
     ]
    }
   ],
   "source": [
    "var = {1:4,5:6,7:8,10:\"python\"}\n",
    "\n",
    "#Iterating a dictionary\n",
    "\n",
    "for variable in var:\n",
    "    print(variable)"
   ]
  },
  {
   "cell_type": "code",
   "execution_count": 10,
   "metadata": {},
   "outputs": [
    {
     "name": "stdout",
     "output_type": "stream",
     "text": [
      "1\n",
      "5\n",
      "7\n",
      "10\n"
     ]
    }
   ],
   "source": [
    "for variable in var.keys():\n",
    "    print(variable)"
   ]
  },
  {
   "cell_type": "code",
   "execution_count": 11,
   "metadata": {},
   "outputs": [
    {
     "name": "stdout",
     "output_type": "stream",
     "text": [
      "4\n",
      "6\n",
      "8\n",
      "python\n"
     ]
    }
   ],
   "source": [
    "for variable in var.values():\n",
    "    print(variable)"
   ]
  },
  {
   "cell_type": "code",
   "execution_count": 19,
   "metadata": {},
   "outputs": [
    {
     "name": "stdout",
     "output_type": "stream",
     "text": [
      "(1, 4)\n",
      "(5, 6)\n",
      "(7, 8)\n",
      "(10, 'python')\n"
     ]
    }
   ],
   "source": [
    "for variable in var.items():\n",
    "    print(variable)\n",
    "    #print(variable[0])\n",
    "    #print(variable[-1])"
   ]
  },
  {
   "cell_type": "code",
   "execution_count": null,
   "metadata": {},
   "outputs": [],
   "source": [
    "#Range inbuilt function"
   ]
  },
  {
   "cell_type": "code",
   "execution_count": 20,
   "metadata": {},
   "outputs": [
    {
     "name": "stdout",
     "output_type": "stream",
     "text": [
      "[0, 1, 2, 3, 4]\n"
     ]
    }
   ],
   "source": [
    "a = list(range(5)) #Default\n",
    "\n",
    "print(a)"
   ]
  },
  {
   "cell_type": "code",
   "execution_count": 21,
   "metadata": {},
   "outputs": [
    {
     "name": "stdout",
     "output_type": "stream",
     "text": [
      "[0, 1, 2, 3, 4, 5, 6, 7, 8, 9]\n"
     ]
    }
   ],
   "source": [
    "a = list(range(10)) #Default\n",
    "\n",
    "print(a)"
   ]
  },
  {
   "cell_type": "code",
   "execution_count": 22,
   "metadata": {},
   "outputs": [
    {
     "name": "stdout",
     "output_type": "stream",
     "text": [
      "[100, 101, 102, 103, 104, 105, 106, 107, 108, 109, 110, 111, 112, 113, 114, 115, 116, 117, 118, 119, 120, 121, 122, 123, 124]\n"
     ]
    }
   ],
   "source": [
    "a = list(range(100, 125)) #Default [100:125]\n",
    "\n",
    "print(a)"
   ]
  },
  {
   "cell_type": "code",
   "execution_count": 31,
   "metadata": {},
   "outputs": [
    {
     "name": "stdout",
     "output_type": "stream",
     "text": [
      "[1, 6, 11, 16, 21, 26, 31, 36, 41, 46]\n"
     ]
    }
   ],
   "source": [
    "a = list(range(1,50,5))#It allows only integer [1:50] == [1:50:1]\n",
    "print(a)"
   ]
  },
  {
   "cell_type": "code",
   "execution_count": null,
   "metadata": {},
   "outputs": [],
   "source": [
    "#arange ==> numpy"
   ]
  },
  {
   "cell_type": "code",
   "execution_count": 36,
   "metadata": {},
   "outputs": [
    {
     "name": "stdout",
     "output_type": "stream",
     "text": [
      "[100, 101, 102, 103, 104, 105, 106, 107, 108, 109, 110, 111, 112, 113, 114, 115, 116, 117, 118, 119, 120, 121, 122, 123, 124]\n",
      "[125, 124, 123, 122, 121, 120, 119, 118, 117, 116, 115, 114, 113, 112, 111, 110, 109, 108, 107, 106, 105, 104, 103, 102, 101]\n"
     ]
    }
   ],
   "source": [
    "a = list(range(100,125))\n",
    "print(a)\n",
    "\n",
    "a = list(range(125,100,-1))\n",
    "print(a)"
   ]
  },
  {
   "cell_type": "code",
   "execution_count": 37,
   "metadata": {},
   "outputs": [
    {
     "name": "stdout",
     "output_type": "stream",
     "text": [
      "success\n"
     ]
    }
   ],
   "source": [
    "if 10 in range(1,15):\n",
    "    print(\"success\")"
   ]
  },
  {
   "cell_type": "code",
   "execution_count": 38,
   "metadata": {},
   "outputs": [
    {
     "name": "stdout",
     "output_type": "stream",
     "text": [
      "10\n",
      "11\n",
      "12\n",
      "13\n",
      "14\n"
     ]
    }
   ],
   "source": [
    "for i in range(10,15):\n",
    "    print(i)"
   ]
  },
  {
   "cell_type": "code",
   "execution_count": null,
   "metadata": {},
   "outputs": [],
   "source": [
    "1. Get a dynamic list from user\n",
    "2. Get a dynamic dictionary from user\n",
    "3. print multiples of 5 between 0 to 50 using range function\n"
   ]
  },
  {
   "cell_type": "code",
   "execution_count": 41,
   "metadata": {},
   "outputs": [
    {
     "name": "stdout",
     "output_type": "stream",
     "text": [
      "enter number of elements5\n",
      "enter element1\n",
      "enter element2\n",
      "enter element3\n",
      "enter element4\n",
      "enter element5\n"
     ]
    }
   ],
   "source": [
    "#1. get number of elements from user\n",
    "#Loop through range\n",
    "#append to list/dictionary\n",
    "\n",
    "a = int(input(\"enter number of elements\"))\n",
    "\n",
    "\n",
    "for i in range(a):\n",
    "    val = int(input(\"enter element\"))\n",
    "\n",
    "\n"
   ]
  },
  {
   "cell_type": "code",
   "execution_count": null,
   "metadata": {},
   "outputs": [],
   "source": [
    "#Task 1:\n",
    "\n",
    "Input:\n",
    "Li1 = [3,4,5,2,7,8,9,10]\n",
    "\n",
    "Output:\n",
    "Li_odd = [3,5,7,9]\n",
    "Li_even = [4,2,8,10]\n",
    "\n",
    "#Li1 = [3,4,5,2,7,8,9,10]\n",
    "\n",
    "#Clue\n",
    "\n",
    "for i in Li1:\n",
    "    print(i)\n",
    "    if i % 2 == 0:\n",
    "        print(\"EVEN\")\n",
    "    else:\n",
    "        print(\"ODD\")"
   ]
  },
  {
   "cell_type": "code",
   "execution_count": 2,
   "metadata": {},
   "outputs": [
    {
     "name": "stdout",
     "output_type": "stream",
     "text": [
      "3\n",
      "ODD\n",
      "4\n",
      "EVEN\n",
      "5\n",
      "ODD\n",
      "2\n",
      "EVEN\n",
      "7\n",
      "ODD\n",
      "8\n",
      "EVEN\n",
      "9\n",
      "ODD\n",
      "10\n",
      "EVEN\n"
     ]
    }
   ],
   "source": [
    "#Task2:\n",
    "\n",
    "Input: [-1, -7,8,10,20,21,17,28,-3,0,0,]\n",
    "    \n",
    "Output:\n",
    "neg_LI = [-1,-7,-3]\n",
    "pos_LI = []\n",
    "Zeros = []\n",
    "\n",
    "Numeber of postivie ele: 7\n",
    "Number nega: 3\n",
    "Number of zeros: 2\n",
    "\n",
    "CLue: previous program and len function\n",
    "    "
   ]
  },
  {
   "cell_type": "code",
   "execution_count": null,
   "metadata": {},
   "outputs": [],
   "source": [
    "#Task 3\n",
    "\n",
    "{1:10, 2:11, 3:12, 6:15, 10:21, 12:24, 13:23, 14:23, 18:36, 20:40}\n",
    "\n",
    "\n",
    "key and value ==> even  ==> 3\n",
    "\n",
    "key and value ==> odd  ===> 1\n",
    "\n",
    "#dictionary\n",
    "#items\n",
    "#%2 == 0 or !=0\n",
    "\n",
    "\n",
    "\n"
   ]
  },
  {
   "cell_type": "code",
   "execution_count": 3,
   "metadata": {},
   "outputs": [
    {
     "name": "stdout",
     "output_type": "stream",
     "text": [
      "6.4031242374328485\n",
      "9\n",
      "10\n"
     ]
    }
   ],
   "source": [
    "print(abs(5+4j))\n",
    "\n",
    "print(abs(-9))\n",
    "print(abs(-10))\n",
    "\n",
    "#complex number"
   ]
  },
  {
   "cell_type": "code",
   "execution_count": 4,
   "metadata": {},
   "outputs": [
    {
     "name": "stdout",
     "output_type": "stream",
     "text": [
      "0\n",
      "1\n",
      "2\n",
      "3\n",
      "4\n"
     ]
    }
   ],
   "source": [
    "for i in range(5):\n",
    "    print(i)"
   ]
  },
  {
   "cell_type": "code",
   "execution_count": 6,
   "metadata": {},
   "outputs": [
    {
     "name": "stdout",
     "output_type": "stream",
     "text": [
      "1\n",
      "2\n",
      "3\n",
      "4\n",
      "5\n",
      "6\n",
      "7\n",
      "8\n",
      "9\n",
      "Main\n"
     ]
    }
   ],
   "source": [
    "#while loop  ===> Based on condition\n",
    "\n",
    "\n",
    "a = 1\n",
    "\n",
    "\n",
    "\n",
    "while a < 10:\n",
    "    print(a)\n",
    "    a = a + 1 #Infinite loop\n",
    "print(\"Main\")\n",
    "    \n",
    "    \n"
   ]
  },
  {
   "cell_type": "code",
   "execution_count": null,
   "metadata": {},
   "outputs": [],
   "source": [
    "Get two inputs from user\n",
    "\n",
    "11  25\n",
    "\n",
    "print all numbers between first and second while loop\n",
    "\n",
    "print numbers in descending order\n",
    "\n",
    "print numbers multiples of three\n",
    "\n"
   ]
  },
  {
   "cell_type": "code",
   "execution_count": 7,
   "metadata": {},
   "outputs": [
    {
     "name": "stdout",
     "output_type": "stream",
     "text": [
      "Enter start number20\n",
      "Eneter End number35\n",
      "21\n",
      "22\n",
      "23\n",
      "24\n",
      "25\n",
      "26\n",
      "27\n",
      "28\n",
      "29\n",
      "30\n",
      "31\n",
      "32\n",
      "33\n",
      "34\n",
      "35\n",
      "Exit\n"
     ]
    }
   ],
   "source": [
    "a = int(input(\"Enter start number\"))\n",
    "b = int(input(\"Eneter End number\"))\n",
    "\n",
    "while a < b:\n",
    "    a = a+1\n",
    "    print(a)\n",
    "print(\"Exit\")\n"
   ]
  },
  {
   "cell_type": "code",
   "execution_count": null,
   "metadata": {},
   "outputs": [],
   "source": [
    "#while loop programs:\n",
    "\n"
   ]
  },
  {
   "cell_type": "code",
   "execution_count": 9,
   "metadata": {},
   "outputs": [
    {
     "name": "stdout",
     "output_type": "stream",
     "text": [
      "give your numb24\n",
      "give your num12\n",
      "23\n",
      "22\n",
      "21\n",
      "20\n",
      "19\n",
      "18\n",
      "17\n",
      "16\n",
      "15\n",
      "14\n",
      "13\n",
      "12\n",
      "exit\n"
     ]
    }
   ],
   "source": [
    "a = int (input(\"give your numb\"))\n",
    "b = int (input(\"give your num\"))\n",
    "while b < a:\n",
    "    a = a - 1\n",
    "    print(a)\n",
    "print(\"exit\")\n"
   ]
  },
  {
   "cell_type": "code",
   "execution_count": null,
   "metadata": {},
   "outputs": [],
   "source": [
    "#Factorial\n",
    "#Fibonacci\n",
    "#armstrong number\n",
    "#prime number\n",
    "\n"
   ]
  },
  {
   "cell_type": "code",
   "execution_count": null,
   "metadata": {},
   "outputs": [],
   "source": [
    "a = [8, 9 ,7 ,3, 5, 4]\n",
    "\n"
   ]
  },
  {
   "cell_type": "code",
   "execution_count": 7,
   "metadata": {},
   "outputs": [
    {
     "name": "stdout",
     "output_type": "stream",
     "text": [
      "8\n",
      "Main\n",
      "5\n"
     ]
    }
   ],
   "source": [
    "#Break continue pass ===> loop controls\n",
    "\n",
    "a = [8, 5, 9 ,7 ,3, 4]\n",
    "\n",
    "\n",
    "#Break\n",
    "\n",
    "for i in a: \n",
    "    print(i)\n",
    "    if i == 5:\n",
    "        break\n",
    "    print(\"Main\")\n",
    "        \n",
    "\n"
   ]
  },
  {
   "cell_type": "code",
   "execution_count": 4,
   "metadata": {},
   "outputs": [
    {
     "name": "stdout",
     "output_type": "stream",
     "text": [
      "1\n",
      "2\n",
      "3\n",
      "4\n",
      "5\n",
      "6\n",
      "7\n"
     ]
    }
   ],
   "source": [
    "a = 1\n",
    "\n",
    "while a < 10:\n",
    "    print(a)\n",
    "    \n",
    "    if a % 7 == 0:\n",
    "        break\n",
    "    a = a + 1"
   ]
  },
  {
   "cell_type": "code",
   "execution_count": 6,
   "metadata": {},
   "outputs": [
    {
     "name": "stdout",
     "output_type": "stream",
     "text": [
      "0\n"
     ]
    }
   ],
   "source": [
    "for i in range(5):\n",
    "    print(i)\n",
    "    break"
   ]
  },
  {
   "cell_type": "code",
   "execution_count": 8,
   "metadata": {},
   "outputs": [
    {
     "name": "stdout",
     "output_type": "stream",
     "text": [
      "8\n",
      "Main\n",
      "9\n",
      "Main\n",
      "7\n",
      "Main\n",
      "3\n",
      "Main\n",
      "5\n",
      "4\n",
      "Main\n"
     ]
    }
   ],
   "source": [
    "\n",
    "a = [8, 9 ,7 ,3, 5, 4]\n",
    "\n",
    "for i in a: \n",
    "    print(i)\n",
    "    if i == 5:\n",
    "        continue\n",
    "    print(\"Main\")\n",
    "        "
   ]
  },
  {
   "cell_type": "code",
   "execution_count": 5,
   "metadata": {},
   "outputs": [
    {
     "name": "stdout",
     "output_type": "stream",
     "text": [
      "2\n",
      "while loop\n",
      "3\n",
      "while loop\n",
      "4\n",
      "while loop\n",
      "5\n",
      "while loop\n",
      "6\n",
      "while loop\n",
      "7\n",
      "while loop\n",
      "8\n",
      "while loop\n",
      "9\n",
      "10\n",
      "while loop\n",
      "11\n",
      "while loop\n",
      "12\n",
      "while loop\n",
      "13\n",
      "while loop\n",
      "14\n",
      "while loop\n",
      "15\n",
      "while loop\n"
     ]
    }
   ],
   "source": [
    "val = 1\n",
    "\n",
    "while val < 15:\n",
    "    val = val + 1\n",
    "    print(val)\n",
    "    if val == 9:\n",
    "        continue\n",
    "    print(\"while loop\")"
   ]
  },
  {
   "cell_type": "code",
   "execution_count": 8,
   "metadata": {},
   "outputs": [
    {
     "name": "stdout",
     "output_type": "stream",
     "text": [
      "Value 2\n"
     ]
    }
   ],
   "source": [
    "#Pass\n",
    "\n",
    "val = 5\n",
    "\n",
    "if val < 0:\n",
    "    pass\n",
    "    #print(\"value 1\")\n",
    "elif val == 5:\n",
    "    print(\"Value 2\")\n",
    "else:\n",
    "    print(\"Nothing\")\n",
    "    "
   ]
  },
  {
   "cell_type": "code",
   "execution_count": 11,
   "metadata": {},
   "outputs": [
    {
     "name": "stdout",
     "output_type": "stream",
     "text": [
      "0\n",
      "1\n",
      "2\n",
      "3\n",
      "4\n"
     ]
    }
   ],
   "source": [
    "for i in range(5):\n",
    "    print(i)\n",
    "    if i == 3:\n",
    "        pass"
   ]
  },
  {
   "cell_type": "code",
   "execution_count": 17,
   "metadata": {},
   "outputs": [
    {
     "name": "stdout",
     "output_type": "stream",
     "text": [
      "1\n",
      "For block\n",
      "2\n",
      "For block\n",
      "3\n",
      "For block\n"
     ]
    }
   ],
   "source": [
    "#For else\n",
    "\n",
    "a = [1,2,3,5,6,11,0]\n",
    "\n",
    "for i in a:\n",
    "    print(i)\n",
    "    print(\"For block\")\n",
    "    if i == 3:\n",
    "        break\n",
    "else:\n",
    "    print(\"else block\")\n",
    "    \n",
    "#For else : it will check whether loop is completlely finished \n",
    "#Prime number\n",
    "\n"
   ]
  },
  {
   "cell_type": "code",
   "execution_count": 2,
   "metadata": {},
   "outputs": [
    {
     "name": "stdout",
     "output_type": "stream",
     "text": [
      "1\n",
      "2\n",
      "3\n",
      "4\n",
      "5\n",
      "6\n",
      "7\n",
      "8\n",
      "9\n",
      "Loops is completed\n"
     ]
    }
   ],
   "source": [
    "#while else\n",
    "\n",
    "a = 1\n",
    "\n",
    "while a < 10:\n",
    "    print(a)\n",
    "    a = a + 1\n",
    "else:\n",
    "    print(\"Loops is completed\")\n",
    "\n"
   ]
  },
  {
   "cell_type": "code",
   "execution_count": 3,
   "metadata": {},
   "outputs": [
    {
     "name": "stdout",
     "output_type": "stream",
     "text": [
      "1\n",
      "2\n",
      "3\n",
      "4\n",
      "5\n",
      "6\n"
     ]
    }
   ],
   "source": [
    "a = 1\n",
    "\n",
    "while a < 10:\n",
    "    print(a)\n",
    "    a = a + 1\n",
    "    if a == 7:\n",
    "        break\n",
    "else:\n",
    "    print(\"Loops is completed\")\n"
   ]
  },
  {
   "cell_type": "code",
   "execution_count": null,
   "metadata": {},
   "outputs": [],
   "source": []
  },
  {
   "cell_type": "code",
   "execution_count": null,
   "metadata": {},
   "outputs": [],
   "source": [
    "#program1:\n",
    "    \n",
    "#Get one dynamic list from user\n",
    "\n",
    "#10 [0,6,5,-3,4,5,3,-2,4,0]\n",
    "\n",
    "#count ==> no of zeros, no of positive values, no of negative values, no of odd numbers, number of even numbers\n",
    "#print the elements\n",
    "\n",
    "#program2:\n",
    "\n",
    "#Using while loop print multiples of 5 from 10 to 75\n",
    "#Using while loop print multiples of 8 from 100 to 72\n",
    "\n",
    "#Using for loop print multiples of 5 from 10 to 75\n",
    "#Using for loop print multiples of 8 from 100 to 72\n",
    "\n",
    "#program3:\n",
    "\n",
    "#two numbers from user 2 25\n",
    "#2 \n",
    "#3  fizz\n",
    "#4\n",
    "#15\n",
    "#16\n",
    "#25\n",
    "\n",
    "#multiple of 3 ==> fizz\n",
    "#multiple of 5 ==> buzz\n",
    "#multiple of 3 and 5 ==> fizzbuzz\n",
    "#Others ===> No fizz and buzz\n",
    "\n",
    "#Including last number\n",
    "\n",
    "#program 4\n",
    "\n",
    "#check whether it's prime or no\n",
    "\n",
    "#10\n",
    "\n",
    "#2 up to 10 ===> 2,3,4,5,6,7,8,9\n",
    "\n",
    "3 % 2\n",
    "\n",
    "#4 \n",
    "#2,3\n",
    "\n",
    "7 ===> 7 2 3 4 5 6 \n",
    "10 ==> 2 3 4 5 6 \n",
    "\n",
    "#for else stmt\n",
    "\n",
    "#program5: list of prime numbers in a range\n",
    "\n",
    "#range  10 50  100 50\n",
    "\n",
    "#op ==> prime ==> []\n",
    "#non prime ==> []\n",
    "\n",
    "#program 6\n",
    "\n",
    "#get one integer from user\n",
    "#armstrong or no (using loops)\n",
    "\n",
    "#153 ===> 1^3 + 5^3 + 3^3\n",
    "#370 ===> 3^3 + 7^3 + 0^3\n",
    "#371 ====> 3^3 + 7^3 + 1^3\n",
    "\n",
    "#program 7\n",
    "\n",
    "5\n",
    "\n",
    "#Fibonacci series\n",
    "\n",
    "0 1 1 2 3 5 8 13 21 ...\n",
    "\n",
    "0 1 1 2 3 5 8 13 21 34 55 89 144...\n",
    "\n",
    "#while loop\n",
    "#append\n",
    "#add list[-1] + list[-2] ==> append\n",
    "\n",
    "#what is 10th fibonacci number 34\n",
    "\n",
    "#program 8\n",
    "\n",
    "Factorial number\n",
    "\n",
    "5 ==> 5 * 4 * 3* 2 * 1\n",
    "120\n",
    "\n",
    "while decrease \n",
    "multiply\n",
    "\n",
    "#program 9\n",
    "\n",
    "#get one number from user\n",
    "\n",
    "345  3 + 4 + 5 ==> 12\n",
    "\n",
    "#Should not convert in to string \n",
    "\n",
    "int(input())\n",
    "\n",
    "345\n",
    "\n",
    "% 10 ==> 5 4 3\n",
    "// 10 ==> 34 3 0\n",
    "\n",
    "#program 10\n",
    "\n",
    "345 3 * 4* 5==> 60\n",
    "\n",
    "#Should not convert in to string \n",
    "#if 0 available convert it in to 1\n",
    "\n",
    "#Program 11\n",
    "\n",
    "#multiples of a number \n",
    "\n",
    "#Get one integer from the user\n",
    "#9 ==> 1,3,9\n",
    "#11 ==> 1,11\n",
    "#25 ==> 1,5,25\n",
    "\n",
    "#Program 12\n",
    "\n",
    "#multiples of a number \n",
    "\n",
    "#Get range integer from the user ==> 10 35\n",
    "\n",
    "#Number with maximum multipliers\n",
    "#20 ==> 1,2,4,5,10,20\n",
    "#24 ==> 1,2,3,4,6,8,12\n",
    "\n",
    "#program 13\n",
    "\n",
    "#Number with minimum multiplier\n",
    "\n",
    "#program 14\n",
    "\n",
    "#Anagram ===> check whether given string is anagram or no\n",
    "\n",
    "#Two input strings\n",
    "#pot\n",
    "#top\n",
    "\n",
    "#top\n",
    "#pto\n",
    "\n",
    "#program 15:\n",
    "\n",
    "#Square numbers\n",
    "\n",
    "#range from the user 10 90\n",
    "\n",
    "#4,5,6,7,8,9\n",
    "\n",
    "#5 and 8 ===> 0\n",
    "\n",
    "#op ==> list of square numbers and number of square numbers\n",
    "\n"
   ]
  },
  {
   "cell_type": "code",
   "execution_count": 5,
   "metadata": {},
   "outputs": [
    {
     "name": "stdout",
     "output_type": "stream",
     "text": [
      "[2, 3, 4, 5, 6, 7, 8, 9, 10, 11, 12, 13, 14]\n"
     ]
    }
   ],
   "source": [
    "a= list(range(2,15))\n",
    "print(a)"
   ]
  },
  {
   "cell_type": "code",
   "execution_count": null,
   "metadata": {},
   "outputs": [],
   "source": []
  },
  {
   "cell_type": "code",
   "execution_count": null,
   "metadata": {},
   "outputs": [],
   "source": []
  }
 ],
 "metadata": {
  "kernelspec": {
   "display_name": "Python 3",
   "language": "python",
   "name": "python3"
  },
  "language_info": {
   "codemirror_mode": {
    "name": "ipython",
    "version": 3
   },
   "file_extension": ".py",
   "mimetype": "text/x-python",
   "name": "python",
   "nbconvert_exporter": "python",
   "pygments_lexer": "ipython3",
   "version": "3.7.6"
  }
 },
 "nbformat": 4,
 "nbformat_minor": 4
}
