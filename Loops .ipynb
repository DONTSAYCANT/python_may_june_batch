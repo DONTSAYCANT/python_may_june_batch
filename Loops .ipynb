{
 "cells": [
  {
   "cell_type": "code",
   "execution_count": null,
   "metadata": {},
   "outputs": [],
   "source": [
    "#in ==> membership operator"
   ]
  },
  {
   "cell_type": "code",
   "execution_count": null,
   "metadata": {},
   "outputs": [],
   "source": [
    "#For loop\n",
    "#While loop"
   ]
  },
  {
   "cell_type": "code",
   "execution_count": 1,
   "metadata": {},
   "outputs": [
    {
     "name": "stdout",
     "output_type": "stream",
     "text": [
      "[1, 4, 5, 6, 7, 8, 10]\n"
     ]
    }
   ],
   "source": [
    "#Loop\n",
    "\n",
    "var = [1,4,5,6,7,8,10]\n",
    "print(var)\n",
    "\n",
    "print(var[0])\n",
    "print(var[1])"
   ]
  },
  {
   "cell_type": "code",
   "execution_count": 6,
   "metadata": {},
   "outputs": [
    {
     "name": "stdout",
     "output_type": "stream",
     "text": [
      "1\n",
      "<class 'int'>\n",
      "140720520602000\n",
      "4\n",
      "<class 'int'>\n",
      "140720520602096\n",
      "5\n",
      "<class 'int'>\n",
      "140720520602128\n",
      "6\n",
      "<class 'int'>\n",
      "140720520602160\n",
      "7\n",
      "<class 'int'>\n",
      "140720520602192\n",
      "8\n",
      "<class 'int'>\n",
      "140720520602224\n",
      "10\n",
      "<class 'int'>\n",
      "140720520602288\n",
      "python\n",
      "<class 'str'>\n",
      "2283215697200\n"
     ]
    }
   ],
   "source": [
    "var = [1,4,5,6,7,8,10,\"python\"]\n",
    "\n",
    "#Iterating a list\n",
    "\n",
    "for variable in var: #local variable\n",
    "    print(variable)\n",
    "    print(type(variable))\n",
    "    print(id(variable))"
   ]
  },
  {
   "cell_type": "code",
   "execution_count": 7,
   "metadata": {},
   "outputs": [
    {
     "name": "stdout",
     "output_type": "stream",
     "text": [
      "1\n",
      "4\n",
      "5\n",
      "6\n",
      "7\n",
      "8\n",
      "10\n",
      "python\n"
     ]
    }
   ],
   "source": [
    "var = (1,4,5,6,7,8,10,\"python\")\n",
    "\n",
    "#Iterating a tuple\n",
    "\n",
    "for variable in var:\n",
    "    print(variable)"
   ]
  },
  {
   "cell_type": "code",
   "execution_count": 8,
   "metadata": {},
   "outputs": [
    {
     "name": "stdout",
     "output_type": "stream",
     "text": [
      "1\n",
      "4\n",
      "5\n",
      "6\n",
      "7\n",
      "8\n",
      "10\n",
      "python\n"
     ]
    }
   ],
   "source": [
    "var = {1,4,5,6,7,8,10,\"python\"}\n",
    "\n",
    "#Iterating a set\n",
    "\n",
    "for variable in var:\n",
    "    print(variable)"
   ]
  },
  {
   "cell_type": "code",
   "execution_count": 9,
   "metadata": {},
   "outputs": [
    {
     "name": "stdout",
     "output_type": "stream",
     "text": [
      "1\n",
      "5\n",
      "7\n",
      "10\n"
     ]
    }
   ],
   "source": [
    "var = {1:4,5:6,7:8,10:\"python\"}\n",
    "\n",
    "#Iterating a dictionary\n",
    "\n",
    "for variable in var:\n",
    "    print(variable)"
   ]
  },
  {
   "cell_type": "code",
   "execution_count": 10,
   "metadata": {},
   "outputs": [
    {
     "name": "stdout",
     "output_type": "stream",
     "text": [
      "1\n",
      "5\n",
      "7\n",
      "10\n"
     ]
    }
   ],
   "source": [
    "for variable in var.keys():\n",
    "    print(variable)"
   ]
  },
  {
   "cell_type": "code",
   "execution_count": 11,
   "metadata": {},
   "outputs": [
    {
     "name": "stdout",
     "output_type": "stream",
     "text": [
      "4\n",
      "6\n",
      "8\n",
      "python\n"
     ]
    }
   ],
   "source": [
    "for variable in var.values():\n",
    "    print(variable)"
   ]
  },
  {
   "cell_type": "code",
   "execution_count": 19,
   "metadata": {},
   "outputs": [
    {
     "name": "stdout",
     "output_type": "stream",
     "text": [
      "(1, 4)\n",
      "(5, 6)\n",
      "(7, 8)\n",
      "(10, 'python')\n"
     ]
    }
   ],
   "source": [
    "for variable in var.items():\n",
    "    print(variable)\n",
    "    #print(variable[0])\n",
    "    #print(variable[-1])"
   ]
  },
  {
   "cell_type": "code",
   "execution_count": null,
   "metadata": {},
   "outputs": [],
   "source": [
    "#Range inbuilt function"
   ]
  },
  {
   "cell_type": "code",
   "execution_count": 20,
   "metadata": {},
   "outputs": [
    {
     "name": "stdout",
     "output_type": "stream",
     "text": [
      "[0, 1, 2, 3, 4]\n"
     ]
    }
   ],
   "source": [
    "a = list(range(5)) #Default\n",
    "\n",
    "print(a)"
   ]
  },
  {
   "cell_type": "code",
   "execution_count": 21,
   "metadata": {},
   "outputs": [
    {
     "name": "stdout",
     "output_type": "stream",
     "text": [
      "[0, 1, 2, 3, 4, 5, 6, 7, 8, 9]\n"
     ]
    }
   ],
   "source": [
    "a = list(range(10)) #Default\n",
    "\n",
    "print(a)"
   ]
  },
  {
   "cell_type": "code",
   "execution_count": 22,
   "metadata": {},
   "outputs": [
    {
     "name": "stdout",
     "output_type": "stream",
     "text": [
      "[100, 101, 102, 103, 104, 105, 106, 107, 108, 109, 110, 111, 112, 113, 114, 115, 116, 117, 118, 119, 120, 121, 122, 123, 124]\n"
     ]
    }
   ],
   "source": [
    "a = list(range(100, 125)) #Default [100:125]\n",
    "\n",
    "print(a)"
   ]
  },
  {
   "cell_type": "code",
   "execution_count": 31,
   "metadata": {},
   "outputs": [
    {
     "name": "stdout",
     "output_type": "stream",
     "text": [
      "[1, 6, 11, 16, 21, 26, 31, 36, 41, 46]\n"
     ]
    }
   ],
   "source": [
    "a = list(range(1,50,5))#It allows only integer [1:50] == [1:50:1]\n",
    "print(a)"
   ]
  },
  {
   "cell_type": "code",
   "execution_count": null,
   "metadata": {},
   "outputs": [],
   "source": [
    "#arange ==> numpy"
   ]
  },
  {
   "cell_type": "code",
   "execution_count": 36,
   "metadata": {},
   "outputs": [
    {
     "name": "stdout",
     "output_type": "stream",
     "text": [
      "[100, 101, 102, 103, 104, 105, 106, 107, 108, 109, 110, 111, 112, 113, 114, 115, 116, 117, 118, 119, 120, 121, 122, 123, 124]\n",
      "[125, 124, 123, 122, 121, 120, 119, 118, 117, 116, 115, 114, 113, 112, 111, 110, 109, 108, 107, 106, 105, 104, 103, 102, 101]\n"
     ]
    }
   ],
   "source": [
    "a = list(range(100,125))\n",
    "print(a)\n",
    "\n",
    "a = list(range(125,100,-1))\n",
    "print(a)"
   ]
  },
  {
   "cell_type": "code",
   "execution_count": 37,
   "metadata": {},
   "outputs": [
    {
     "name": "stdout",
     "output_type": "stream",
     "text": [
      "success\n"
     ]
    }
   ],
   "source": [
    "if 10 in range(1,15):\n",
    "    print(\"success\")"
   ]
  },
  {
   "cell_type": "code",
   "execution_count": 38,
   "metadata": {},
   "outputs": [
    {
     "name": "stdout",
     "output_type": "stream",
     "text": [
      "10\n",
      "11\n",
      "12\n",
      "13\n",
      "14\n"
     ]
    }
   ],
   "source": [
    "for i in range(10,15):\n",
    "    print(i)"
   ]
  },
  {
   "cell_type": "code",
   "execution_count": null,
   "metadata": {},
   "outputs": [],
   "source": [
    "1. Get a dynamic list from user\n",
    "2. Get a dynamic dictionary from user\n",
    "3. print multiples of 5 between 0 to 50 using range function\n"
   ]
  },
  {
   "cell_type": "code",
   "execution_count": 41,
   "metadata": {},
   "outputs": [
    {
     "name": "stdout",
     "output_type": "stream",
     "text": [
      "enter number of elements5\n",
      "enter element1\n",
      "enter element2\n",
      "enter element3\n",
      "enter element4\n",
      "enter element5\n"
     ]
    }
   ],
   "source": [
    "#1. get number of elements from user\n",
    "#Loop through range\n",
    "#append to list/dictionary\n",
    "\n",
    "a = int(input(\"enter number of elements\"))\n",
    "\n",
    "\n",
    "for i in range(a):\n",
    "    val = int(input(\"enter element\"))\n",
    "\n",
    "\n"
   ]
  },
  {
   "cell_type": "code",
   "execution_count": null,
   "metadata": {},
   "outputs": [],
   "source": []
  },
  {
   "cell_type": "code",
   "execution_count": null,
   "metadata": {},
   "outputs": [],
   "source": []
  }
 ],
 "metadata": {
  "kernelspec": {
   "display_name": "Python 3",
   "language": "python",
   "name": "python3"
  },
  "language_info": {
   "codemirror_mode": {
    "name": "ipython",
    "version": 3
   },
   "file_extension": ".py",
   "mimetype": "text/x-python",
   "name": "python",
   "nbconvert_exporter": "python",
   "pygments_lexer": "ipython3",
   "version": "3.7.6"
  }
 },
 "nbformat": 4,
 "nbformat_minor": 4
}
